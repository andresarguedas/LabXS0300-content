{
 "cells": [
  {
   "cell_type": "markdown",
   "metadata": {
    "deletable": false,
    "editable": false,
    "nbgrader": {
     "cell_type": "markdown",
     "checksum": "b1e2d046eb59061270b93d1ccc22d6a9",
     "grade": false,
     "grade_id": "header",
     "locked": true,
     "schema_version": 3,
     "solution": false,
     "task": false
    }
   },
   "source": [
    "# <span style=\"color: blue\">Laboratorio 3: Medidas de posición y variabilidad</span> <a class=\"tocSkip\"> \n",
    "\n",
    "### <span style=\"color: green\">Prof. Andrés Arguedas - XS-0300 - II 2020</span> <a class=\"tocSkip\"> \n",
    "\n",
    "*Este laboratorio es parte del curso XS-0300 Estadística para Biología I de la Escuela de Estadística de la Universidad de Costa Rica, y se presenta con una licencia [CC-BY-SA 4.0](https://creativecommons.org/licenses/by-sa/4.0/).*\n",
    "\n",
    "**ATENCIÓN:** Antes de entregar este laboratorio, asegúrese que todo corre como se espera. Para hacer esto, primero **reinice el kernel**, esto lo puede hacer seleccionado **Kernel** en el menú y luego **Restart**. Habiendo reiniciado el kernel, **corra todas las celdas**, esto lo puede hacer seleccionando **Cell** en el menú y luego **Run All**.\n",
    "\n",
    "Por último, recuerde rellenar cualquier lugar donde diga `ESCRIBA SU CÓDIGO AQUÍ` o \"ESCRIBA SU RESPUESTA AQUI\", así como escribir su nombre y carné a continuación:"
   ]
  },
  {
   "cell_type": "code",
   "execution_count": null,
   "metadata": {},
   "outputs": [],
   "source": [
    "NOMBRE = \"\"\n",
    "CARNE = \"\""
   ]
  },
  {
   "cell_type": "markdown",
   "metadata": {},
   "source": [
    "---\n",
    "\n",
    "## Preparación para este laboratorio\n",
    "    \n",
    "El presente laboratorio tiene como objetivos de aprendizaje:\n",
    "    \n",
    "1. Aprender como calcular las medidas de posición y variabilidad vistas en clases utilizando R\n",
    "2. Crear boxplots (gráficos de cajas), utilizando las capacidades base de R y de `ggplot2`, para poder comparar grupos de datos\n",
    "3. Entender la utilidad y funcionalidad de los comandos `group_by()` y `summarise()` del paquete `dplyr` para poder calcular medidas de posición y variabilidad entre grupos\n",
    "4. Conocer sobre el paquete `tidyr` y la función `gather()` para crear medidas de resumen de todas las variables de un conjunto de datos\n",
    "\n",
    "En este laboratorio utilizaremos el conjunto de datos de `arboles`, junto con los paquetes `ggplot2`, `readr`, `dplyr` y `tidyr`. Ya todos estos paquetes están descargados y disponibles en el entorno virtual, al igual que el conjunto de datos, por lo que no es necesario que descarguen o consigan ningún paquete o conjunto de datos adicional, todos ya están disponibles.\n",
    "\n",
    "---"
   ]
  },
  {
   "cell_type": "markdown",
   "metadata": {},
   "source": [
    "## Preguntas iniciales\n",
    "\n",
    "Antes de empezar el laboratorio, intente contestar las siguientes preguntas: *(las respuestas las puede desplegar dando click sobre la pregunta)*\n",
    "\n",
    "1. <details>\n",
    "    <summary><b>¿Qué medidas de posición, o centro, conocemos?</b></summary>\n",
    "    \n",
    "    Las medidas de posición que conocemos son las siguientes:\n",
    "    <ul>\n",
    "        <li>Moda</li>\n",
    "        <li>Media o promedio</li>\n",
    "        <li>Mediana (junto con los percentiles)</li>\n",
    "    </ul>\n",
    "    \n",
    "    La moda, aunque la vamos a utilizar sobre todo para estudiar la forma de una distribución mediante el histograma, es el valor más frecuente entre los datos. La media, o promedio, es un valor central dado que todos la distancia de todos los valores al promedio suma 0, es decir, los datos que son mayores que el promedio están a la misma distancia que los datos que están por debajo del promedio. Por último, la mediana es el valor que nos logra partir el conjunto de datos en dos partes iguales, de un 50% cada una. \n",
    "    </details>\n",
    "\n",
    "\n",
    "2. <details>\n",
    "    <summary><b>¿Cuál es la diferencia entre la media y la mediana?</b></summary>\n",
    "    \n",
    "    A parte de su forma de cálculo, la media representa un punto medio de distancias, mientras que la mediana representa un punto medio dado que parte el conjunto de datos en dos partes iguales. Por lo anterior, la interpretación del promedio no es tan intuitiva y, por lo general, no la vamos a dar, mientras que la mediana la podemos interpretar como que un 50% de los datos son menores o iguales a la mediana, mientras que el otro 50% son mayores o iguales a la mediana. Por último, la mediana es más robusta ante la presencia de valores extremos, dado que su valor no debería cambiar considerablemente si hay valores muy grandes o muy pequeños, a diferencia del promedio.\n",
    "    \n",
    "    </details>\n",
    "   \n",
    "   \n",
    "3. <details>\n",
    "    <summary><b>¿Qué medidas de variabilidad conocemos?</b></summary>\n",
    "    \n",
    "    Las medidas de variabilidad que conocemos son:\n",
    "    <ul>\n",
    "        <li>Rango</li>\n",
    "        <li>Rango intercuartil (RIC)</li>\n",
    "        <li>Variancia y desviación estándar</li>\n",
    "        <li>Coeficiente de variación</li>\n",
    "    </ul>\n",
    "    \n",
    "    El rango es la diferencia entre el valor más grande (máximo) y el más pequeño (mínimo) por lo que, aunque fácil de calcular e interpretar, es muy sensible a la presencia de valores extremos y puede verse afectado por el tamaño de la muestra. El rango intercuartil busca solventar algunos de los problemas del rango, calculando la diferencia entre el cuartil 3 y 1 (percentiles 75 y 25 respectivamente). Por otro lado, la variancia está basado en el promedio y calcula la suma de las diferencias de los datos, con respecto al promedio, elevados al cuadrado y divididos entre la cantidad de datos menos uno. Aunque la variancia tiene ventajas en términos matemáticos, no tiene una interpretación y las unidades que utiliza están al cuadrado. Por este inconveniente, se le puede sacar la raíz cuadrada a la variancia, para obtener así la desviación estándar, que aunque tampoco la interpretamos, si tiene las unidades de medición originales. Por último, si queremos realizar comparaciones entre variables con unidades de medición diferentes, o con magnitudes distintas, podemos hacer uso del coeficiente de variación, el cual nos devuelve una medida de variabilidad relativa, ideal para poder realizar comparaciones sin necesidad de unidades de medición.\n",
    "    </details>\n",
    "    \n",
    "\n",
    "---"
   ]
  },
  {
   "cell_type": "markdown",
   "metadata": {},
   "source": [
    "## Conjunto de datos `arboles`\n",
    "\n",
    "Para este laboratorio usaremos el conjunto de datos `arboles.csv`, utilizado en el laboratorio 2, y el cual contiene los datos correspondientes al artículo [*Contrasting patterns of leaf trait variation among and within species during tropical dry forest succession in Costa Rica* (Derroire, et. al. 2018)](https://doi.org/10.1038/s41598-017-18525-1). Recordemos que estos datos corresponden a las observaciones de diversas variables para una serie de árboles medidas en el país, tomando, entre otras variables, la especie y la parte del bosque donde estaba ubicada el árbol. Las variables presentes en el conjunto de datos son las siguientes:\n",
    "\n",
    "- `IDtree`: ID del árbol\n",
    "- `plot`: ID de la parcela\n",
    "- `forest_type`: tipo de bosque (**OAK** para bosque con robles y **MIX** para bosques con varias especies)\n",
    "- `sp`: código de la especie\n",
    "- `height`: la altura, codificada, en metros\n",
    "- `CII`: índice de iluminación de la corona\n",
    "- `thick`: grosor de la hoja ($mm$)\n",
    "- `petiol`: largo del peciolo ($mm$)\n",
    "- `compound`: compostura de la hoja (**0** para simple, **1** para unipenado y **2** para bipenado)\n",
    "- `pubes`: pubescencia de la hoja (**Si** o **No**)\n",
    "- `LA`: area de la hoja (${cm}^2$)\n",
    "- `SLA`: area específica de la hoja (${cm}^2 / g$)\n",
    "- `LDMC`: contenido de matería de la hoja seca ($mg / g$)\n",
    "- `dens`: densidad de la hoja ($g / {cm}^3$)\n",
    "- `pheno`: habitat fenológico (**deciduous**, **evergreen** o **semideciduous**)\n",
    "- `P`: concentración de fósforo en la hoja ($mg / g$)\n",
    "- `C`: concentración de carbono en la hoja ($mg / g$)\n",
    "- `N`: concentración de nitrógeno en la hoja ($mg / g$)\n",
    "- `CN`: razón de carbono con nitrógeno en la hoja\n",
    "- `NP`: razón de nitrógeno con fósforo en la hoja\n",
    "- `Legum`: pertenencia a las Fabaceaes (**Sí** o **No**)\n",
    "\n",
    "---\n",
    "\n",
    "### Cargando los datos a R junto con las correcciones\n",
    "\n",
    "Dado que en el laboratorio anterior ya vimos como cargar estos datos y los cambios necesarios en las variables, vamos a empezar haciendo estos pasos de un solo. Si en algún momento no les queda claro porqué estamos realizando algún comando para modificar el conjunto de datos, pueden volver a revisar el laboratorio 2, o preguntarme. Procedamos a cargar los datos y realizar los cambios correspondientes:"
   ]
  },
  {
   "cell_type": "code",
   "execution_count": null,
   "metadata": {},
   "outputs": [],
   "source": [
    "library(readr)\n",
    "library(dplyr)\n",
    "arboles <- read_csv(\"data/arboles.csv\")\n",
    "\n",
    "arboles <- arboles %>% select(-IDtree, -heigth) %>% \n",
    "  mutate(forest_type = factor(forest_type),\n",
    "         sp = factor(sp),\n",
    "         pubes = factor(pubes),\n",
    "         pheno = factor(pheno),\n",
    "         Legum = factor(Legum),\n",
    "         plot = factor(plot),\n",
    "         compound = factor(compound))"
   ]
  },
  {
   "cell_type": "markdown",
   "metadata": {},
   "source": [
    "Recordemos que para poder utilizar la función `read_csv()` ocupamos cargar el paquete `readr` y, para poder utilizar tanto los pipes como las demás funciones para modificar el conjunto de datos, necesitamos cargar `dplyr`. \n",
    "\n",
    "### El comando `summary()` como primer acercamiento\n",
    "\n",
    "Dado que ya hemos cargado los datos, podemos hacer uso de la función `summary()` para tener una idea inicial sobre los datos:"
   ]
  },
  {
   "cell_type": "code",
   "execution_count": null,
   "metadata": {},
   "outputs": [],
   "source": [
    "summary(arboles)"
   ]
  },
  {
   "cell_type": "markdown",
   "metadata": {},
   "source": [
    "Aunque en el laboratorio anterior habíamos visto por encima lo que hace el comando `summary()`, ahora lo podemos analizar con mayor detalle. Como nota general, a lo largo del laboratorio la variable que más usaremos es `P`, la concentración de fósforo en la hoja, por lo que nos enfocaremos en los resultados del `summary()` para esa variable. Como podemos ver, el resultado obtenido anteriormente para la variable `P` es el siguiente:\n",
    "\n",
    "```{r}\n",
    "       P         \n",
    " Min.   :0.1584  \n",
    " 1st Qu.:0.9082  \n",
    " Median :1.2326  \n",
    " Mean   :1.3177  \n",
    " 3rd Qu.:1.5996  \n",
    " Max.   :4.5133  \n",
    " NA's   :1   \n",
    "```\n",
    "En este caso, nos está devolviendo 6 valores: \n",
    "- **Min.**: el valor mínimo de la variable\n",
    "- **1st Qu.**: el primer cuartil o el percentil 25\n",
    "- **Median**: la mediana\n",
    "- **Mean**: el promedio\n",
    "- **3rd Qu.**: el tercer cuartil o el percentil 75\n",
    "- **Max.**: el valor máximo de la variable\n",
    "- **NA's**: la cantidad de valores perdidos. Si no hay ningún valor perdido en la variable, este resultado se omite del summary\n",
    "\n",
    "Como podemos notar, el `summary()` nos devuelve las medidas de posición que más nos interesan y nos ayuda a calcular algunas de las medidas de variabilidad que también hemos visto. Por lo anterior, después de cargar un conjunto de datos y tener todas las variables bien definidas, es una buena idea realizar un `summary()` para poder tener una primera idea sobre el comportamiento de las variables. Con base en el resultado del summary para la variable `P`, podemos ver que el promedio es un poco más grande que la mediana, pero no por mucho, mientras que el primer y tercer cuartil están a una distancia de 0.3, aproximadamente de la mediana, lo que nos puede dar un indicio de una distribución relativamente simétrica. Adicionalmente, observando el máximo y mínimo, parece que el máximo está más alejado de la mediana que el mínimo, lo cual nos podría dar un indicio de posibles valores extremos hacia arriba, o a la derecha de la distribución. Como podemos ver, solamente con el resultado de un comando podemos obtener hipótesis y conclusiones interesantes, sin necesidad de utilizar muchos otros comandos. Por todo esto, el summary es una muy buena herramienta como primera aproximación al conjunto de datos, pero si queremos hilar más fino en los resultados, por ejemplo para comparar entre grupos, necesitamos conocer como realizar todos estos cálculos directamente en R y esto es lo que haremos en las próximas secciones.\n",
    "\n",
    "---\n",
    "\n",
    "### El histograma como segundo acercamiento\n",
    "\n",
    "Al igual que realizamos un `summary()` como un primer acercamiento, es buena idea también hacer un histograma de la variable, para poder analizar a mayor profundidad su comportamiento. Todo lo que hemos hecho hasta ahora, y lo que haremos a lo largo del resto del laboratorio, son parte de la **estadística descriptiva** y consisten en los primeros resultados y análisis que debemos realizar antes de hacer otros más profundos, para poder familiarizarnos con los datos con los que vamos a trabajar. Por esto, creemos un histograma, usando `ggplot2`, para analizar la forma de la distribución de la variable `P`:"
   ]
  },
  {
   "cell_type": "code",
   "execution_count": null,
   "metadata": {},
   "outputs": [],
   "source": [
    "library(ggplot2) # ¡Recuerden cargar el paquete antes de usar las funciones!\n",
    "\n",
    "arboles %>% ggplot(aes(x = P)) +\n",
    "    geom_histogram(bins = nclass.Sturges(arboles$P), colour = \"black\", fill = \"lightgreen\") +\n",
    "    labs(x = \"Concentración de fósforo en las hojas (mg/g)\",\n",
    "         y = \"Frecuencia\", \n",
    "         title = \"Histograma de la concentración de fósforo en las hojas\") +\n",
    "    theme_bw()"
   ]
  },
  {
   "cell_type": "markdown",
   "metadata": {},
   "source": [
    "En primer lugar, como habíamos visto en el summary, tenemos un valor perdido (o NA) en esta variable, por lo que el aviso que nos muestra R es referente a la eliminación de dicho valor perdido. Ahora, con respecto al histograma, podemos notar que, efectivamente, parece haber una cola larga hacia la derecha y la distribución es un poco asimétrica, que fue una de las posibilidades al revisar los resultados del summary. Además, es unimodal y, puede ser que tenga un valor extremo positivo, que es el valor mayor que 4 presente en el histograma. Por lo demás, parece que la distribución de esta variable no es muy extraña y confirma algunas de nuestras hipótesis iniciales, por lo que ya podemos realizar otros análisis sobre esta variable.\n",
    "\n",
    "---"
   ]
  },
  {
   "cell_type": "markdown",
   "metadata": {},
   "source": [
    "## Medidas de posición\n",
    "\n",
    "En esta sección veremos como calcular cada una de las medidas de posición que hemos visto en clases: la moda, la media y la mediana, junto con los percentiles. Vamos a ver cada una de estas medidas de posición, en orden, empezando por la moda.\n",
    "\n",
    "---\n",
    "\n",
    "### La moda\n",
    "\n",
    "La **moda** es, en términos sencillos, el valor más frecuente entre los datos. Aunque para variables numéricas contínuas, como la concentración de fósforo, no tiene mucho sentido, es la única medida de posición que podemos utilizar con variables categóricas, por lo que puede ser de utilidad en algunos casos. Por la restricción anteriormente delineada, R no tiene una función para calcular la moda, pero, en el caso de una variable categórica, podemos hacer un tabla de frecuencias y determinar cual de las opciones es la más frecuente. Por ejemplo, para la variable `forest_type` en nuestro conjunto de datos, podríamos hacer lo siguiente:"
   ]
  },
  {
   "cell_type": "code",
   "execution_count": null,
   "metadata": {},
   "outputs": [],
   "source": [
    "table(arboles$forest_type)"
   ]
  },
  {
   "cell_type": "markdown",
   "metadata": {},
   "source": [
    "El resultado anterior nos dice que hay 381 árboles en bosques mixtos y 471 árboles en bosques de robles, por lo que el valor más frecuente, es decir la moda, sería el bosque de roble. Por lo tanto, podríamos decir que el tipo de bosque más frecuente entre los árboles de la muestra recolectada es el bosque de roble. A parte de lo anteriormente mencionado, no vamos a utilizar la moda como tal, excepto para determinar la modalidad en un histograma.\n",
    "\n",
    "---"
   ]
  },
  {
   "cell_type": "markdown",
   "metadata": {},
   "source": [
    "### La media o promedio\n",
    "\n",
    "Recordemos la fórmula para la media:\n",
    "\n",
    "$$\n",
    "\\bar{x} = \\frac{\\sum\\limits_{i=1}^n x_i}{n}\n",
    "$$\n",
    "\n",
    "en otras palabras, el promedio ($\\bar{x}$) es la suma de todos los datos ($x_i$), dividido entre la cantidad de datos ($n$). Por la naturaleza de tener que hacer la suma de los datos, solo podemos calcular la media para variables numéricas. En el caso de R, es muy sencillo calcular el promedio, es cuestión de utilizar el comando `mean(x)`, donde `x` es la variable de interés. Por lo tanto, para poder calcular el promedio de `P`, podemos hacer lo siguiente:"
   ]
  },
  {
   "cell_type": "code",
   "execution_count": null,
   "metadata": {},
   "outputs": [],
   "source": [
    "mean(arboles$P)"
   ]
  },
  {
   "cell_type": "markdown",
   "metadata": {},
   "source": [
    "¡Parece que ocurrió un problema! El resultado del promedio debería ser un número, por lo que el resultado de `<NA>` que devuelve R significa que no pudo calcular el promedio. ¿Por qué no lo habrá podido calcular?\n",
    "\n",
    "En este caso, es importante recordar que la variable `P` tenía un valor perdido, o `NA`, por lo que R, al calcular el promedio, en lugar de eliminar dicho valor, devuelve que el promedio es `<NA>`, dado que no lo pudo calcular al tener un valor faltante. La forma de solucionar esto es agregando el argumento `na.rm = TRUE`, o `na.rm = T` al comando `mean()`; este argumento lo que hace es quitar los NA's del conjunto de datos (de ahí que `na.rm` venga de  *NA remove*, en inglés). Por lo tanto, al agregar este argumento al comando anterior, deberíamos tener un resultado numérico, como lo esperamos:"
   ]
  },
  {
   "cell_type": "code",
   "execution_count": null,
   "metadata": {},
   "outputs": [],
   "source": [
    "mean(arboles$P, na.rm = T)"
   ]
  },
  {
   "cell_type": "markdown",
   "metadata": {},
   "source": [
    "Como podemos ver, ahora sí nos dio un valor numérico que tiene sentido, además que, recordando el valor obtenido en el summary, es igual al valor del promedio que obtuvimos entonces. ¿Cómo podemos interpretar este promedio? Podemos decir que *en promedio, la concentración de fósforo en las hojas de los árboles estudiados es de 1.3177 mg/g.* ¡Y eso es todo! Si queremos obtener el promedio de una variable, es cuestión de usar la función `mean()` y R hace todos los cálculos por nosotros. Es importante resaltar, eso sí, que al hacer `na.rm = T` estamos quitando datos, por lo que el valor del denominador debe cambiar si lo estamos calculando manualmente.\n",
    "\n",
    "---\n",
    "\n",
    "### La mediana\n",
    "\n",
    "El valor de la mediana corresponde al punto medio de un conjunto de datos **ordenados**, es decir, que están de menor a mayor. Si quisieramos calcular la mediana manualmente, primero necesitaríamos ordenar los datos mediante la función `sort()` y, luego, determinar la posición de la mediana y, si fuera necesario, interpolar. La función `median()` hace todos estos cálculos por nosotros; al igual que con la función `mean()`, es cuestión de poner la variable deseada como argumento para la función `median()` y, en caso de tener NA's, volver a agregar `na.rm = T` para quitar los NA's de los cálculos. Calculemos la mediana para la variable `P`:"
   ]
  },
  {
   "cell_type": "code",
   "execution_count": null,
   "metadata": {},
   "outputs": [],
   "source": [
    "median(arboles$P, na.rm = T)"
   ]
  },
  {
   "cell_type": "markdown",
   "metadata": {},
   "source": [
    "Al quitar los NA's, el comando nos devolvió un valor numérico, el cual podemos interpretar. ¿Cuál es la interpretación de la mediana? Diríamos que *un 50% de los árboles tienen una concentración de fósforo en sus hojas menor o igual a 1.2326 mg/g, mientras que el otro 50% de los árboles tienen una concentración de fósforo en sus hojas mayor o igual a 1.2326 mg/g.* ¡Y eso es todo! Con solamente utilizar el comando `median()` R está haciendo todos los cálculos de fondo y nosotros solamente ocupamos interpretar.\n",
    "\n",
    "---\n",
    "\n",
    "### Los percentiles\n",
    "\n",
    "Aunque podríamos no considerarlos como medidas de posición, para hacer algunos de los cálculos necesarios para el rango intercuartil, junto con el box plot, necesitamos calcular algunos percentiles. En R, la función que nos va a ayudar es `quantile()`, la cual toma como argumentos la variable de interés y nos devuelve algunos percentiles, o cuantiles, de interés. Al igual que `mean()` y `median()`, necesitamos agregar el argumento `na.rm = T` para que la función elimine los NA del conjunto de datos y nos devuelva un valor numérico. Probemos que sucede si utilizamos esta función con la variable `P`:"
   ]
  },
  {
   "cell_type": "code",
   "execution_count": null,
   "metadata": {},
   "outputs": [],
   "source": [
    "quantile(arboles$P, na.rm = T)"
   ]
  },
  {
   "cell_type": "markdown",
   "metadata": {},
   "source": [
    "El comando anterior nos devuelve 5 números distintos, y en **negrita** señala a que percentil corresponden. Por lo tanto, nos dice que \"**0%**: 0.1584\", lo que quiere decir que el percentil 0 (el mínimo) es 0.1584 mg/g; \"**25%:** 0.9082\" nos indica el primer cuartil, o el percentil 25; \"**50%:** 1.2326\" nos indica la mediana; \"**75%:** 1.5996\" nos indica el tercer cuartil, o el percentil 75; y, por último, \"**100%:** 4.5133\" nos indica el máximo. Los valores presentados anteriormente son los que utiliza la función `quantile()` por default, pero nosotros lo podemos cambiar utilizando el argumento `probs`, el cual acepta un número, o un vector, con los percentiles deseados, expresados como números en el intervalo $[0,1]$. Por lo tanto, si queremos solamente el valor del percentil 25, haríamos lo siguientes:"
   ]
  },
  {
   "cell_type": "code",
   "execution_count": null,
   "metadata": {},
   "outputs": [],
   "source": [
    "quantile(arboles$P, na.rm = T, probs = 0.25) # 0.25 = 25 / 100"
   ]
  },
  {
   "cell_type": "markdown",
   "metadata": {},
   "source": [
    "Por lo tanto, podemos decir que *un 25% de los árboles tienen una concentración de fósforo menor o igual a 0.9082 mg/g en sus hojas, mientras que el otro 75% de los árboles tienen una concentración de fósforo mayor o igual a 0.9082 mg/g en sus hojas*. Si quisieramos obtener tanto el percentil 25 como el 75 al mismo tiempo, podemos definir un vector de probabilidades, como se muestra a continuación:"
   ]
  },
  {
   "cell_type": "code",
   "execution_count": null,
   "metadata": {},
   "outputs": [],
   "source": [
    "quantile(arboles$P, na.rm = T, probs = c(0.25, 0.75)) # c() para el vector"
   ]
  },
  {
   "cell_type": "markdown",
   "metadata": {},
   "source": [
    "Y ahora nos está devolviendo los dos percentiles que pedimos. ¡Y eso es todo! Cabe destacar, como lo mencionamos en clase, que la forma de interpolar, es decir de calcular los percentiles, es un poco distinta en R por default que como lo vimos en clase pero, para todos los efectos prácticos, vamos a trabajar con la interpolación default de R, dado que las interpretaciones siguien siendo las mismas.\n",
    "\n",
    "---"
   ]
  },
  {
   "cell_type": "markdown",
   "metadata": {},
   "source": [
    "## Medidas de variabilidad\n",
    "\n",
    "En esta sección veremos como calcular cada una de las medidas de variabilidad que hemos visto en clases: el rango, el rango intercuartil, la variancia (y la desviación estándar) y el coeficiente de variación. Al igual que en la sección anterior, veremos como calcular todas estas medidas, en orden, empezando por el rango.\n",
    "\n",
    "---\n",
    "\n",
    "### El rango\n",
    "\n",
    "También conocido como **recorrido** o **amplitud**, el rango es, simplemente, la diferencia entre el máximo y el mínimo de la variable de interés. Aunque hay una función `range()` en R, esta no calcula el rango, sino que devuelve el valor mínimo y el máximo. Para poder hacer esta diferencia, la ocupamos hacer por nuestra cuenta, utilizando las funciones `max()` para calcular el máximo y `min()` para calcular el mínimo, recordando de agregar el argumento `na.rm = T` para quitar los NA's, como se muestra a continuación:"
   ]
  },
  {
   "cell_type": "code",
   "execution_count": null,
   "metadata": {},
   "outputs": [],
   "source": [
    "max(arboles$P, na.rm = T) - min(arboles$P, na.rm = T)"
   ]
  },
  {
   "cell_type": "markdown",
   "metadata": {},
   "source": [
    "Recordemos que, según el resultado del summary, el valor del máximo era de $4.5133$, mientras que el mínimo era $0.1584$, por lo que el rango sería:\n",
    "\n",
    "$$\n",
    "Rango = \\max{x_i} - \\min{x_i} = 4.5133 - 0.1584 = 4.3549\n",
    "$$\n",
    "\n",
    "que es, aproximadamente, el mismo valor que nos devolvió el comando que corrimos anteriormente. ¿Cómo podemos interpretar el rango? Podemos decir que *la diferencia entre la máxima concentración de fósforo en las hojas y la mínima concentración es de 4.3549 mg/g,* o también que *la concentración de fósforo en las hojas de los árboles está entre 0.1584 mg/g y 4.3549 mg/g.* Como lo hemos comentado, realmente no siempre es muy útil calcular el rango, ya que puede tener límites muy amplios, además de verse fácilmente afectado por valores extremos, por lo que, por lo general, vamos a preferir usar el rango intercuartil.\n",
    "\n",
    "---"
   ]
  },
  {
   "cell_type": "markdown",
   "metadata": {},
   "source": [
    "### El rango intercuartil (RIC)\n",
    "\n",
    "El rango intercuartil es una \"modificación\" del rango, donde en lugar de calcular la diferencia entre el mínimo y el máximo, calculamos la diferencia entre el tercer y el primer cuartil. Para lograr esto, podemos calcular la diferencia manualmente, utilizando la función `quantile()`, como se muestra a continuación:"
   ]
  },
  {
   "cell_type": "code",
   "execution_count": null,
   "metadata": {},
   "outputs": [],
   "source": [
    "quantile(arboles$P, na.rm = T, probs = 0.75) - quantile(arboles$P, na.rm = T, probs = 0.25)"
   ]
  },
  {
   "cell_type": "markdown",
   "metadata": {},
   "source": [
    "o simplemente utilizando la función `IQR()` por (**I**nter**Q**uartile **R**ange, en inglés), que realiza el mismo cálculo:"
   ]
  },
  {
   "cell_type": "code",
   "execution_count": null,
   "metadata": {},
   "outputs": [],
   "source": [
    "IQR(arboles$P, na.rm = T)"
   ]
  },
  {
   "cell_type": "markdown",
   "metadata": {},
   "source": [
    "Como podemos ver, el resultado es exactamente el mismo en ambos casos y, haciendo una verificación a mano, recordando los valores del tercer y primer cuartil, tenemos que:\n",
    "\n",
    "$$\n",
    "RIC = Q3 - Q1 = 1.5996 - 0.9082 = 0.6914\n",
    "$$\n",
    "\n",
    "cuyo resultado es, aproximadamente, igual al devuelto por R. ¿Cómo interpretamos el rango intercuartil? Podemos decir que *la diferencia entre el tercer y el primer cuartil de la concentración de fósforo en las hojas de los árboles es de 0.6914 mg/g,* o también que *un 50% de los árboles tienen una concentración de fósforo en las hojas entre 0.9082 y 1.5996 mg/g.* ¡Y eso es todo! Calcular el RIC es bastante sencillo en R y, sabiendo su interpretación, podemos obtener más información sobre nuestra distribución de datos que lo obtenido por el rango.\n",
    "\n",
    "---"
   ]
  },
  {
   "cell_type": "markdown",
   "metadata": {},
   "source": [
    "### La variancia y la desviación estándar\n",
    "\n",
    "La variancia surge como una medida de variabilidad basada en el promedio, cuya fórmula está dada por:\n",
    "\n",
    "$$\n",
    "s^2 = \\frac{\\sum\\limits_{i=1}^n (x_i - \\bar{x})^2}{n - 1}\n",
    "$$\n",
    "\n",
    "es decir, la variancia ($s^2$) es la suma de las diferencias de los datos ($x_i$) con el promedio ($\\bar{x}$), elevados al cuadrado y divididos entre la cantidad de datos menos uno ($n-1$). Por la forma en la cual se calcula la variancia, no tiene interpretación, además de que las unidades de la variancia están elevados al cuadrado. En R, podemos hacer el cálculo de la variancia utilizando la función `var()`:"
   ]
  },
  {
   "cell_type": "code",
   "execution_count": null,
   "metadata": {},
   "outputs": [],
   "source": [
    "var(arboles$P, na.rm = T)"
   ]
  },
  {
   "cell_type": "markdown",
   "metadata": {},
   "source": [
    "¿Qué podemos decir de este resultado de la variancia? Lo único que podemos concluir es que la variancia de la concentración de fósforo en las hojas de los árboles es de 0.3184 $mg^2 / g^2$. Aunque la variancia nos pudiera dar toda la información del mundo, no podemos decir nada sobre algo que está medido en $mg^2 / g^2$. Por lo anterior, se puede utilizar la desviación estándar, cuya fórmula es:\n",
    "\n",
    "$$\n",
    "s = \\sqrt{s^2} = \\sqrt{\\frac{\\sum\\limits_{i=1}^n (x_i - \\bar{x})^2}{n - 1}}\n",
    "$$\n",
    "\n",
    "en otras palabras: la desviación estándar ($s$) es la raíz cuadrada de la variancia ($s^2$). En R, existe la función `sd()` (por **s**tandard **d**eviation, en inglés) que calcula la desviación estándar, pero también podemos hacer el cálculo manualmente:"
   ]
  },
  {
   "cell_type": "code",
   "execution_count": null,
   "metadata": {},
   "outputs": [],
   "source": [
    "sqrt(var(arboles$P, na.rm = T))\n",
    "\n",
    "sd(arboles$P, na.rm = T)"
   ]
  },
  {
   "cell_type": "markdown",
   "metadata": {},
   "source": [
    "Como podemos ver, no hay diferencia entre los dos resultados, como era de esperar, por lo que dependiendo de que valores ya tengamos, puede ser más fácil sacar la raíz del resultado de la variancia, o utilizar `sd()` directamente. ¿Qué podemos decir de la desviación estándar? Nuevamente, al ser la raíz cuadrada de una fórmula extraña, realmente no podemos interpretar la desviación estándar, pero si podemos decir que *la desviación estándar de la concentración de fósforo en las hojas de los árboles es de 0.5642 mg/g, aproximadamente.* Aunque sea ahora el resultado si está en una unidad de medición que podemos interpretar, ¿pero que pasa si queremos comparar la variabilidad entre dos variables o dos conjuntos de datos? Como la desviación estándar utiliza unidades de medición no es apropiado hacer la comparación directamente mediante esta medida, por lo que nuestra solución es usar el coeficiente de variación.\n",
    "\n",
    "---"
   ]
  },
  {
   "cell_type": "markdown",
   "metadata": {},
   "source": [
    "### El coeficiente de variación (CV)\n",
    "\n",
    "El coeficiente de variación (o CV) es una medida de variabilidad relativa (es decir, no tiene unidades de medición), utilizada para realizar comparaciones entre las variabilidades de distintas variables, grupos, o conjuntos de datos. La fórmula de cálculo para el coeficiente de variación es la siguiente:\n",
    "\n",
    "$$\n",
    "CV = \\frac{s}{\\bar{x}} * 100\n",
    "$$\n",
    "\n",
    "es decir, el coeficiente de variación ($CV$) es igual al porcentaje que representa la desviación estándar ($s$) con respecto al promedio ($\\bar{x}$). De esta forma, dado que la desviación estándar y el promedio están en la misma unidad de medición, estas se cancelan, al ser una división, por lo que el resultado final se expresa como un porcentaje. En este sentido, a mayor coeficiente de variación, mayor variabilidad tendrá una variable, grupo o conjunto de datos. Nuevamente, ya que el CV se usa para comparar, no le vamos a prestar mucha atención al valor específico para un solo conjunto de datos, sino que la compararemos con el resultado de otras variables. En este caso, no hay una función para calcular el CV en R, por lo que lo ocupamos hacer manualmente, como se presenta a continuación:"
   ]
  },
  {
   "cell_type": "code",
   "execution_count": null,
   "metadata": {},
   "outputs": [],
   "source": [
    "sd(arboles$P, na.rm = T) / mean(arboles$P, na.rm = T) * 100"
   ]
  },
  {
   "cell_type": "markdown",
   "metadata": {},
   "source": [
    "¿Cómo interpretamos este valor? Podemos decir que *la desviación estándar de la concentración de fósforo en las hojas de los árboles representa un 42,8195% del promedio de dicha variable.* Nuevamente, el CV es más útil para hacer comparaciones pero hasta ahora solo hemos visto como calcular las medidas de posición y variabilidad para una sola variable. Así que, ¿cómo hacemos para calcular estas medidas para grupos, o variables, distintas? Esto es lo que haremos en las siguientes secciones.\n",
    "\n",
    "---"
   ]
  },
  {
   "cell_type": "markdown",
   "metadata": {},
   "source": [
    "## Las funciones `group_by()` y `summarise()` de `dplyr`\n",
    "\n",
    "### `summarise()`\n",
    "\n",
    "Con base en un conjunto de datos, podemos calcular medidas de resumen mediante la función `summarise()` de dplyr. Este comando funciona creando un nuevo data frame, donde cada una de las variables de dicho data frame es una medida de resumen. Es más fácil verlo en acción que explicarlo, así que hagamos un ejemplo con el promedio de la variable `P`:"
   ]
  },
  {
   "cell_type": "code",
   "execution_count": null,
   "metadata": {},
   "outputs": [],
   "source": [
    "arboles %>% summarise(media = mean(P, na.rm = T))"
   ]
  },
  {
   "cell_type": "markdown",
   "metadata": {},
   "source": [
    "Como podemos ver, creamos un nuevo data frame, con una sola columna y una fila. La columna es `media`, que fue la variable que nosotros creamos anteriormente en el comando, y el único valor para dicha variable es $1.3177$, que es promedio de la variable $P$. Al igual que hicimos una variable para el promedio, podemos crear nuevas variables para distintas medidas de posición o variabilidad, agregando una `,` entre cada variable, igual que como hacíamos con `mutate()`. Por lo anterior, si queremos agregar una variable para el percentil 25 y otra para el percentil 75, podemos hacer lo siguiente:"
   ]
  },
  {
   "cell_type": "code",
   "execution_count": null,
   "metadata": {},
   "outputs": [],
   "source": [
    "arboles %>% summarise(media = mean(P, na.rm = T),\n",
    "                      Q1 = quantile(P, probs = 0.25, na.rm = T),\n",
    "                      Q3 = quantile(P, probs = 0.75, na.rm = T))"
   ]
  },
  {
   "cell_type": "markdown",
   "metadata": {},
   "source": [
    "Nuevamente, las variables `Q1` y `Q3` tienen los valores de los percentiles 25 y 75, respectivamente. De igual forma, una vez que hayamos definida una variable de resumen, podemos utilizarla inmediatamente, igual que con `mutate()`. Por lo que, si queremos calcular además el RIC, por ejemplo, haríamos lo siguiente:"
   ]
  },
  {
   "cell_type": "code",
   "execution_count": null,
   "metadata": {},
   "outputs": [],
   "source": [
    "arboles %>% summarise(media = mean(P, na.rm = T),\n",
    "                      Q1 = quantile(P, probs = 0.25, na.rm = T),\n",
    "                      Q3 = quantile(P, probs = 0.75, na.rm = T),\n",
    "                      RIC = Q3 - Q1)"
   ]
  },
  {
   "cell_type": "markdown",
   "metadata": {},
   "source": [
    "Como podemos notar, definimos `RIC = Q3 - Q1` y, como ya habíamos definido `Q1` y `Q3` antes de `RIC`, las podemos usar para hacer nuevas variables. Esto también lo podríamos utilizar para calcular el CV:"
   ]
  },
  {
   "cell_type": "code",
   "execution_count": null,
   "metadata": {},
   "outputs": [],
   "source": [
    "arboles %>% summarise(media = mean(P, na.rm = T),\n",
    "                      Q1 = quantile(P, probs = 0.25, na.rm = T),\n",
    "                      Q3 = quantile(P, probs = 0.75, na.rm = T),\n",
    "                      RIC = Q3 - Q1,\n",
    "                      desv.est = sd(P, na.rm = T),\n",
    "                      CV = desv.est / media * 100)"
   ]
  },
  {
   "cell_type": "markdown",
   "metadata": {},
   "source": [
    "De esta forma podemos calcular cuántas variables de resumen que querramos, ya sean de posición o de variabilidad pero, ¿qué ventaja tiene esto sobre hacer estas mismas medidas como ya lo vimos antes en el laboratorio? Esto se va a volver un poco más claro una vez que hablemos sobre la función `group_by()`.\n",
    "\n",
    "---"
   ]
  },
  {
   "cell_type": "markdown",
   "metadata": {},
   "source": [
    "### `group_by()`\n",
    "\n",
    "Como lo dice su nombre, la función `group_by()` nos permite hacer agrupaciones en un conjunto de datos con respecto a una variable de interés, por lo general categórica. De esta forma, si queremos comparar las características de los árboles para cada uno de los dos tipos de bosque, por ejemplo, deberíamos agrupar los datos según la variable `forest_type`. Por lo tanto, es cuestión de agregar la función `group_by(forest_type)` a nuestro pipe y logramos lo que queremos:"
   ]
  },
  {
   "cell_type": "code",
   "execution_count": null,
   "metadata": {},
   "outputs": [],
   "source": [
    "arboles %>% group_by(forest_type)"
   ]
  },
  {
   "cell_type": "markdown",
   "metadata": {},
   "source": [
    "Si vemos el resultado anterior con detenimiento, parece que todo es igual a como está árboles por default, pero si nos fijamos en la esquina superior izquierda, podemos ver que hay un pequeño cambio. Ahora dice **A grouped_df: 852 × 19**, lo que quiere decir que es un data frame agrupado o, en otras palabras, que `dplyr` está haciendo las agrupaciones de fondo pero, dado que no estamos pidiendo ningún resultado separado según los grupos, nos muestra los datos \"originales\". Ahora, la magia ocurre cuando usamos la función `summarise()` después de haber agrupado mediante `group_by()`:"
   ]
  },
  {
   "cell_type": "code",
   "execution_count": null,
   "metadata": {},
   "outputs": [],
   "source": [
    "arboles %>% group_by(forest_type) %>% \n",
    "    summarise(media = mean(P, na.rm = T))"
   ]
  },
  {
   "cell_type": "markdown",
   "metadata": {},
   "source": [
    "¡Ahora nos está devolviendo dos promedios! Lo que está haciendo R y `dplyr` de fondo es que están calculando el promedio para la concentración de fósforo en las hojas de los árboles de los dos tipos de bosque. Por lo anterior, podemos ver que la concentración de fósforo promedio es de 1.33 mg/g en bosques mixtos, mientras que es de 1.30 en bosques de robles. Para poder hacer esto en R base, sin usar `dplyr`, es necesario crear dos nuevos conjuntos de datos, uno para cada uno, y calcular el promedio de cada uno de esos dos conjuntos de datos; con `dplyr` es tan sencillo como agregar `group_by()`. De igual forma, si quisieramos comparar todas las medidas que hicimos anteriormente con `summarise()` lo podemos hacer y nos devolverá los resultados para cada uno de los tipos de bosque:"
   ]
  },
  {
   "cell_type": "code",
   "execution_count": null,
   "metadata": {},
   "outputs": [],
   "source": [
    "arboles %>% group_by(forest_type) %>% \n",
    "    summarise(media = mean(P, na.rm = T),\n",
    "              Q1 = quantile(P, probs = 0.25, na.rm = T),\n",
    "              Q3 = quantile(P, probs = 0.75, na.rm = T),\n",
    "              RIC = Q3 - Q1,\n",
    "              desv.est = sd(P, na.rm = T),\n",
    "              CV = desv.est / media * 100)"
   ]
  },
  {
   "cell_type": "markdown",
   "metadata": {},
   "source": [
    "Podemos notar que, de forma general, no hay muchas diferencias entre los árboles de los dos tipos de bosque, por lo menos en lo que se refiere a la concentración de fósforo. Pero, aun así, siguiendo esta misma lógica podríamos comparar otras variables que nos interesen según el tipo de bosque, o comparando según cualquier otra variable categórica o combinaciones de variables. Por ejemplo, podríamos combinar el tipo de bosque con el habitat fenológico:"
   ]
  },
  {
   "cell_type": "code",
   "execution_count": null,
   "metadata": {},
   "outputs": [],
   "source": [
    "arboles %>% group_by(forest_type, pheno) %>% \n",
    "    summarise(media = mean(P, na.rm = T),\n",
    "              Q1 = quantile(P, probs = 0.25, na.rm = T),\n",
    "              Q3 = quantile(P, probs = 0.75, na.rm = T),\n",
    "              RIC = Q3 - Q1,\n",
    "              desv.est = sd(P, na.rm = T),\n",
    "              CV = desv.est / media * 100)"
   ]
  },
  {
   "cell_type": "markdown",
   "metadata": {},
   "source": [
    "En este caso, como primero agrupamos por `forest_type` y luego según `pheno`, las primeras tres filas son de bosque mixto, separado según el habitat fenológico, mientras que las últimas tres filas son de bosque de roble, en las mismas separaciones. Como podemos ver, con solamente 7 líneas de código logramos conseguir todas estas variables de resumen. Para poner esto en perspectiva, utilizando R base, necesitaríamos 6 líneas de código para poder separar el conjunto de datos según tipo de bosque y habitat fenológico, y todavía faltarían las líneas para calcular todas las demás medidas. Además, si quisieramos, podríamos guardar este data frame de resumen y utilizarlo, por ejemplo, para hacer gráficos mediante `ggplot`. Por último, otra forma de poder comparar distribuciones entre grupos es mediante los gráficos de cajas, o box plots, que veremos en la próxima sección."
   ]
  },
  {
   "cell_type": "markdown",
   "metadata": {},
   "source": [
    "## Los box plots o gráficos de caja\n",
    "\n",
    "Hasta ahora, el gráfico por defecto que hemos utilizado para estudiar una distribución es el histograma. Aunque este gráfico es muy útil para poder estudiar la distribución de una sola variable, se vuelve un poco complejo cuando queremos hacer comparaciones entre dos grupos. Tanto R base como ggplot pueden hacer boxplots de forma sencilla y permiten agregar grupos, en el eje X, para poder hacer cajas separadas según una cierta variable. Es importante recordar que los gráficos de cajas llevan la variable numérica en el eje Y y, si queremos, una variable categórica en el eje X.\n",
    "\n",
    "--- \n",
    "\n",
    "### R base\n",
    "\n",
    "Para hacer box plots en R base, es cuestión de utilizar la función `boxplot()`, agregando la variable de interés. Si quisieramos hacer el gráfico de cajas para la concentración de fósforo en las hojas, por ejemplo, haríamos lo siguiente:"
   ]
  },
  {
   "cell_type": "code",
   "execution_count": null,
   "metadata": {},
   "outputs": [],
   "source": [
    "boxplot(arboles$P)"
   ]
  },
  {
   "cell_type": "markdown",
   "metadata": {},
   "source": [
    "Al igual que con los demás gráficos de R base, podemos modificar ciertas características gráficas fácilmente:"
   ]
  },
  {
   "cell_type": "code",
   "execution_count": null,
   "metadata": {},
   "outputs": [],
   "source": [
    "boxplot(arboles$P, ylab = \"Concentración de fósforo\", \n",
    "        main = \"Concentración de fósforo en las hojas de los árboles\",\n",
    "        col = \"lightblue\")"
   ]
  },
  {
   "cell_type": "markdown",
   "metadata": {},
   "source": [
    "Recordemos que la línea sólida dentro de la caja representa la mediana, mientras que los límites de la caja son el cuartil 1 y 3. Es decir, dentro de la caja está el 50% de los datos, separados en 25% en la parte inferior de la caja y 25% en la parte superior. Por último, tanto debajo de la caja como encima hay un 25% de los datos, en cada uno. En el caso de los puntos que se encuentran fuera de los bigotes, estos son valores que están alejados del resto de la distribución, pero no todas serán valores extremos. En este caso, parece que el dato más alejado es el que tiene una concentración de fósforo mayor a 4, que ya lo habíamos identificado en el histograma inicial pero, por lo demás, los otros puntos no están tan lejos del resto del gráfico. Ahora, si queremos agregar una variable para poder hacer comparaciones, como por ejemplo `forest_type` para comparar según el tipo de bosque, es cuestión de agregarla al comando anterior agregando una virgulilla (`~`) entre las dos variables, como se muestra a continuación:"
   ]
  },
  {
   "cell_type": "code",
   "execution_count": null,
   "metadata": {},
   "outputs": [],
   "source": [
    "boxplot(arboles$P ~ arboles$forest_type,\n",
    "        xlab = \"Tipo de bosque\",\n",
    "        ylab = \"Concentración de fósforo\", \n",
    "        main = \"Concentración de fósforo en las hojas de los árboles\",\n",
    "        col = \"lightblue\")"
   ]
  },
  {
   "cell_type": "markdown",
   "metadata": {},
   "source": [
    "Ahora tenemos dos cajas, que corresponden a la concentración de fósforo en las hojas de los árboles para esos dos tipos de bosque. En términos de interpretación, no parecen haber diferencias entre los dos tipos de bosque, ya las cajas miden lo mismo, están centrados casi que sobre el mismo punto y los bigotes tienen un largo similar, pero si probamos con otras variables numéricas o categóricas esto puede cambiar. En conclusión, es bastante sencillo crear gráficos de cajas con R base y nos permite, de forma sencilla y rápida, poder comparar las distribuciones de dos o más grupos.\n",
    "\n",
    "---"
   ]
  },
  {
   "cell_type": "markdown",
   "metadata": {},
   "source": [
    "### `ggplot2`\n",
    "\n",
    "En el caso de ggplot, podemos crear un boxplot agregando el comando `geom_boxplot()` a nuestro comando inicial de `ggplot()`. Por ejemplo, haciendo nuevamente el gráfico de cajas para la concentración de fósforo, correríamos el siguiente comando:"
   ]
  },
  {
   "cell_type": "code",
   "execution_count": null,
   "metadata": {},
   "outputs": [],
   "source": [
    "arboles %>% ggplot(aes(y = P)) +\n",
    "    geom_boxplot()"
   ]
  },
  {
   "cell_type": "markdown",
   "metadata": {},
   "source": [
    "Como ya hemos visto, podemos cambiar los elementos gráficos de forma sencilla:"
   ]
  },
  {
   "cell_type": "code",
   "execution_count": null,
   "metadata": {},
   "outputs": [],
   "source": [
    "arboles %>% ggplot(aes(y = P)) +\n",
    "    geom_boxplot(fill = \"lightblue\") +\n",
    "    labs(y = \"Concentración de fósforo\",\n",
    "         title = \"Concentración de fósforo en las hojas de los árboles\") +\n",
    "    theme_bw()"
   ]
  },
  {
   "cell_type": "markdown",
   "metadata": {},
   "source": [
    "En el caso de querer agregar una variable para hacer comparaciones entre grupos, solamente ocupamos agregar en el argumento `x` de `aes()`, de esta forma:"
   ]
  },
  {
   "cell_type": "code",
   "execution_count": null,
   "metadata": {},
   "outputs": [],
   "source": [
    "arboles %>% ggplot(aes(y = P, x = forest_type)) +\n",
    "    geom_boxplot(fill = \"lightblue\") +\n",
    "    labs(x = \"Tipo de bosque\",\n",
    "         y = \"Concentración de fósforo\",\n",
    "         title = \"Concentración de fósforo en las hojas de los árboles\") +\n",
    "    theme_bw()"
   ]
  },
  {
   "cell_type": "markdown",
   "metadata": {},
   "source": [
    "Como podemos notar, el gráfico de cajas mediante ggplot es casi idéntico al obtenido en R base y, dado que no hay que hacer una leyenda, cual de los dos métodos usar termina siendo una cuestión de gusto personal. Nuevamente, además de saber *hacer* el gráfico, es muy importante saber *interpretar* el gráfico.\n",
    "\n",
    "---"
   ]
  },
  {
   "cell_type": "markdown",
   "metadata": {},
   "source": [
    "## Pequeña introducción al paquete `tidyr` y la función `gather()`\n",
    "\n",
    "En la Sección 6 del laboratorio vimos como calcular medidas de resumen mediante la función `summarise()`, ya sea para todo el conjunto de datos como cuando lo separamos según grupos. Aun así, esto solo lo hicimos para comparar grupos con respecto a una sola variable, pero ¿qué pasa si quisieramos comparar todas las variables del conjunto de datos? Esto lo podemos hacer mediante los paquetes `dplyr` y `tidyr`. Este segundo paquete brinda funciones adicionales para poder hacer transformaciones y cambios en el conjunto de datos, por lo general un poco más complejas. En este caso, la función que vamos a usar es `gather()`, del paquete `tidyr`. El objetivo detrás de la función `gather()` es para pasar de un conjunto de datos \"ancho\" a uno \"largo\". Veamos un ejemplo:\n",
    "\n",
    "Supongamos que tenemos un conjunto de datos, llamado `df`, que contiene los siguientes datos y variables:"
   ]
  },
  {
   "cell_type": "code",
   "execution_count": null,
   "metadata": {},
   "outputs": [],
   "source": [
    "df <- data.frame(x = c(1, 4), y = c(2, 5), z = c(3, 6))\n",
    "\n",
    "df"
   ]
  },
  {
   "cell_type": "markdown",
   "metadata": {},
   "source": [
    "Como podemos ver, tenemos tres variables y dos filas para cada uno. Ahora, si quisieramos calcular el promedio de cada una de las variables mediante `summarise()`, tendríamos que crear una variable nueva para cada una:"
   ]
  },
  {
   "cell_type": "code",
   "execution_count": null,
   "metadata": {},
   "outputs": [],
   "source": [
    "df %>% summarise(media.x = mean(x), media.y = mean(y), media.z = mean(z))"
   ]
  },
  {
   "cell_type": "markdown",
   "metadata": {},
   "source": [
    "Esto significa que, si tenemos 10 variables, necesitaríamos escribir 10 variables distintas para cada variable original y, si queremos agregar alguna otra medida de resumen, tendríamos que agregar otras 10 variables adicionales. Para esto es que nos sirve el comando `gather()` del paquete `tidyr`:"
   ]
  },
  {
   "cell_type": "code",
   "execution_count": null,
   "metadata": {},
   "outputs": [],
   "source": [
    "library(tidyr) # Recordemos cargar el paquete o no va a servir!\n",
    "\n",
    "df1 <- df %>% gather(\"variable\", \"valor\")\n",
    "\n",
    "df1"
   ]
  },
  {
   "cell_type": "markdown",
   "metadata": {},
   "source": [
    "Veamos que el conjunto de datos cambió en como se ve, pasamos de tres variables con dos filas a dos variables con 6 filas. Seguimos teniendo los 6 datos de antes, pero ahora cambiamos la forma en la cual los estamos presentando. En este caso, cada fila representa una única observación para una variable, por ejemplo, la primera fila nos dice que la variable `x` tiene un valor de 1, mientras que la segunda fila nos dice que `x` tiene un valor de 4 en otra observación. Pero entonces, ¿para que nos sirve tener el conjunto de datos escrito de esta forma? Al hacer `gather()`, ahora podemos agrupar según la variable y sacar medidas de resumen del valor directamente, como vemos a continuación:"
   ]
  },
  {
   "cell_type": "code",
   "execution_count": null,
   "metadata": {},
   "outputs": [],
   "source": [
    "df1 %>% group_by(variable) %>% \n",
    "    summarise(media = mean(valor))"
   ]
  },
  {
   "cell_type": "markdown",
   "metadata": {},
   "source": [
    "El resultado es exactamente el mismo al que obtuvimos haciendo `summarise()` con `df`, pero este resultado nos permite, de forma más sencilla, poder calcular más medidas de resumen. Por lo tanto, aunque toma un poco de esfuerzo transformar el conjunto de datos en uno \"largo\", los beneficios al momento de calcular medidas de resumen, y comparar las variables, se vuelven notables. Supongamos que queremos comparar el CV de las tres variables, para determinar cual es la que más varía; con `df1`, es decir habiendo usado la función `gather()`, esto se torna muy sencillo:"
   ]
  },
  {
   "cell_type": "code",
   "execution_count": null,
   "metadata": {},
   "outputs": [],
   "source": [
    "df1 %>% group_by(variable) %>% \n",
    "    summarise(media = mean(valor),\n",
    "              desv.est = sd(valor),\n",
    "              CV = desv.est / media * 100)"
   ]
  },
  {
   "cell_type": "markdown",
   "metadata": {},
   "source": [
    "Agregando dos líneas más de código, pudimos calcular la desviación estándar y el coeficiente de variación de todas las variables y hasta se ve más ordenado. En este caso, como podemos notar, la variable que más varía es la que tiene el CV más alto, es decir `x`, mientras que la que menos varía es la que tiene el CV más pequeño, es decir `z`. Para poner esto en perspectiva, si quisieramos obtener el mismo resultado usando `df`, es decir sin usar `gather()`, necesitaríamos agregar seis nuevas variables a `summarise()`, en lugar de las dos que definimos mediante este método. Por lo anterior, al utilizar `gather()`, podemos calcular medidas de resumen para todas las variables de un conjunto de datos, de forma sencilla, y que nos permite poder utilizar estos resultados para otras cosas, como gráficos.\n",
    "\n",
    "---"
   ]
  },
  {
   "cell_type": "markdown",
   "metadata": {},
   "source": [
    "### Ejercicio (8 pts.)\n",
    "\n",
    "El resultado del siguiente comando devuelve el promedio, la desviación estándar y el coeficiente de variación para todas las variables numéricas y las ordena según el coeficiente de variación, de mayor a menor. Antes de correr el bloque de código, intente analizar cada una de las líneas del código, determinando que hace cada una de estas líneas y por qué es importante ponerlas en ese orden. Si no sabe que hace alguno de los comandos, puede preguntarle al profesor, o buscar en internet o la ayuda de R. Una vez que tenga una idea del resultado que esperamos obtener, corra el comando y determine si el resultado obtenido era el que usted esperaba o no."
   ]
  },
  {
   "cell_type": "code",
   "execution_count": null,
   "metadata": {},
   "outputs": [],
   "source": [
    "arboles %>% select(-plot, -forest_type, -sp, -compound, \n",
    "                   -pubes, -pheno, -Legum) %>% \n",
    "  na.omit() %>% \n",
    "  gather(\"variable\", \"valor\") %>% \n",
    "  group_by(variable) %>% \n",
    "  summarise(media = mean(valor),\n",
    "            desv.est = sd(valor),\n",
    "            CV = desv.est / media * 100)"
   ]
  },
  {
   "cell_type": "markdown",
   "metadata": {
    "deletable": false,
    "editable": false,
    "nbgrader": {
     "cell_type": "markdown",
     "checksum": "562d17b89ebe40f48114ea7a8bc82552",
     "grade": false,
     "grade_id": "instrucciones",
     "locked": true,
     "schema_version": 3,
     "solution": false,
     "task": false
    }
   },
   "source": [
    "Como dijimos anteriormente, este comando nos devuelve el promedio, desviación estándar y coeficiente de variación para cada una de las variables numéricas del conjunto de datos `arboles`, quitando los NA's. Estudie con detenimiento los resultados e intente ordenar las variables según su desviación estándar y su coeficiente de variación. Por último, con base en el resultado anterior, conteste las siguientes preguntas, justificando claramente su respuesta:\n",
    "\n",
    "1. Tanto el largo del peciolo (`petiol`) como el ancho de la hoja (`thick`) están medidos en mm. ¿Tiene sentido comparar la variabilidad de estas dos variables utilizando solamente la desviación estándar? (1 pt.)\n",
    "2. ¿Es sensato comparar todas las variables presentadas anteriormente directamente mediante su desviación estándar? ¿O se debería hacer una comparación mediante el coeficiente de variación? (2 pts.)\n",
    "3. ¿Cuáles son las variables que más varían? (1 pt.)\n",
    "4. ¿Cuáles son las variables que menos varían? (1 pt.)\n",
    "5. ¿Existe una relación clara entre los valores de la desviación estándar y el coeficiente de variación? Es decir, ¿las variables con mayor desviación estándar tienen mayor coeficiente de variación y vice versa? (3 pts.)"
   ]
  },
  {
   "cell_type": "markdown",
   "metadata": {
    "deletable": false,
    "nbgrader": {
     "cell_type": "markdown",
     "checksum": "914142712006adc7288113c84a37c32b",
     "grade": true,
     "grade_id": "respuesta",
     "locked": false,
     "points": 8,
     "schema_version": 3,
     "solution": true,
     "task": false
    }
   },
   "source": [
    "ESCRIBA SU RESPUESTA AQUI"
   ]
  },
  {
   "cell_type": "markdown",
   "metadata": {
    "deletable": false,
    "editable": false,
    "nbgrader": {
     "cell_type": "markdown",
     "checksum": "f1dcbfcdd85aa2a72682b29d7ae4d8c8",
     "grade": false,
     "grade_id": "footer",
     "locked": true,
     "schema_version": 3,
     "solution": false,
     "task": false
    }
   },
   "source": [
    "---\n",
    "\n",
    "## <span style=\"color: blue\">Entrega del laboratorio</span> <a class=\"tocSkip\"> \n",
    "\n",
    "Para hacer entrega de este laboratorio, debe descargarlo presionando en **File**, luego **Download as** y, por último, **Notebook (.ipynb)**, en el menú superior, debajo del logo de Jupyter. También puede descargarlo directamente desde el botón de **Download** en la barra con íconos para acceso rápido.\n",
    "\n",
    "Luego de haber localizado el archivo descargado, debe cambiar el nombre del archivo descargado por su número de carné, de forma que, si su carné es **B12345**, su archivo debería llamarse `B12345.ipynb`. Una vez le haya cambiado el nombre al archivo, lo puede subir a Mediación Virtual, en el apartado correspondiente a este laboratorio."
   ]
  },
  {
   "cell_type": "markdown",
   "metadata": {
    "deletable": false,
    "editable": false,
    "nbgrader": {
     "cell_type": "markdown",
     "checksum": "6559c10b0b5a034a94b3cc7eac7897be",
     "grade": false,
     "grade_id": "license",
     "locked": true,
     "schema_version": 3,
     "solution": false,
     "task": false
    }
   },
   "source": [
    "<a href=\"https://creativecommons.org/licenses/by-sa/4.0/\">\n",
    "    <img src=\"https://mirrors.creativecommons.org/presskit/buttons/88x31/png/by-sa.png\" width=\"88\" height=\"31\" />\n",
    "</a>"
   ]
  }
 ],
 "metadata": {
  "kernelspec": {
   "display_name": "R",
   "language": "R",
   "name": "ir"
  },
  "language_info": {
   "codemirror_mode": "r",
   "file_extension": ".r",
   "mimetype": "text/x-r-source",
   "name": "R",
   "pygments_lexer": "r",
   "version": "4.0.2"
  },
  "toc": {
   "base_numbering": 1,
   "nav_menu": {},
   "number_sections": true,
   "sideBar": true,
   "skip_h1_title": false,
   "title_cell": "Table of Contents",
   "title_sidebar": "Contents",
   "toc_cell": false,
   "toc_position": {},
   "toc_section_display": true,
   "toc_window_display": false
  },
  "varInspector": {
   "cols": {
    "lenName": 16,
    "lenType": 16,
    "lenVar": 40
   },
   "kernels_config": {
    "python": {
     "delete_cmd_postfix": "",
     "delete_cmd_prefix": "del ",
     "library": "var_list.py",
     "varRefreshCmd": "print(var_dic_list())"
    },
    "r": {
     "delete_cmd_postfix": ") ",
     "delete_cmd_prefix": "rm(",
     "library": "var_list.r",
     "varRefreshCmd": "cat(var_dic_list()) "
    }
   },
   "types_to_exclude": [
    "module",
    "function",
    "builtin_function_or_method",
    "instance",
    "_Feature"
   ],
   "window_display": false
  }
 },
 "nbformat": 4,
 "nbformat_minor": 4
}
