{
 "cells": [
  {
   "cell_type": "markdown",
   "metadata": {},
   "source": [
    "# Laboratorio de prueba\n",
    "\n",
    "## Prof. Andrés Arguedas\n",
    "\n",
    "Este laboratorio está creado en un sistema llamado [Jupyter Notebooks](https://jupyter.org), que permite agregar texto junto con código de distintos lenguajes, entre ellos R. El código se agrega en bloques grises, en los cuales se pueden escribir comandos y correrlos, seleccionando el bloque y presionando Shift+Enter, el cual devuelve, debajo del bloque, el resultado respectivo. En el siguiente ejemplo, al correrlo el resultado debería ser 4. Corra el siguiente bloque de código y verifique que el resultado es 4:"
   ]
  },
  {
   "cell_type": "code",
   "execution_count": null,
   "metadata": {},
   "outputs": [],
   "source": [
    "2 + 2"
   ]
  },
  {
   "cell_type": "markdown",
   "metadata": {},
   "source": [
    "R se puede usar como una calculadora, como en el ejemplo anterior, donde calculamos $2+2=4$, pero podemos hacer uso de otras operaciones matemáticas:\n",
    "\n",
    "|Operación|Comando|Ejemplo|Ejemplo en R|\n",
    "|:-:|:-:|:-:|:-:|\n",
    "|Suma|`+`| $x + y$ | `x + y` |\n",
    "|Resta|`-`| $x - y$ | `x - y`|\n",
    "|Multiplicación|`*`| $x * y$ | `x * y` |\n",
    "|División|`/`| $x / y$ | `x / y`|\n",
    "|Potencia|`^`| $x^y$ | `x^y`|\n",
    "\n",
    "Habiendo visto todas las posibles operaciones que podemos hacer en R, ¿cómo hacemos para guardar estos resultados? Por ejemplo, supongamos que queremos hacer las siguientes operaciones:\n",
    "\n",
    "$$\n",
    "x = 3; \\quad y = x * 2; \\quad z = y ^ 3\n",
    "$$\n",
    "\n",
    "Mediante el operador `<-` podemos guardar un resultado obtenido en la consola en la memoria de la computadora y podemos manipularla y llamarla dentro de R. Para el ejemplo que mencionamos anteriormente, podemos hacer lo siguiente:"
   ]
  },
  {
   "cell_type": "code",
   "execution_count": null,
   "metadata": {},
   "outputs": [],
   "source": [
    "x <- 3\n",
    "y <- x * 2\n",
    "z <- y^3"
   ]
  },
  {
   "cell_type": "markdown",
   "metadata": {},
   "source": [
    "Ya definimos las variables `x`, `y` y `z` en la memoria pero, ¿cómo hacemos para verlas? Si escribimos las variables y corremos el comando, podemos ver el resultado que está guardado en dichas variables:"
   ]
  },
  {
   "cell_type": "code",
   "execution_count": null,
   "metadata": {},
   "outputs": [],
   "source": [
    "x\n",
    "y\n",
    "z"
   ]
  },
  {
   "cell_type": "markdown",
   "metadata": {},
   "source": [
    "En este caso, veamos que:\n",
    "\n",
    "$$\n",
    "x = 3 \\Rightarrow y = x * 2 = 3 * 2 = 6 \\Rightarrow z = y^3 = 6^3 = 216\n",
    "$$\n",
    "\n",
    "Por lo que el resultado que obtuvimos de R es el que esperabamos obtener. Esto también lo pudimos haber obtenido como:\n",
    "\n",
    "$$\n",
    "z = y^3 = (x * 2)^3 = (3 * 2)^3 = 216\n",
    "$$\n",
    "\n",
    "Cuando escribimos operaciones matemáticas en R, las leyes de los paréntesis se mantienen al igual que en la matemática, por lo tanto, podríamos escribir `(3 * 2)^3` y obtendríamos el mismo valor de 216, pero si escribimos `3 * 2^3` obtendríamos 24.\n",
    "\n",
    "**Ejercicio**:\n",
    "\n",
    "Guarde cada una de las siguientes operaciones en las respectivas variables, utilizando el bloque de código presentado a continuación.\n",
    "\n",
    "- `a`: $\\sqrt{2}$\n",
    "- `g`: $\\left((2 * 3) + 5 \\right)/6$\n",
    "- `u`: $\\pi$"
   ]
  },
  {
   "cell_type": "code",
   "execution_count": null,
   "metadata": {
    "deletable": false,
    "nbgrader": {
     "cell_type": "code",
     "checksum": "bb2a6c1c1743cd008cc755fc42d91857",
     "grade": false,
     "grade_id": "operaciones-basicas",
     "locked": false,
     "schema_version": 3,
     "solution": true,
     "task": false
    }
   },
   "outputs": [],
   "source": [
    "# ESCRIBA SU CÓDIGO AQUÍ\n",
    "testthat::fail() # No respuesta - elimine esta línea si escribió una respuesta"
   ]
  },
  {
   "cell_type": "markdown",
   "metadata": {},
   "source": [
    "Corra los siguientes bloques para verificar su respuesta:"
   ]
  },
  {
   "cell_type": "code",
   "execution_count": null,
   "metadata": {
    "deletable": false,
    "editable": false,
    "nbgrader": {
     "cell_type": "code",
     "checksum": "29a9eb9b6888771ad7d3d444ea680f58",
     "grade": true,
     "grade_id": "prueba-ob1",
     "locked": true,
     "points": 1,
     "schema_version": 3,
     "solution": false,
     "task": false
    }
   },
   "outputs": [],
   "source": [
    "a"
   ]
  },
  {
   "cell_type": "code",
   "execution_count": null,
   "metadata": {
    "deletable": false,
    "editable": false,
    "nbgrader": {
     "cell_type": "code",
     "checksum": "cd3716a73caed18c6628d31e9da73fd7",
     "grade": true,
     "grade_id": "prueba-ob2",
     "locked": true,
     "points": 1,
     "schema_version": 3,
     "solution": false,
     "task": false
    }
   },
   "outputs": [],
   "source": [
    "g"
   ]
  },
  {
   "cell_type": "code",
   "execution_count": null,
   "metadata": {
    "deletable": false,
    "editable": false,
    "nbgrader": {
     "cell_type": "code",
     "checksum": "ed83c24dec8eded5ae40737b4004c784",
     "grade": true,
     "grade_id": "prueba-ob3",
     "locked": true,
     "points": 1,
     "schema_version": 3,
     "solution": false,
     "task": false
    }
   },
   "outputs": [],
   "source": [
    "u"
   ]
  },
  {
   "cell_type": "markdown",
   "metadata": {},
   "source": [
    "Para terminar, escriba a continuación su opinión sobre este laboratorio. Puede escribir en Jupyter haciendo presionando dos veces sobre el bloque con texto y, cuando haya terminado de editarlo, puede presionar el botón de \"Run\", o presionar Shift+Enter para volverlo a texto con formato."
   ]
  },
  {
   "cell_type": "markdown",
   "metadata": {
    "deletable": false,
    "nbgrader": {
     "cell_type": "markdown",
     "checksum": "0aa37296eb275abbab74e9ffab871689",
     "grade": true,
     "grade_id": "opinion",
     "locked": false,
     "points": 2,
     "schema_version": 3,
     "solution": true,
     "task": false
    }
   },
   "source": [
    "ESCRIBA SU RESPUESTA AQUI"
   ]
  },
  {
   "cell_type": "markdown",
   "metadata": {},
   "source": [
    "Para hacer entrega de este laboratorio, puede descargarlo presionando en **File**, luego **Download as** y, por último, **Notebook (.ipynb)**, en el menú superior, debajo del logo de Jupyter. Cambie el nombre al archivo descargado por su nombre completo y envíelo."
   ]
  }
 ],
 "metadata": {
  "kernelspec": {
   "display_name": "R",
   "language": "R",
   "name": "ir"
  },
  "language_info": {
   "codemirror_mode": "r",
   "file_extension": ".r",
   "mimetype": "text/x-r-source",
   "name": "R",
   "pygments_lexer": "r",
   "version": "4.0.2"
  }
 },
 "nbformat": 4,
 "nbformat_minor": 4
}
