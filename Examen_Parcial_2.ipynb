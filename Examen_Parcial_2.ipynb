{
 "cells": [
  {
   "cell_type": "markdown",
   "metadata": {
    "deletable": false,
    "editable": false,
    "nbgrader": {
     "cell_type": "markdown",
     "checksum": "ff17b2b91648b3140b22f05e38999351",
     "grade": false,
     "grade_id": "instrucciones",
     "locked": true,
     "schema_version": 3,
     "solution": false,
     "task": false
    }
   },
   "source": [
    "# <span style=\"color: blue\">Examen Parcial II</span> <a class=\"tocSkip\"> \n",
    "\n",
    "### <span style=\"color: green\">Prof. Andrés Arguedas - XS-0300 - II 2020</span> <a class=\"tocSkip\"> \n",
    "\n",
    "**INSTRUCCIONES GENERALES:** \n",
    "    \n",
    "Para hacer entrega del examen, debe descargarlo presionando en File, luego Download as y, por último, Notebook (.ipynb), en el menú superior, debajo del logo de Jupyter. También puede descargarlo directamente desde el botón de Download en la barra con íconos para acceso rápido. Luego de haber localizado el archivo descargado, debe cambiar el nombre del archivo descargado por su número de carné, de forma que, si su carné es B12345, su archivo debería llamarse B12345.ipynb. Una vez le haya cambiado el nombre al archivo, lo puede subir a Mediación Virtual, en el apartado correspondiente a este examen. **Recuerde los lineamientos básicos requeridos para la presentación de tablas y gráficos.**\n",
    "    \n",
    "**ATENCIÓN:** Antes de entregar este examen, asegúrese que todo corre como se espera. Para hacer esto, primero **reinice el kernel**, esto lo puede hacer seleccionado **Kernel** en el menú y luego **Restart**. Habiendo reiniciado el kernel, **corra todas las celdas**, esto lo puede hacer seleccionando **Cell** en el menú y luego **Run All**.\n",
    "\n",
    "Por último, recuerde rellenar cualquier lugar donde diga `ESCRIBA SU CÓDIGO AQUÍ` o \"ESCRIBA SU RESPUESTA AQUI\", así como escribir su nombre y carné a continuación:"
   ]
  },
  {
   "cell_type": "code",
   "execution_count": null,
   "metadata": {},
   "outputs": [],
   "source": [
    "NOMBRE = \"\"\n",
    "CARNE = \"\""
   ]
  },
  {
   "cell_type": "markdown",
   "metadata": {
    "deletable": false,
    "editable": false,
    "nbgrader": {
     "cell_type": "markdown",
     "checksum": "996790177d4f2f4e8276729e8228f41d",
     "grade": false,
     "grade_id": "teor-1",
     "locked": true,
     "schema_version": 3,
     "solution": false,
     "task": false
    }
   },
   "source": [
    "## Preguntas teóricas (16 pts.)\n",
    "\n",
    "Para las siguientes preguntas, escriba sus respuestas en la celda de texto debajo de la pregunta correspondiente.\n",
    "\n",
    "1) Explique, de forma clara y concisa, la diferencia entre el error tipo I y el error tipo II. Además, explique que significa, en una prueba de hipótesis, la significancia y la potencia en términos del error tipo I y el error tipo II. **(4 pts.)**"
   ]
  },
  {
   "cell_type": "markdown",
   "metadata": {
    "deletable": false,
    "nbgrader": {
     "cell_type": "markdown",
     "checksum": "f0b87cadca57cf25a84e382ed485e82b",
     "grade": true,
     "grade_id": "teor-1tex",
     "locked": false,
     "points": 4,
     "schema_version": 3,
     "solution": true,
     "task": false
    }
   },
   "source": [
    "ESCRIBA SU RESPUESTA AQUI"
   ]
  },
  {
   "cell_type": "markdown",
   "metadata": {
    "deletable": false,
    "editable": false,
    "nbgrader": {
     "cell_type": "markdown",
     "checksum": "292db5632807edddcb50501c5f178e6c",
     "grade": false,
     "grade_id": "teor-2",
     "locked": true,
     "schema_version": 3,
     "solution": false,
     "task": false
    }
   },
   "source": [
    "2) ¿Por qué decimos que, al momento de calcular un intervalo de confianza, aumentar la confianza hace que el intervalo sea más ancho, mientras que aumentar el tamaño de la muestra hace que el intervalo sea más estrecho? Justifique su respuesta. **(4 pts.)**"
   ]
  },
  {
   "cell_type": "markdown",
   "metadata": {
    "deletable": false,
    "nbgrader": {
     "cell_type": "markdown",
     "checksum": "e3d2e50582561b2af423940716dce9e7",
     "grade": true,
     "grade_id": "teor-2tex",
     "locked": false,
     "points": 4,
     "schema_version": 3,
     "solution": true,
     "task": false
    }
   },
   "source": [
    "ESCRIBA SU RESPUESTA AQUI"
   ]
  },
  {
   "cell_type": "markdown",
   "metadata": {
    "deletable": false,
    "editable": false,
    "nbgrader": {
     "cell_type": "markdown",
     "checksum": "36185e2f76c25cc31dd31cba2d9938ff",
     "grade": false,
     "grade_id": "teor-3",
     "locked": true,
     "schema_version": 3,
     "solution": false,
     "task": false
    }
   },
   "source": [
    "3) Explique, de forma clara y concisa, por qué si dos variables no están relacionadas su coeficiente de correlación es 0, pero si dos variables tienen correlación 0 pueden estar relacionadas. **(4 pts.)**"
   ]
  },
  {
   "cell_type": "markdown",
   "metadata": {
    "deletable": false,
    "nbgrader": {
     "cell_type": "markdown",
     "checksum": "cfa36926399fa976056d05de27f93900",
     "grade": true,
     "grade_id": "teor-3tex",
     "locked": false,
     "points": 4,
     "schema_version": 3,
     "solution": true,
     "task": false
    }
   },
   "source": [
    "ESCRIBA SU RESPUESTA AQUI"
   ]
  },
  {
   "cell_type": "markdown",
   "metadata": {
    "deletable": false,
    "editable": false,
    "nbgrader": {
     "cell_type": "markdown",
     "checksum": "055170d61a804a7792b8bacb057a9346",
     "grade": false,
     "grade_id": "teor-4",
     "locked": true,
     "schema_version": 3,
     "solution": false,
     "task": false
    }
   },
   "source": [
    "4) ¿En cuales casos preferimos utilizar una prueba de hipótesis no paramétrica sobre una prueba paramétrica? ¿Qué pasa si utilizamos una prueba no paramétrica cuando deberíamos haber usado una prueba paramétrica? Justifique su respuesta. **(4 pts.)**"
   ]
  },
  {
   "cell_type": "markdown",
   "metadata": {
    "deletable": false,
    "nbgrader": {
     "cell_type": "markdown",
     "checksum": "78a3b8c00374472df295439a938a10e8",
     "grade": true,
     "grade_id": "teor-4tex",
     "locked": false,
     "points": 4,
     "schema_version": 3,
     "solution": true,
     "task": false
    }
   },
   "source": [
    "ESCRIBA SU RESPUESTA AQUI"
   ]
  },
  {
   "cell_type": "markdown",
   "metadata": {
    "deletable": false,
    "editable": false,
    "nbgrader": {
     "cell_type": "markdown",
     "checksum": "2ae694c801cc3a6753fe83d695f9b3dc",
     "grade": false,
     "grade_id": "inst-prac",
     "locked": true,
     "schema_version": 3,
     "solution": false,
     "task": false
    }
   },
   "source": [
    "## Preguntas prácticas (24 pts.)\n",
    "\n",
    "El peso al nacer de un infante es una importante variable para determinar posibles problemas de salud durante el primer año de vida, ya que tanto infantes con bajo peso al nacer, como un peso al nacer muy elevados, tienen una probabilidad mayor de contraer ciertas enfermedades o tener problemas congénitos, por lo que requieren de mayor cuidado médico. Por lo anterior, el conjunto de datos `infantes.csv` contiene observaciones de 100 infantes, recopilando las siguientes variables:\n",
    "\n",
    "- `circunferencia_cabeza`: la circunferencia de la cabeza del infante al nacer, en centímetros\n",
    "- `largo`: el largo del infante al nacer, de cabeza a pies, en centímetros\n",
    "- `semanas de gestación`: la cantidad de semanas de gestación cumplidas antes del nacimiento\n",
    "- `peso_nacer`: el peso al nacer del infante, en gramos\n",
    "- `edad_madre`: la cantidad de años cumplidos de la madre\n",
    "- `toxemia`: indica si la madre tuvo toxemia (`1`) o no (`0`). *La toxemia es una condición de la mujer durante su embarazo causado por un desorden metabólico*\n",
    "\n",
    "Habiendo definido las variables y el contexto del estudio, proceda a cargar los datos a R. Esto se puede hacer corriendo el siguiente comando para cargar los datos del archivo `infantes.csv` como el objeto `infantes` en R:"
   ]
  },
  {
   "cell_type": "code",
   "execution_count": null,
   "metadata": {
    "deletable": false,
    "editable": false,
    "nbgrader": {
     "cell_type": "code",
     "checksum": "1efe9e415e9e57197772945c84c94187",
     "grade": false,
     "grade_id": "cargar-datos",
     "locked": true,
     "schema_version": 3,
     "solution": false,
     "task": false
    }
   },
   "outputs": [],
   "source": [
    "library(readr)\n",
    "infantes <- read_delim(\"data/infantes.csv\", \";\", escape_double = FALSE, trim_ws = TRUE)\n",
    "summary(infantes)"
   ]
  },
  {
   "cell_type": "markdown",
   "metadata": {
    "deletable": false,
    "editable": false,
    "nbgrader": {
     "cell_type": "markdown",
     "checksum": "46e9d7346a56ac05e63eacb59d78e397",
     "grade": false,
     "grade_id": "prac-1",
     "locked": true,
     "schema_version": 3,
     "solution": false,
     "task": false
    }
   },
   "source": [
    "Con base en la información anterior, conteste las siguientes preguntas, utilizando las celdas de código para escribir su código y las de texto para escribir sus respuestas:\n",
    "\n",
    "1) Cambie la variable de toxemia a factor (`Toxemia`) y vuelva a hacer el `summary()`. ¿Cuántas mujeres sufrieron de toxemia durante su embarazo? **(2 pt.)**"
   ]
  },
  {
   "cell_type": "code",
   "execution_count": null,
   "metadata": {
    "deletable": false,
    "nbgrader": {
     "cell_type": "code",
     "checksum": "d7c0b91dae5e20a282cc25071c85b90a",
     "grade": true,
     "grade_id": "prac-1cod",
     "locked": false,
     "points": 1,
     "schema_version": 3,
     "solution": true,
     "task": false
    }
   },
   "outputs": [],
   "source": [
    "# ESCRIBA SU CÓDIGO AQUÍ\n",
    "testthat::fail() # No respuesta - elimine esta línea si escribió una respuesta"
   ]
  },
  {
   "cell_type": "markdown",
   "metadata": {
    "deletable": false,
    "nbgrader": {
     "cell_type": "markdown",
     "checksum": "894fe16470ae55142318416235926ed7",
     "grade": true,
     "grade_id": "prac-1tex",
     "locked": false,
     "points": 1,
     "schema_version": 3,
     "solution": true,
     "task": false
    }
   },
   "source": [
    "ESCRIBA SU RESPUESTA AQUI"
   ]
  },
  {
   "cell_type": "markdown",
   "metadata": {
    "deletable": false,
    "editable": false,
    "nbgrader": {
     "cell_type": "markdown",
     "checksum": "35b5d5b0f7da7d689b8960b5883d6f71",
     "grade": false,
     "grade_id": "prac-2",
     "locked": true,
     "schema_version": 3,
     "solution": false,
     "task": false
    }
   },
   "source": [
    "2) Haga un gráfico de cajas separando el peso al nacer según si la madre tiene toxemia o no. ¿Parece haber una diferencia en el peso de los infantes que nacen de madres con toxemia comparados con los de madres sin toxemia? **(2 pts.)**"
   ]
  },
  {
   "cell_type": "code",
   "execution_count": null,
   "metadata": {
    "deletable": false,
    "nbgrader": {
     "cell_type": "code",
     "checksum": "4d3e58c5105ed904f30e9aa3520d6c09",
     "grade": true,
     "grade_id": "prac-2cod",
     "locked": false,
     "points": 1,
     "schema_version": 3,
     "solution": true,
     "task": false
    }
   },
   "outputs": [],
   "source": [
    "# ESCRIBA SU CÓDIGO AQUÍ\n",
    "testthat::fail() # No respuesta - elimine esta línea si escribió una respuesta"
   ]
  },
  {
   "cell_type": "markdown",
   "metadata": {
    "deletable": false,
    "nbgrader": {
     "cell_type": "markdown",
     "checksum": "c73179c107e82ccabeb3dc1635d232f3",
     "grade": true,
     "grade_id": "prac-2tex",
     "locked": false,
     "points": 1,
     "schema_version": 3,
     "solution": true,
     "task": false
    }
   },
   "source": [
    "ESCRIBA SU RESPUESTA AQUI"
   ]
  },
  {
   "cell_type": "markdown",
   "metadata": {
    "deletable": false,
    "editable": false,
    "nbgrader": {
     "cell_type": "markdown",
     "checksum": "0be7a078640dbe209c4c1f0bf39a174e",
     "grade": false,
     "grade_id": "prac-3",
     "locked": true,
     "schema_version": 3,
     "solution": false,
     "task": false
    }
   },
   "source": [
    "3) Realice la prueba de hipótesis apropiada para determinar si el peso promedio al nacer es distinto entre madres que tienen toxemia y las que no. Escriba las hipótesis correspondientes para esta prueba y concluya con base en el valor de p y el intervalo de confianza. **(4 pts.)**"
   ]
  },
  {
   "cell_type": "code",
   "execution_count": null,
   "metadata": {
    "deletable": false,
    "nbgrader": {
     "cell_type": "code",
     "checksum": "fc84a5da96f57075db5991666d7120c7",
     "grade": true,
     "grade_id": "prac-3cod",
     "locked": false,
     "points": 1,
     "schema_version": 3,
     "solution": true,
     "task": false
    }
   },
   "outputs": [],
   "source": [
    "# ESCRIBA SU CÓDIGO AQUÍ\n",
    "testthat::fail() # No respuesta - elimine esta línea si escribió una respuesta"
   ]
  },
  {
   "cell_type": "markdown",
   "metadata": {
    "deletable": false,
    "nbgrader": {
     "cell_type": "markdown",
     "checksum": "07f152b75ec9c088e4e0e394668a2917",
     "grade": true,
     "grade_id": "prac-3tex",
     "locked": false,
     "points": 3,
     "schema_version": 3,
     "solution": true,
     "task": false
    }
   },
   "source": [
    "ESCRIBA SU RESPUESTA AQUI"
   ]
  },
  {
   "cell_type": "markdown",
   "metadata": {
    "deletable": false,
    "editable": false,
    "nbgrader": {
     "cell_type": "markdown",
     "checksum": "e1eef4dfdc7d87a0b2e4e63ce0b74176",
     "grade": false,
     "grade_id": "prac-4",
     "locked": true,
     "schema_version": 3,
     "solution": false,
     "task": false
    }
   },
   "source": [
    "4) Haga un gráfico de dispersión entre el peso al nacer, como variable $Y$, y la cantidad de semanas de gestación, como variable $X$. ¿Parece existir una relación entre estas dos variables? En caso de existir, ¿cómo parecen relacionarse estas variables? Justifique su respuesta. **(3 pts.)**"
   ]
  },
  {
   "cell_type": "code",
   "execution_count": null,
   "metadata": {
    "deletable": false,
    "nbgrader": {
     "cell_type": "code",
     "checksum": "fb4b8dd446e1bf948f02589d9b420eea",
     "grade": true,
     "grade_id": "prac-4cod",
     "locked": false,
     "points": 1,
     "schema_version": 3,
     "solution": true,
     "task": false
    }
   },
   "outputs": [],
   "source": [
    "# ESCRIBA SU CÓDIGO AQUÍ\n",
    "testthat::fail() # No respuesta - elimine esta línea si escribió una respuesta"
   ]
  },
  {
   "cell_type": "markdown",
   "metadata": {
    "deletable": false,
    "nbgrader": {
     "cell_type": "markdown",
     "checksum": "0f5eff459cd8e22433b91c6ad8af239c",
     "grade": true,
     "grade_id": "prac-4tex",
     "locked": false,
     "points": 2,
     "schema_version": 3,
     "solution": true,
     "task": false
    }
   },
   "source": [
    "ESCRIBA SU RESPUESTA AQUI"
   ]
  },
  {
   "cell_type": "markdown",
   "metadata": {
    "deletable": false,
    "editable": false,
    "nbgrader": {
     "cell_type": "markdown",
     "checksum": "a36fb5b58b0f34063a8ffd477683641b",
     "grade": false,
     "grade_id": "prac-5",
     "locked": true,
     "schema_version": 3,
     "solution": false,
     "task": false
    }
   },
   "source": [
    "5) Calcule el coeficiente de correlación de Pearson entre el peso al nacer y la cantidad de semanas de gestación. ¿Qué nos dice este valor sobre la relación entre estas dos variables? ¿Coincide esta conclusión con lo observado en el gráfico de dispersión? **(3 pts.)**"
   ]
  },
  {
   "cell_type": "code",
   "execution_count": null,
   "metadata": {
    "deletable": false,
    "nbgrader": {
     "cell_type": "code",
     "checksum": "d099de7c7b16df727fccf1272f210b8f",
     "grade": true,
     "grade_id": "prac-5cod",
     "locked": false,
     "points": 1,
     "schema_version": 3,
     "solution": true,
     "task": false
    }
   },
   "outputs": [],
   "source": [
    "# ESCRIBA SU CÓDIGO AQUÍ\n",
    "testthat::fail() # No respuesta - elimine esta línea si escribió una respuesta"
   ]
  },
  {
   "cell_type": "markdown",
   "metadata": {
    "deletable": false,
    "nbgrader": {
     "cell_type": "markdown",
     "checksum": "2dd8d811479dedf6183fd1df1cf9e828",
     "grade": true,
     "grade_id": "prac-5tex",
     "locked": false,
     "points": 2,
     "schema_version": 3,
     "solution": true,
     "task": false
    }
   },
   "source": [
    "ESCRIBA SU RESPUESTA AQUI"
   ]
  },
  {
   "cell_type": "markdown",
   "metadata": {
    "deletable": false,
    "editable": false,
    "nbgrader": {
     "cell_type": "markdown",
     "checksum": "16caa718583ee83b1b8a678520f1e494",
     "grade": false,
     "grade_id": "prac-6",
     "locked": true,
     "schema_version": 3,
     "solution": false,
     "task": false
    }
   },
   "source": [
    "6) Realice la prueba de hipótesis apropiada para determinar si existe una correlación lineal entre el peso al nacer y la cantidad de semanas de gestación. Escriba las hipótesis correspondientes para esta prueba y concluya con base en el valor de p y el intervalo de confianza. **(4 pts.)**"
   ]
  },
  {
   "cell_type": "code",
   "execution_count": null,
   "metadata": {
    "deletable": false,
    "nbgrader": {
     "cell_type": "code",
     "checksum": "f5f9ef2551d5ec6ed9a63ba3956ff47b",
     "grade": true,
     "grade_id": "prac-6cod",
     "locked": false,
     "points": 1,
     "schema_version": 3,
     "solution": true,
     "task": false
    }
   },
   "outputs": [],
   "source": [
    "# ESCRIBA SU CÓDIGO AQUÍ\n",
    "testthat::fail() # No respuesta - elimine esta línea si escribió una respuesta"
   ]
  },
  {
   "cell_type": "markdown",
   "metadata": {
    "deletable": false,
    "nbgrader": {
     "cell_type": "markdown",
     "checksum": "46e76ac27052a6b48190011a24e376aa",
     "grade": true,
     "grade_id": "prac-6tex",
     "locked": false,
     "points": 3,
     "schema_version": 3,
     "solution": true,
     "task": false
    }
   },
   "source": [
    "ESCRIBA SU RESPUESTA AQUI"
   ]
  },
  {
   "cell_type": "markdown",
   "metadata": {
    "deletable": false,
    "editable": false,
    "nbgrader": {
     "cell_type": "markdown",
     "checksum": "a35d1322c9c663a16827bb8a9e1e5162",
     "grade": false,
     "grade_id": "prac-7inst",
     "locked": true,
     "schema_version": 3,
     "solution": false,
     "task": false
    }
   },
   "source": [
    "7) A continuación se presenta el código en R para realizar una regresión lineal simple, utilizando el peso al nacer como variable de respuesta ($Y$) y la cantidad de semanas de gestación como variable predictora ($X$). Los resultados de este modelo se guardaron en el objeto `mod` y puede obtenerlos corriendo este bloque de código:"
   ]
  },
  {
   "cell_type": "code",
   "execution_count": null,
   "metadata": {
    "deletable": false,
    "editable": false,
    "nbgrader": {
     "cell_type": "code",
     "checksum": "2a0108704e9fd70de6806e0c4dbb7a20",
     "grade": false,
     "grade_id": "mod-reg",
     "locked": true,
     "schema_version": 3,
     "solution": false,
     "task": false
    }
   },
   "outputs": [],
   "source": [
    "mod <- lm(peso_nacer ~ semanas_gestacion, data = infantes)\n",
    "summary(mod)"
   ]
  },
  {
   "cell_type": "markdown",
   "metadata": {
    "deletable": false,
    "editable": false,
    "nbgrader": {
     "cell_type": "markdown",
     "checksum": "e33adb304e29f7af78aa88fcae13afc4",
     "grade": false,
     "grade_id": "prac-7a",
     "locked": true,
     "schema_version": 3,
     "solution": false,
     "task": false
    }
   },
   "source": [
    "Con base en el summary anterior, conteste las siguientes preguntas:\n",
    "\n",
    "a) Interprete el coeficiente relacionado con la variable de las semanas de gestación (`semanas_gestacion` en el summary). En términos de la relación entre el peso al nacer y las semanas de gestación, ¿que significa que el coeficiente sea positivo? Justifique su respuesta. **(2 pts.)**"
   ]
  },
  {
   "cell_type": "markdown",
   "metadata": {
    "deletable": false,
    "nbgrader": {
     "cell_type": "markdown",
     "checksum": "3201b8b36ee6a5de2ac22268f74a7c52",
     "grade": true,
     "grade_id": "prac-7atex",
     "locked": false,
     "points": 2,
     "schema_version": 3,
     "solution": true,
     "task": false
    }
   },
   "source": [
    "ESCRIBA SU RESPUESTA AQUI"
   ]
  },
  {
   "cell_type": "markdown",
   "metadata": {
    "deletable": false,
    "editable": false,
    "nbgrader": {
     "cell_type": "markdown",
     "checksum": "53c7ad745e649436b6a4d558b30ed4b5",
     "grade": false,
     "grade_id": "prac-7b",
     "locked": true,
     "schema_version": 3,
     "solution": false,
     "task": false
    }
   },
   "source": [
    "b) ¿Tiene sentido interpretar el coeficiente de la intersección del modelo en este caso? Justifique su respuesta. **(1 pt.)**"
   ]
  },
  {
   "cell_type": "markdown",
   "metadata": {
    "deletable": false,
    "nbgrader": {
     "cell_type": "markdown",
     "checksum": "54a7363f64a285105e3279fff84d0145",
     "grade": true,
     "grade_id": "prac-7btex",
     "locked": false,
     "points": 1,
     "schema_version": 3,
     "solution": true,
     "task": false
    }
   },
   "source": [
    "ESCRIBA SU RESPUESTA AQUI"
   ]
  },
  {
   "cell_type": "markdown",
   "metadata": {
    "deletable": false,
    "editable": false,
    "nbgrader": {
     "cell_type": "markdown",
     "checksum": "888e7e054e7fa2467863a6e0c2fba9a1",
     "grade": false,
     "grade_id": "prac-7c",
     "locked": true,
     "schema_version": 3,
     "solution": false,
     "task": false
    }
   },
   "source": [
    "c) Interprete el coeficiente de determinación, o $R^2$, del modelo. ¿Qué relación tiene este valor con la correlación entre las dos variables? **(2 pts.)**"
   ]
  },
  {
   "cell_type": "markdown",
   "metadata": {
    "deletable": false,
    "nbgrader": {
     "cell_type": "markdown",
     "checksum": "cb1311bc5e139f8cf2be2353eab28097",
     "grade": true,
     "grade_id": "prac-7ctex",
     "locked": false,
     "points": 2,
     "schema_version": 3,
     "solution": true,
     "task": false
    }
   },
   "source": [
    "ESCRIBA SU RESPUESTA AQUI"
   ]
  },
  {
   "cell_type": "markdown",
   "metadata": {
    "deletable": false,
    "editable": false,
    "nbgrader": {
     "cell_type": "markdown",
     "checksum": "3c88510f406721d0e1d42f3d7e2d100f",
     "grade": false,
     "grade_id": "prac-7d",
     "locked": true,
     "schema_version": 3,
     "solution": false,
     "task": false
    }
   },
   "source": [
    "d) Con base solamente en lo realizado durante este examen, ¿se puede concluir que hay una relación de causa y efecto entre las semanas de gestación y el peso al nacer de los infantes? Justifique su respuesta. **(1 pt.)**"
   ]
  },
  {
   "cell_type": "markdown",
   "metadata": {
    "deletable": false,
    "nbgrader": {
     "cell_type": "markdown",
     "checksum": "10e85222ef269c99f351fa1d68208280",
     "grade": true,
     "grade_id": "prac-7dtex",
     "locked": false,
     "points": 1,
     "schema_version": 3,
     "solution": true,
     "task": false
    }
   },
   "source": [
    "ESCRIBA SU RESPUESTA AQUI"
   ]
  },
  {
   "cell_type": "markdown",
   "metadata": {
    "deletable": false,
    "editable": false,
    "nbgrader": {
     "cell_type": "markdown",
     "checksum": "f119e605ae6adcab33f78c2cc3713d03",
     "grade": false,
     "grade_id": "final",
     "locked": true,
     "schema_version": 3,
     "solution": false,
     "task": false
    }
   },
   "source": [
    "# <center>¡Mucha suerte!<a class=\"tocSkip\"></center>"
   ]
  }
 ],
 "metadata": {
  "kernelspec": {
   "display_name": "R",
   "language": "R",
   "name": "ir"
  },
  "language_info": {
   "codemirror_mode": "r",
   "file_extension": ".r",
   "mimetype": "text/x-r-source",
   "name": "R",
   "pygments_lexer": "r",
   "version": "4.0.2"
  },
  "toc": {
   "base_numbering": 1,
   "nav_menu": {},
   "number_sections": true,
   "sideBar": true,
   "skip_h1_title": false,
   "title_cell": "Table of Contents",
   "title_sidebar": "Contents",
   "toc_cell": false,
   "toc_position": {},
   "toc_section_display": true,
   "toc_window_display": false
  },
  "varInspector": {
   "cols": {
    "lenName": 16,
    "lenType": 16,
    "lenVar": 40
   },
   "kernels_config": {
    "python": {
     "delete_cmd_postfix": "",
     "delete_cmd_prefix": "del ",
     "library": "var_list.py",
     "varRefreshCmd": "print(var_dic_list())"
    },
    "r": {
     "delete_cmd_postfix": ") ",
     "delete_cmd_prefix": "rm(",
     "library": "var_list.r",
     "varRefreshCmd": "cat(var_dic_list()) "
    }
   },
   "types_to_exclude": [
    "module",
    "function",
    "builtin_function_or_method",
    "instance",
    "_Feature"
   ],
   "window_display": false
  }
 },
 "nbformat": 4,
 "nbformat_minor": 4
}
