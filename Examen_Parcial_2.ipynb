{
 "cells": [
  {
   "cell_type": "markdown",
   "metadata": {
    "nbgrader": {
     "grade": false,
     "grade_id": "instrucciones",
     "locked": true,
     "schema_version": 3,
     "solution": false,
     "task": false
    }
   },
   "source": [
    "# <span style=\"color: blue\">Examen Parcial II</span> <a class=\"tocSkip\"> \n",
    "\n",
    "### <span style=\"color: green\">Prof. Andrés Arguedas - XS-0300 - II 2020</span> <a class=\"tocSkip\"> \n",
    "\n",
    "**INSTRUCCIONES GENERALES:** \n",
    "    \n",
    "Para hacer entrega del examen, debe descargarlo presionando en File, luego Download as y, por último, Notebook (.ipynb), en el menú superior, debajo del logo de Jupyter. También puede descargarlo directamente desde el botón de Download en la barra con íconos para acceso rápido. Luego de haber localizado el archivo descargado, debe cambiar el nombre del archivo descargado por su número de carné, de forma que, si su carné es B12345, su archivo debería llamarse B12345.ipynb. Una vez le haya cambiado el nombre al archivo, lo puede subir a Mediación Virtual, en el apartado correspondiente a este examen. **Recuerde los lineamientos básicos requeridos para la presentación de tablas y gráficos.**\n",
    "    \n",
    "**ATENCIÓN:** Antes de entregar este examen, asegúrese que todo corre como se espera. Para hacer esto, primero **reinice el kernel**, esto lo puede hacer seleccionado **Kernel** en el menú y luego **Restart**. Habiendo reiniciado el kernel, **corra todas las celdas**, esto lo puede hacer seleccionando **Cell** en el menú y luego **Run All**.\n",
    "\n",
    "Por último, recuerde rellenar cualquier lugar donde diga `ESCRIBA SU CÓDIGO AQUÍ` o \"ESCRIBA SU RESPUESTA AQUI\", así como escribir su nombre y carné a continuación:"
   ]
  },
  {
   "cell_type": "code",
   "execution_count": 1,
   "metadata": {},
   "outputs": [],
   "source": [
    "NOMBRE = \"\"\n",
    "CARNE = \"\""
   ]
  },
  {
   "cell_type": "markdown",
   "metadata": {
    "nbgrader": {
     "grade": false,
     "grade_id": "teor-1",
     "locked": true,
     "schema_version": 3,
     "solution": false,
     "task": false
    }
   },
   "source": [
    "## Preguntas teóricas (16 pts.)\n",
    "\n",
    "Para las siguientes preguntas, escriba sus respuestas en la celda de texto debajo de la pregunta correspondiente.\n",
    "\n",
    "1) Explique, de forma clara y concisa, la diferencia entre el error tipo I y el error tipo II. Además, explique que significa, en una prueba de hipótesis, la significancia y la potencia en términos del error tipo I y el error tipo II. **(4 pts.)**"
   ]
  },
  {
   "cell_type": "markdown",
   "metadata": {
    "nbgrader": {
     "grade": true,
     "grade_id": "teor-1tex",
     "locked": false,
     "points": 4,
     "schema_version": 3,
     "solution": true,
     "task": false
    }
   },
   "source": []
  },
  {
   "cell_type": "markdown",
   "metadata": {
    "nbgrader": {
     "grade": false,
     "grade_id": "teor-2",
     "locked": true,
     "schema_version": 3,
     "solution": false,
     "task": false
    }
   },
   "source": [
    "2) ¿Por qué decimos que, al momento de calcular un intervalo de confianza, aumentar la confianza hace que el intervalo sea más ancho, mientras que aumentar el tamaño de la muestra hace que el intervalo sea más estrecho? Justifique su respuesta. **(4 pts.)**"
   ]
  },
  {
   "cell_type": "markdown",
   "metadata": {
    "nbgrader": {
     "grade": true,
     "grade_id": "teor-2tex",
     "locked": false,
     "points": 4,
     "schema_version": 3,
     "solution": true,
     "task": false
    }
   },
   "source": []
  },
  {
   "cell_type": "markdown",
   "metadata": {
    "nbgrader": {
     "grade": false,
     "grade_id": "teor-3",
     "locked": true,
     "schema_version": 3,
     "solution": false,
     "task": false
    }
   },
   "source": [
    "3) Explique, de forma clara y concisa, por qué si dos variables no están relacionadas su coeficiente de correlación es 0, pero si dos variables tienen correlación 0 pueden estar relacionadas. **(4 pts.)**"
   ]
  },
  {
   "cell_type": "markdown",
   "metadata": {
    "nbgrader": {
     "grade": true,
     "grade_id": "teor-3tex",
     "locked": false,
     "points": 4,
     "schema_version": 3,
     "solution": true,
     "task": false
    }
   },
   "source": []
  },
  {
   "cell_type": "markdown",
   "metadata": {
    "nbgrader": {
     "grade": false,
     "grade_id": "teor-4",
     "locked": true,
     "schema_version": 3,
     "solution": false,
     "task": false
    }
   },
   "source": [
    "4) ¿En cuales casos preferimos utilizar una prueba de hipótesis no paramétrica sobre una prueba paramétrica? ¿Qué pasa si utilizamos una prueba no paramétrica cuando deberíamos haber usado una prueba paramétrica? Justifique su respuesta. **(4 pts.)**"
   ]
  },
  {
   "cell_type": "markdown",
   "metadata": {
    "nbgrader": {
     "grade": true,
     "grade_id": "teor-4tex",
     "locked": false,
     "points": 4,
     "schema_version": 3,
     "solution": true,
     "task": false
    }
   },
   "source": []
  },
  {
   "cell_type": "markdown",
   "metadata": {
    "nbgrader": {
     "grade": false,
     "grade_id": "inst-prac",
     "locked": true,
     "schema_version": 3,
     "solution": false,
     "task": false
    }
   },
   "source": [
    "## Preguntas prácticas (24 pts.)\n",
    "\n",
    "El peso al nacer de un infante es una importante variable para determinar posibles problemas de salud durante el primer año de vida, ya que tanto infantes con bajo peso al nacer, como un peso al nacer muy elevados, tienen una probabilidad mayor de contraer ciertas enfermedades o tener problemas congénitos, por lo que requieren de mayor cuidado médico. Por lo anterior, el conjunto de datos `infantes.csv` contiene observaciones de 100 infantes, recopilando las siguientes variables:\n",
    "\n",
    "- `circunferencia_cabeza`: la circunferencia de la cabeza del infante al nacer, en centímetros\n",
    "- `largo`: el largo del infante al nacer, de cabeza a pies, en centímetros\n",
    "- `semanas de gestación`: la cantidad de semanas de gestación cumplidas antes del nacimiento\n",
    "- `peso_nacer`: el peso al nacer del infante, en gramos\n",
    "- `edad_madre`: la cantidad de años cumplidos de la madre\n",
    "- `toxemia`: indica si la madre tuvo toxemia (`1`) o no (`0`). *La toxemia es una condición de la mujer durante su embarazo causado por un desorden metabólico*\n",
    "\n",
    "Habiendo definido las variables y el contexto del estudio, proceda a cargar los datos a R. Esto se puede hacer corriendo el siguiente comando para cargar los datos del archivo `infantes.csv` como el objeto `infantes` en R:"
   ]
  },
  {
   "cell_type": "code",
   "execution_count": 2,
   "metadata": {
    "nbgrader": {
     "grade": false,
     "grade_id": "cargar-datos",
     "locked": true,
     "schema_version": 3,
     "solution": false,
     "task": false
    }
   },
   "outputs": [
    {
     "name": "stderr",
     "output_type": "stream",
     "text": [
      "\n",
      "\u001b[36m--\u001b[39m \u001b[1m\u001b[1mColumn specification\u001b[1m\u001b[22m \u001b[36m------------------------------------------------------------------------------------------------\u001b[39m\n",
      "cols(\n",
      "  circunferencia_cabeza = \u001b[32mcol_double()\u001b[39m,\n",
      "  largo = \u001b[32mcol_double()\u001b[39m,\n",
      "  semanas_gestacion = \u001b[32mcol_double()\u001b[39m,\n",
      "  peso_nacer = \u001b[32mcol_double()\u001b[39m,\n",
      "  edad_madre = \u001b[32mcol_double()\u001b[39m,\n",
      "  toxemia = \u001b[32mcol_double()\u001b[39m\n",
      ")\n",
      "\n",
      "\n"
     ]
    },
    {
     "data": {
      "text/plain": [
       " circunferencia_cabeza     largo       semanas_gestacion   peso_nacer  \n",
       " Min.   :21.00         Min.   :20.00   Min.   :23.00     Min.   : 530  \n",
       " 1st Qu.:25.00         1st Qu.:35.00   1st Qu.:27.00     1st Qu.: 880  \n",
       " Median :27.00         Median :38.00   Median :29.00     Median :1160  \n",
       " Mean   :26.45         Mean   :36.82   Mean   :28.89     Mean   :1114  \n",
       " 3rd Qu.:28.00         3rd Qu.:39.00   3rd Qu.:31.00     3rd Qu.:1335  \n",
       " Max.   :35.00         Max.   :43.00   Max.   :35.00     Max.   :2480  \n",
       "   edad_madre       toxemia    \n",
       " Min.   :14.00   Min.   :0.00  \n",
       " 1st Qu.:23.00   1st Qu.:0.00  \n",
       " Median :28.00   Median :0.00  \n",
       " Mean   :27.73   Mean   :0.21  \n",
       " 3rd Qu.:32.00   3rd Qu.:0.00  \n",
       " Max.   :41.00   Max.   :1.00  "
      ]
     },
     "metadata": {},
     "output_type": "display_data"
    }
   ],
   "source": [
    "library(readr)\n",
    "infantes <- read_delim(\"data/infantes.csv\", \";\", escape_double = FALSE, trim_ws = TRUE)\n",
    "summary(infantes)"
   ]
  },
  {
   "cell_type": "markdown",
   "metadata": {
    "nbgrader": {
     "grade": false,
     "grade_id": "prac-1",
     "locked": true,
     "schema_version": 3,
     "solution": false,
     "task": false
    }
   },
   "source": [
    "Con base en la información anterior, conteste las siguientes preguntas, utilizando las celdas de código para escribir su código y las de texto para escribir sus respuestas:\n",
    "\n",
    "1) Cambie la variable de toxemia a factor (`Toxemia`) y vuelva a hacer el `summary()`. ¿Cuántas mujeres sufrieron de toxemia durante su embarazo? **(2 pt.)**"
   ]
  },
  {
   "cell_type": "code",
   "execution_count": null,
   "metadata": {
    "nbgrader": {
     "grade": true,
     "grade_id": "prac-1cod",
     "locked": false,
     "points": 1,
     "schema_version": 3,
     "solution": true,
     "task": false
    }
   },
   "outputs": [],
   "source": []
  },
  {
   "cell_type": "markdown",
   "metadata": {
    "nbgrader": {
     "grade": true,
     "grade_id": "prac-1tex",
     "locked": false,
     "points": 1,
     "schema_version": 3,
     "solution": true,
     "task": false
    }
   },
   "source": []
  },
  {
   "cell_type": "markdown",
   "metadata": {
    "nbgrader": {
     "grade": false,
     "grade_id": "prac-2",
     "locked": true,
     "schema_version": 3,
     "solution": false,
     "task": false
    }
   },
   "source": [
    "2) Haga un gráfico de cajas separando el peso al nacer según si la madre tiene toxemia o no. ¿Parece haber una diferencia en el peso de los infantes que nacen de madres con toxemia comparados con los de madres sin toxemia? **(2 pts.)**"
   ]
  },
  {
   "cell_type": "code",
   "execution_count": null,
   "metadata": {
    "nbgrader": {
     "grade": true,
     "grade_id": "prac-2cod",
     "locked": false,
     "points": 1,
     "schema_version": 3,
     "solution": true,
     "task": false
    }
   },
   "outputs": [],
   "source": []
  },
  {
   "cell_type": "markdown",
   "metadata": {
    "nbgrader": {
     "grade": true,
     "grade_id": "prac-2tex",
     "locked": false,
     "points": 1,
     "schema_version": 3,
     "solution": true,
     "task": false
    }
   },
   "source": []
  },
  {
   "cell_type": "markdown",
   "metadata": {
    "nbgrader": {
     "grade": false,
     "grade_id": "prac-3",
     "locked": true,
     "schema_version": 3,
     "solution": false,
     "task": false
    }
   },
   "source": [
    "3) Realice la prueba de hipótesis apropiada para determinar si el peso promedio al nacer es distinto entre madres que tienen toxemia y las que no. Escriba las hipótesis correspondientes para esta prueba y concluya con base en el valor de p y el intervalo de confianza. **(4 pts.)**"
   ]
  },
  {
   "cell_type": "code",
   "execution_count": null,
   "metadata": {
    "nbgrader": {
     "grade": true,
     "grade_id": "prac-3cod",
     "locked": false,
     "points": 1,
     "schema_version": 3,
     "solution": true,
     "task": false
    }
   },
   "outputs": [],
   "source": []
  },
  {
   "cell_type": "markdown",
   "metadata": {
    "nbgrader": {
     "grade": true,
     "grade_id": "prac-3tex",
     "locked": false,
     "points": 3,
     "schema_version": 3,
     "solution": true,
     "task": false
    }
   },
   "source": []
  },
  {
   "cell_type": "markdown",
   "metadata": {
    "nbgrader": {
     "grade": false,
     "grade_id": "prac-4",
     "locked": true,
     "schema_version": 3,
     "solution": false,
     "task": false
    }
   },
   "source": [
    "4) Haga un gráfico de dispersión entre el peso al nacer, como variable $Y$, y la cantidad de semanas de gestación, como variable $X$. ¿Parece existir una relación entre estas dos variables? En caso de existir, ¿cómo parecen relacionarse estas variables? Justifique su respuesta. **(3 pts.)**"
   ]
  },
  {
   "cell_type": "code",
   "execution_count": null,
   "metadata": {
    "nbgrader": {
     "grade": true,
     "grade_id": "prac-4cod",
     "locked": false,
     "points": 1,
     "schema_version": 3,
     "solution": true,
     "task": false
    }
   },
   "outputs": [],
   "source": []
  },
  {
   "cell_type": "markdown",
   "metadata": {
    "nbgrader": {
     "grade": true,
     "grade_id": "prac-4tex",
     "locked": false,
     "points": 2,
     "schema_version": 3,
     "solution": true,
     "task": false
    }
   },
   "source": []
  },
  {
   "cell_type": "markdown",
   "metadata": {
    "nbgrader": {
     "grade": false,
     "grade_id": "prac-5",
     "locked": true,
     "schema_version": 3,
     "solution": false,
     "task": false
    }
   },
   "source": [
    "5) Calcule el coeficiente de correlación de Pearson entre el peso al nacer y la cantidad de semanas de gestación. ¿Qué nos dice este valor sobre la relación entre estas dos variables? ¿Coincide esta conclusión con lo observado en el gráfico de dispersión? **(3 pts.)**"
   ]
  },
  {
   "cell_type": "code",
   "execution_count": null,
   "metadata": {
    "nbgrader": {
     "grade": true,
     "grade_id": "prac-5cod",
     "locked": false,
     "points": 1,
     "schema_version": 3,
     "solution": true,
     "task": false
    }
   },
   "outputs": [],
   "source": []
  },
  {
   "cell_type": "markdown",
   "metadata": {
    "nbgrader": {
     "grade": true,
     "grade_id": "prac-5tex",
     "locked": false,
     "points": 2,
     "schema_version": 3,
     "solution": true,
     "task": false
    }
   },
   "source": []
  },
  {
   "cell_type": "markdown",
   "metadata": {
    "nbgrader": {
     "grade": false,
     "grade_id": "prac-6",
     "locked": true,
     "schema_version": 3,
     "solution": false,
     "task": false
    }
   },
   "source": [
    "6) Realice la prueba de hipótesis apropiada para determinar si existe una correlación lineal entre el peso al nacer y la cantidad de semanas de gestación. Escriba las hipótesis correspondientes para esta prueba y concluya con base en el valor de p y el intervalo de confianza. **(4 pts.)**"
   ]
  },
  {
   "cell_type": "code",
   "execution_count": null,
   "metadata": {
    "nbgrader": {
     "grade": true,
     "grade_id": "prac-6cod",
     "locked": false,
     "points": 1,
     "schema_version": 3,
     "solution": true,
     "task": false
    }
   },
   "outputs": [],
   "source": []
  },
  {
   "cell_type": "markdown",
   "metadata": {
    "nbgrader": {
     "grade": true,
     "grade_id": "prac-6tex",
     "locked": false,
     "points": 3,
     "schema_version": 3,
     "solution": true,
     "task": false
    }
   },
   "source": []
  },
  {
   "cell_type": "markdown",
   "metadata": {
    "nbgrader": {
     "grade": false,
     "grade_id": "prac-7inst",
     "locked": true,
     "schema_version": 3,
     "solution": false,
     "task": false
    }
   },
   "source": [
    "7) A continuación se presenta el código en R para realizar una regresión lineal simple, utilizando el peso al nacer como variable de respuesta ($Y$) y la cantidad de semanas de gestación como variable predictora ($X$). Los resultados de este modelo se guardaron en el objeto `mod` y puede obtenerlos corriendo este bloque de código:"
   ]
  },
  {
   "cell_type": "code",
   "execution_count": 3,
   "metadata": {
    "nbgrader": {
     "grade": false,
     "grade_id": "mod-reg",
     "locked": true,
     "schema_version": 3,
     "solution": false,
     "task": false
    }
   },
   "outputs": [
    {
     "data": {
      "text/plain": [
       "\n",
       "Call:\n",
       "lm(formula = peso_nacer ~ semanas_gestacion, data = infantes)\n",
       "\n",
       "Residuals:\n",
       "    Min      1Q  Median      3Q     Max \n",
       "-592.30 -136.72   21.42  162.49 1050.25 \n",
       "\n",
       "Coefficients:\n",
       "                   Estimate Std. Error t value Pr(>|t|)    \n",
       "(Intercept)       -1106.660    285.282  -3.879  0.00019 ***\n",
       "semanas_gestacion    76.861      9.837   7.813 6.34e-12 ***\n",
       "---\n",
       "Signif. codes:  0 '***' 0.001 '**' 0.01 '*' 0.05 '.' 0.1 ' ' 1\n",
       "\n",
       "Residual standard error: 248 on 98 degrees of freedom\n",
       "Multiple R-squared:  0.3838,\tAdjusted R-squared:  0.3775 \n",
       "F-statistic: 61.05 on 1 and 98 DF,  p-value: 6.338e-12\n"
      ]
     },
     "metadata": {},
     "output_type": "display_data"
    }
   ],
   "source": [
    "mod <- lm(peso_nacer ~ semanas_gestacion, data = infantes)\n",
    "summary(mod)"
   ]
  },
  {
   "cell_type": "markdown",
   "metadata": {
    "nbgrader": {
     "grade": false,
     "grade_id": "prac-7a",
     "locked": true,
     "schema_version": 3,
     "solution": false,
     "task": false
    }
   },
   "source": [
    "Con base en el summary anterior, conteste las siguientes preguntas:\n",
    "\n",
    "a) Interprete el coeficiente relacionado con la variable de las semanas de gestación (`semanas_gestacion` en el summary). En términos de la relación entre el peso al nacer y las semanas de gestación, ¿que significa que el coeficiente sea positivo? Justifique su respuesta. **(2 pts.)**"
   ]
  },
  {
   "cell_type": "markdown",
   "metadata": {
    "nbgrader": {
     "grade": true,
     "grade_id": "prac-7atex",
     "locked": false,
     "points": 2,
     "schema_version": 3,
     "solution": true,
     "task": false
    }
   },
   "source": []
  },
  {
   "cell_type": "markdown",
   "metadata": {
    "nbgrader": {
     "grade": false,
     "grade_id": "prac-7b",
     "locked": true,
     "schema_version": 3,
     "solution": false,
     "task": false
    }
   },
   "source": [
    "b) ¿Tiene sentido interpretar el coeficiente de la intersección del modelo en este caso? Justifique su respuesta. **(1 pt.)**"
   ]
  },
  {
   "cell_type": "markdown",
   "metadata": {
    "nbgrader": {
     "grade": true,
     "grade_id": "prac-7btex",
     "locked": false,
     "points": 1,
     "schema_version": 3,
     "solution": true,
     "task": false
    }
   },
   "source": []
  },
  {
   "cell_type": "markdown",
   "metadata": {
    "nbgrader": {
     "grade": false,
     "grade_id": "prac-7c",
     "locked": true,
     "schema_version": 3,
     "solution": false,
     "task": false
    }
   },
   "source": [
    "c) Interprete el coeficiente de determinación, o $R^2$, del modelo. ¿Qué relación tiene este valor con la correlación entre las dos variables? **(2 pts.)**"
   ]
  },
  {
   "cell_type": "markdown",
   "metadata": {
    "nbgrader": {
     "grade": true,
     "grade_id": "prac-7ctex",
     "locked": false,
     "points": 2,
     "schema_version": 3,
     "solution": true,
     "task": false
    }
   },
   "source": []
  },
  {
   "cell_type": "markdown",
   "metadata": {
    "nbgrader": {
     "grade": false,
     "grade_id": "prac-7d",
     "locked": true,
     "schema_version": 3,
     "solution": false,
     "task": false
    }
   },
   "source": [
    "d) Con base solamente en lo realizado durante este examen, ¿se puede concluir que hay una relación de causa y efecto entre las semanas de gestación y el peso al nacer de los infantes? Justifique su respuesta. **(1 pt.)**"
   ]
  },
  {
   "cell_type": "markdown",
   "metadata": {
    "nbgrader": {
     "grade": true,
     "grade_id": "prac-7dtex",
     "locked": false,
     "points": 1,
     "schema_version": 3,
     "solution": true,
     "task": false
    }
   },
   "source": []
  },
  {
   "cell_type": "markdown",
   "metadata": {
    "nbgrader": {
     "grade": false,
     "grade_id": "final",
     "locked": true,
     "schema_version": 3,
     "solution": false,
     "task": false
    }
   },
   "source": [
    "# <center>¡Mucha suerte!<a class=\"tocSkip\"></center>"
   ]
  }
 ],
 "metadata": {
  "kernelspec": {
   "display_name": "R",
   "language": "R",
   "name": "ir"
  },
  "language_info": {
   "codemirror_mode": "r",
   "file_extension": ".r",
   "mimetype": "text/x-r-source",
   "name": "R",
   "pygments_lexer": "r",
   "version": "4.0.2"
  },
  "toc": {
   "base_numbering": 1,
   "nav_menu": {},
   "number_sections": true,
   "sideBar": true,
   "skip_h1_title": false,
   "title_cell": "Table of Contents",
   "title_sidebar": "Contents",
   "toc_cell": false,
   "toc_position": {},
   "toc_section_display": true,
   "toc_window_display": false
  },
  "varInspector": {
   "cols": {
    "lenName": 16,
    "lenType": 16,
    "lenVar": 40
   },
   "kernels_config": {
    "python": {
     "delete_cmd_postfix": "",
     "delete_cmd_prefix": "del ",
     "library": "var_list.py",
     "varRefreshCmd": "print(var_dic_list())"
    },
    "r": {
     "delete_cmd_postfix": ") ",
     "delete_cmd_prefix": "rm(",
     "library": "var_list.r",
     "varRefreshCmd": "cat(var_dic_list()) "
    }
   },
   "types_to_exclude": [
    "module",
    "function",
    "builtin_function_or_method",
    "instance",
    "_Feature"
   ],
   "window_display": false
  }
 },
 "nbformat": 4,
 "nbformat_minor": 4
}
