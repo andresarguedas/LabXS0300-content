{
 "cells": [
  {
   "cell_type": "markdown",
   "metadata": {
    "deletable": false,
    "editable": false,
    "nbgrader": {
     "cell_type": "markdown",
     "checksum": "8c4082f331696474e9522de2a429bac5",
     "grade": false,
     "grade_id": "header",
     "locked": true,
     "schema_version": 3,
     "solution": false,
     "task": false
    }
   },
   "source": [
    "# <span style=\"color: blue\">Laboratorio 4: Probabilidades</span> <a class=\"tocSkip\"> \n",
    "\n",
    "### <span style=\"color: green\">Prof. Andrés Arguedas - XS-0300 - II 2020</span> <a class=\"tocSkip\"> \n",
    "\n",
    "*Este laboratorio es parte del curso XS-0300 Estadística para Biología I de la Escuela de Estadística de la Universidad de Costa Rica, y se presenta con una licencia [CC-BY-SA 4.0](https://creativecommons.org/licenses/by-sa/4.0/).*\n",
    "\n",
    "**ATENCIÓN:** Antes de entregar este laboratorio, asegúrese que todo corre como se espera. Para hacer esto, primero **reinice el kernel**, esto lo puede hacer seleccionado **Kernel** en el menú y luego **Restart**. Habiendo reiniciado el kernel, **corra todas las celdas**, esto lo puede hacer seleccionando **Cell** en el menú y luego **Run All**.\n",
    "\n",
    "Por último, recuerde rellenar cualquier lugar donde diga `ESCRIBA SU CÓDIGO AQUÍ` o \"ESCRIBA SU RESPUESTA AQUI\", así como escribir su nombre y carné a continuación:"
   ]
  },
  {
   "cell_type": "code",
   "execution_count": null,
   "metadata": {},
   "outputs": [],
   "source": [
    "NOMBRE = \"\"\n",
    "CARNE = \"\""
   ]
  },
  {
   "cell_type": "markdown",
   "metadata": {},
   "source": [
    "---\n",
    "\n",
    "## Preparación para este laboratorio\n",
    "    \n",
    "El presente laboratorio tiene como objetivos de aprendizaje:\n",
    "    \n",
    "1. Conocer las distribuciones de Poisson, Binomial y Normal, junto con sus parámetros y como trabajar con ellas en R\n",
    "2. Calcular probabilidades puntuales, acumuladas y percentiles utilizando las funciones de R\n",
    "\n",
    "En este laboratorio utilizaremos el conjunto de datos de `crabs`, junto con los paquetes `ggplot2`, `readr` y `dplyr`. Ya todos estos paquetes están descargados y disponibles en el entorno virtual, al igual que el conjunto de datos, por lo que no es necesario que descarguen o consigan ningún paquete o conjunto de datos adicional, todos ya están disponibles.\n",
    "\n",
    "---"
   ]
  },
  {
   "cell_type": "markdown",
   "metadata": {},
   "source": [
    "## Preguntas iniciales\n",
    "\n",
    "Antes de empezar el laboratorio, intente contestar las siguientes preguntas: *(las respuestas las puede desplegar dando click sobre la pregunta)*\n",
    "\n",
    "1. <details>\n",
    "    <summary><b>¿Qué es una probabilidad?</b></summary>\n",
    "    \n",
    "    Una probabilidad es un número, entre 0 y 1, que expresa nuestra confianza, o certeza, en la ocurrencia de un cierto fenómeno. Aunque técnicamente siempre está entre 0 y 1, se puede multiplicar esta probabilidad por 100 para pasar de una proporción a un porcentaje, que es como normalmente se interpreta. En el caso de una probabilidad de p, se interpreta como: el evento ocurrirá con un 100*p% de probabilidad. Por lo tanto, cuando la probabilidad es 0 significa que nunca ocurrirá, mientras que una probabilidad de 1 significa que siempre ocurrirá.\n",
    "    </details>\n",
    "\n",
    "\n",
    "2. <details>\n",
    "    <summary><b>Explique la diferencia entre una variable aleatoria continua y una discreta.</b></summary>\n",
    "    \n",
    "    La principal diferencia entre una variable aleatoria continua y una discreta se da en el rango donde está definida la variable. En el caso de una variable discreta, solamente puede tomar algunos valores en un intervalo: por ejemplo, cuando tiramos un dado y vemos la cantidad de puntos en la cara que salió. En dicho caso, solamente pueden haber 6 valores posibles: 1, 2, 3, 4, 5 y 6; no puede ser un valor fuera de esos 6, por lo que es una variable aleatoria discreta. En caso contrario, si una variable aleatoria puede tomar cualquier valor en un intervalo, se le conoce como una variable aleatoria continua. La mayor parte de las mediciones: peso, altura, largo, etc. son variables aleatorias continuas, ya que teóricamente puede tomar cualquier valor posible, solamente que al momento de medirlas las redondeamos. Por lo tanto: si una variable solamente puede tomar algunos valores en un intervalo, es una variable aleatoria discreta, mientras que si puede tomar cualquier valor en un intervalo, es una variable aleatoria continua.\n",
    "    \n",
    "    </details>\n",
    "   \n",
    "   \n",
    "3. <details>\n",
    "    <summary><b>¿Qué es una distribución de probabilidad?</b></summary>\n",
    "    \n",
    "    Una distribución de probabilidad es una tabla, gráfico, o función matemática que relaciona los eventos simples posibles de un experimento con sus respectivas probabilidades. Por lo general, utilizamos un gráfico o función para trabajar con la distribución de probabilidad y para poder comparar los resultados empíricos de una cierta variable con una distribución de probabilidad dada.\n",
    "    </details>\n",
    "    \n",
    "\n",
    "---"
   ]
  },
  {
   "cell_type": "markdown",
   "metadata": {},
   "source": [
    "## Trabajando con probabilidades en R\n",
    "\n",
    "Para poder trabajar con distribuciones de probabilidades con R, los comandos están compuestos por dos partes: un **prefijo** y una **distribución**. Por lo anterior, podemos determinar que `qbinom()` calcula percentiles de una distribución , mientras que `dpois()` calcula probabilidades puntuales de una distribución de Poisson. Vamos a empezar estudiando los cuatro distintos prefijos:\n",
    "\n",
    "| Prefijo | Uso | Argumentos |\n",
    "|:---:|:---:|:---:|\n",
    "| `d` | Calcula la densidad, o la probabilidad puntual, de un cierto número | El número para el cual se quiere calcular la densidad o probabilidad puntual\n",
    "| `p` | Calcula la probabilidad acumulada para un cierto número, ya sea en la cola izquierda o derecha | El número para el cual se quiere calcular la probabilidad acumulada\n",
    "| `q` | Calcula el percentil correspondiente, es decir, el número que acumula una cierta cantidad de probabilidad | La probabilidad acumulada para la cual se quiere calcular el percentil\n",
    "| `r` | Devuelve una muestra aleatoria proveniente de la distribución de probabilidad deseada | El tamaño de la muestra aleatoria que se quiere obtener\n",
    "\n",
    "De forma sencilla, `d` calcula la probabilidad puntual, `p` calcula la probabilidad acumulada, `q` calcula el percentil y `r` devuelve una muestra aleatoria. Todos estos prefijos son iguales entre las distintas distribuciones, por lo que lo único que hay que cambiar es la distribución deseada, de las cuales están son las que usaremos por ahora:\n",
    "\n",
    "| Comando | Distribución | Argumentos |\n",
    "|:---:|:---:|:---:|\n",
    "| `binom` | Binomial | `n`: la cantidad de experimentos realizados, `p`: la probabilidad de encontrar un éxito |\n",
    "| `pois` | Poisson | `lambda`: la tasa, o el promedio, ($\\lambda$) mediante los cuales los eventos ocurren a lo largo del continuo |\n",
    "| `norm` | Normal | `mean`: el promedio de la variable ($\\mu$), `sd`: la desviación estándar de la variable ($\\sigma^2$)\n",
    "\n",
    "Entonces, lo que hacemos para obtener los resultados deseados es juntar un prefijo con una distribución, y obtenemos el resultado deseado. Por esto, `pbinom`, `ppois` y `pnorm` todos calculan probabilidades acumuladas, pero de distribuciones distintas, mientras que `pnorm` y `qnorm` ambas son de la distribución normal, pero calculan una probabilidad acumulada y percentiles, respectivamente. A lo largo del laboratorio, conforme trabajemos con distintas distribuciones de probabilidades, veremos algunos ejemplos de usos de estas distintas funciones.\n",
    "\n",
    "---"
   ]
  },
  {
   "cell_type": "markdown",
   "metadata": {},
   "source": [
    "## Conjunto de datos `crabs`\n",
    "\n",
    "En este laboratorio vamos a usar un conjunto de datos llamado `crabs.csv` que contiene observaciones de 173 cangrejos herraduras ([*Limulus polyphemus*](https://es.wikipedia.org/wiki/Limulus_polyphemus)) hembras. Además, cada observación tiene cinco variables distintas:\n",
    "\n",
    "- `color`: el color del cangrejo, tiene cuatro niveles `dark`, `dark medium`, `light medium` y `medium`\n",
    "- `spine`: la calidad de las espinas, tiene tres niveles `both bad`, `mixed` y `both good`\n",
    "- `width`: el ancho del caparazón, medido en cm\n",
    "- `weight`: el peso, medido en kg\n",
    "- `n.satellites`: la cantidad de cangrejos machos cercanos\n",
    "\n",
    "---\n",
    "\n",
    "### Cargando los datos a R\n",
    "\n",
    "El conjunto de datos está disponible dentro de la carpeta `data/` del ambiente virtual, por lo que solamente ocupamos cargar el paquete `readr` y usar la función `read_csv()` para cargar el conjunto de datos a R:"
   ]
  },
  {
   "cell_type": "code",
   "execution_count": null,
   "metadata": {},
   "outputs": [],
   "source": [
    "library(readr)\n",
    "crabs <- read_csv(\"data/crabs.csv\")"
   ]
  },
  {
   "cell_type": "markdown",
   "metadata": {},
   "source": [
    "Hagamos un summary para determinar si hay algún cambio en las variables que ocupemos hacer:"
   ]
  },
  {
   "cell_type": "code",
   "execution_count": null,
   "metadata": {},
   "outputs": [],
   "source": [
    "summary(crabs)"
   ]
  },
  {
   "cell_type": "markdown",
   "metadata": {},
   "source": [
    "Como podemos notar, las variables `width`, `weight` y `n.satellites` son numéricas, como era de esperar, pero las variables `spine` y `color` fueron cargadas como texto, cuando deberían ser factores, por lo que podemos realizar el cambio con lo que sabemos de `dplyr`:"
   ]
  },
  {
   "cell_type": "code",
   "execution_count": null,
   "metadata": {},
   "outputs": [],
   "source": [
    "library(dplyr)\n",
    "\n",
    "crabs <- crabs %>% mutate(color = factor(color),\n",
    "                          spine = factor(spine))"
   ]
  },
  {
   "cell_type": "markdown",
   "metadata": {},
   "source": [
    "Volvamos a hacer un summary, para verificar que los cambios se hayan guardado:"
   ]
  },
  {
   "cell_type": "code",
   "execution_count": null,
   "metadata": {},
   "outputs": [],
   "source": [
    "summary(crabs)"
   ]
  },
  {
   "cell_type": "markdown",
   "metadata": {},
   "source": [
    "Ahora sí, podemos ver la cantidad de observaciones para cada nivel de las variables `color` y `spine`, por lo que R si las está leyendo como factores. A lo largo de este laboratorio trabajaremos con distintas variables de este conjunto de datos, para estudiar su comportamiento y determinar si se parecen a ciertas distribuciones de probabilidad teóricas, para poder hacer calculos de algunas probabilidades.\n",
    "\n",
    "---"
   ]
  },
  {
   "cell_type": "markdown",
   "metadata": {},
   "source": [
    "## La variable `n.satellites` como conteos\n",
    "\n",
    "Recordemos que la cantidad de satélites de un cangrejo, como dice su nombre, es un conteo, o una cantidad. Por lo anterior, es un número que va desde 0 hasta infinito (aunque sabemos que no pueden haber infinitos cangrejos, pero si una cantidad muy grande). Por lo anterior, dado que esta variable solamente puede tomar algunos valores en el intervalo, es una variable aleatoria discreta. A esto nos referimos ya que, por ejemplo, no puede haber 0,5 cangrejos satélites, o $\\pi$ cangrejos satélites, sino que ocupa ser un número entero. Por lo general, cuando hablamos de conteos en un continuo, como lo es el tiempo, un área, un espacio, etc. nos estamos relacionando con una variable que puede venir de la distribución de Poisson. Esta distribución tiene la siguiente función para calcular probabilidades:\n",
    "\n",
    "$$\n",
    "P(X) = \\frac{\\lambda^x e^{- \\lambda}}{x !}, \\text{ con } x = 0, 1, 2, \\dots \n",
    "$$\n",
    "\n",
    "\n",
    "donde $\\lambda$ (lambda) es el único parámetro de esta distribución y se interpreta como el promedio, por lo que debe ser mayor o igual a 0. Aunque no vamos a trabajar directamente con esta función para calcular probabilidades, es importante tomar en cuenta que R, de fondo, lo que está haciendo son cálculos con base en la función anterior, donde le damos los parámetros y cálculos que queremos que haga. En este caso, como habíamos mencionado anteriormente, como tenemos un conteo en un tiempo y área, de los satélites, entonces podríamos suponer que esta variable viene de una distribución de Poisson, por lo que el próximo paso es determinar cual es el parámetro $\\lambda$ que la define. Antes de todo eso, vamos a estudiar más a profundidad la variable de interés, empezando por una tabla:"
   ]
  },
  {
   "cell_type": "code",
   "execution_count": null,
   "metadata": {},
   "outputs": [],
   "source": [
    "table(crabs$n.satellites)"
   ]
  },
  {
   "cell_type": "markdown",
   "metadata": {},
   "source": [
    "Como ya sabemos, la función `table()` nos devuelve los conteos para una cierta variable. En este caso, podemos ver que en 62 de las observaciones no se encontraron cangrejos satélites, entre 1 y 6 cangrejos parece encontrarse la mayoría de de las observaciones, mientras que en pocas observaciones se encontraron más de 7 cangrejos satélites. Aunque sabemos que las tablas son útiles, a veces se puede tornar un poco complicado ver la imagen general de una variable solamente con una tabla, por lo que podríamos hacer un gráfico, como un histograma, para tener una idea más clara de la distribución de esta variable:"
   ]
  },
  {
   "cell_type": "code",
   "execution_count": null,
   "metadata": {},
   "outputs": [],
   "source": [
    "library(ggplot2)\n",
    "\n",
    "crabs %>% ggplot(aes(x = n.satellites)) +\n",
    "    geom_histogram(bins = nclass.Sturges(crabs$n.satellites), \n",
    "                   fill = \"gray\", col = \"black\") +\n",
    "    labs(x = \"Número de satélites\",\n",
    "           y = \"Frecuencia\") +\n",
    "    theme_bw()"
   ]
  },
  {
   "cell_type": "markdown",
   "metadata": {},
   "source": [
    "El histograma anterior parece dar evidencia a favor de nuestra observación general: hay muchas cangrejas sin satélites, la otra gran mayoría tienen entre 1 y 6, mientras que pocas tienen 7 o más satélites. Aun así dado que la variable `n.satellites` es un conteo, por lo que no puede tener decimales, ¿es apropiado realizar un histograma? Aunque, técnicamente, podemos hacer un histograma para variables discretas, por lo general es más sencillo interpretar y trabajar con un gráficos de barras, dado que, por ejemplo, en la primera barra del histograma anterior no sabemos hasta donde llega la primera barra, es decir, si incluye el 0 y el 1, o si también incluye el 2, y se vuelve incluso más confuso conforme nos movemos hacia la derecha. Por lo anterior, podemos hacer un gráfico de barras para ver con mayor detalle nuestra variable de interés:"
   ]
  },
  {
   "cell_type": "code",
   "execution_count": null,
   "metadata": {},
   "outputs": [],
   "source": [
    "crabs %>% ggplot(aes(x = n.satellites)) +\n",
    "    geom_bar(fill = \"gray\", col = \"black\") +\n",
    "    labs(x = \"Número de satélites\",\n",
    "           y = \"Frecuencia\") +\n",
    "    theme_bw()"
   ]
  },
  {
   "cell_type": "markdown",
   "metadata": {},
   "source": [
    "Noten que la principal diferencia entre los comandos para crear ambos es que el primero utiliza `geom_histogram()` para crear un histograma, mientras que el segundo utiliza `geom_bar()` para hacer un gráfico de barras. Además, aunque las conclusiones generales siguen siendo las mismas, al hacer el gráfico de barras podemos ver, de forma más desglosada, la distribución de la variable. Nuevamente, este gráfico tiene sentido dado que **la variable solo puede tomar algunos valores, en este caso números naturales**, si la variable fuera continua el histograma seguiría siendo la forma gráfica más apropiada para representarla. Si quitaramos la cantidad tan grande de ceros, podemos notar que, aunque la frecuencia en 1 es un poco elevada, por lo general, conforme la cantidad de satélites aumenta, la frecuencia de cangrejos también aumenta, hasta 3 y 4 satélites, donde a partir de esta cantidad de satélites, por lo general, la frecuencia disminuye conforme aumenta la cantidad de satélites, con muy pocos cangrejos teniendo muchos satélites. Esto lo podemos soportar calculando el promedio de esta variable:"
   ]
  },
  {
   "cell_type": "code",
   "execution_count": null,
   "metadata": {},
   "outputs": [],
   "source": [
    "lam <- mean(crabs$n.satellites)\n",
    "lam"
   ]
  },
  {
   "cell_type": "markdown",
   "metadata": {},
   "source": [
    "Esto promedio lo podemos interpretar como que, en promedio, las cangrejas tienen 2,92 cangrejos satélites, es decir, casi 3 satélites. Recordemos que, en el caso de una distribución de Poisson, el único parámetro que ocupamos es su promedio, o $\\lambda$, que en este caso sería el valor que acabamos de calcular. Ahora, nada más para efectos de verificación, vamos a calcular la variancia de la cantidad de satélites:"
   ]
  },
  {
   "cell_type": "code",
   "execution_count": null,
   "metadata": {},
   "outputs": [],
   "source": [
    "lam.v <- var(crabs$n.satellites)\n",
    "lam.v"
   ]
  },
  {
   "cell_type": "markdown",
   "metadata": {},
   "source": [
    "Por propiedades de la distribución de Poisson, teóricamente su promedio debería ser igual a su variancia, es decir, el parámetro $\\lambda$. Como podemos ver, en el caso de nuestra variable, el promedio es de 2,92, mientras que la variancia es de 9,91, por lo que claramente no son iguales. Esto nos da un indicio que la distribución de nuestra variable no necesariamente es \"perfecta\" como una Poisson, sino que, como estamos trabajando con una muestra basado en datos y fenómenos reales, lo observado no tiene porque ser idéntico a lo teórico. En otras palabras, puede que la variable de fondo, la *población*, sea Poisson, pero nuestras observaciones, al ser solo una posible *muestra*, puede variar un poco de la distribución téorica. Por ahora, vamos a realizar esta comparación de la distribución observada con la teórica calculando la cantidad esperada de cangrejas con cada número de satélites, utilizando el siguiente comando:"
   ]
  },
  {
   "cell_type": "code",
   "execution_count": null,
   "metadata": {},
   "outputs": [],
   "source": [
    "d <- dpois(0:15, lambda = lam) * 173\n",
    "d"
   ]
  },
  {
   "cell_type": "markdown",
   "metadata": {},
   "source": [
    "Para poder crear el objeto `d`, lo que estamos haciendo es calculando la probabilidad de encontrar una cangreja con cada uno de las cantidades de satélites deseadas, entre 0 y 15, mediante el comando `dpois()`. Recuerden que `d...` calcula una probabilidad puntual, mientras que `...pois()` hace referencia a la distribución Poisson. Por lo tanto, el primer número de `d`, que es 9,34 aproximadamente, nos dice que, asumiendo que las cangrejas tienen en promedio 2,92 cangrejos satélites, esperaríamos encontrar 9,34 cangrejas con 0 satélites en una muestra de tamaño 173, que es con la que estamos trabajando. Comparado con las 62 observaciones que tuvimos de cangrejas sin satélites, podemos verificar que hay una diferencia muy grande entre la cantidad teórica, 9,34, y la observada, 62, lo cual, nuevamente, nos da indicios de que puede existir otra distribución de fondo, que no sea la Poisson, que es de donde vienen nuestros datos. Por ahora, vamos a agregar las frecuencias esperadas teóricamente al gráfico de barrras, mediante puntos rojos, como se muestra a continuación:"
   ]
  },
  {
   "cell_type": "code",
   "execution_count": null,
   "metadata": {},
   "outputs": [],
   "source": [
    "crabs %>% count(n.satellites) %>% \n",
    "    mutate(pois = dpois(n.satellites, lambda = lam) * 173) %>% \n",
    "    ggplot(aes(x = n.satellites, y = n)) +\n",
    "    geom_col(fill = \"gray\", col = \"black\") +\n",
    "    geom_point(aes(y = pois), col = \"red\") +\n",
    "    labs(x = \"Número de satélites\",\n",
    "         y = \"Frecuencia\") +\n",
    "    theme_bw()"
   ]
  },
  {
   "cell_type": "markdown",
   "metadata": {},
   "source": [
    "No es necesario que le pongan mucha atención al código utilizado para generar el gráfico, sino más bien al resultado del gráfico. Como podemos notar, la mayor diferencia entre el valor teórico, representado como un punto rojo, y el valor observado es cuando se tienen 0 satélites, donde teóricamente hay deberían muchas menos observaciones que las realmente observadas. Para el caso de 1 a 5 satélites, todas las cantidades téoricas son mayores a las observadas, mientras que, con 6 o más satélites, mas bien hay más observadas que las esperadas teóricamente, pero la diferencia no es tan marcada como cuando se tienen cantidades menores de satélites. Por todo lo anterior, parece que suponer una distribución de Poisson con un $\\lambda$ de 2,92 no es una forma muy apropiada de describir la variable `n.satellites`. En este caso, lo más probable es que esta variable provenga de una distribución denominada **Poisson inflada por ceros**, la cual es una especie de caso especial de la distribución de Poisson, donde se sabe que hay muchos más ceros de los esperados, como es el caso que acabamos de trabajar. Aun así, para efectos de este laboratorio, vamos a partir de que realmente la distribución de la cantidad de satélites es Poisson con el parámetro calculado, para poder obtener probabilidades.\n",
    "\n",
    "### Cálculo de probabilidades y percentiles de la Poisson en R\n",
    "\n",
    "Asumiendo que la cantidad de satélites sigue una distribución de Poisson con parámetro 2,92, podemos calcular diversas probabilidades y percentiles de interés. Por ejemplo, si queremos obtener la probabilidad de encontrar un cangrejo con exactamente 6 satélites, utilizaríamos la función `dpois()`, como se presenta a continuación:"
   ]
  },
  {
   "cell_type": "code",
   "execution_count": null,
   "metadata": {},
   "outputs": [],
   "source": [
    "dpois(6, lam)"
   ]
  },
  {
   "cell_type": "markdown",
   "metadata": {},
   "source": [
    "En este caso, utilizamos `dpois()` dado que queremos calcular una probabilidad puntual (*exactamente 6 satélites*) utilizando una distribución de Poisson. Además, el primer argumento que le damos a `dpois()` es el valor de interés, en nuestro caso 6, y luego el parámetro $\\lambda$, por ser una distribución de Poisson, que es de 2,92. Por lo anterior, siempre que querramos trabajar con nuestra distribución de Poisson, tendremos que agregar `2.92` como el segundo parámetro de la función, dado que es la misma distribución para todos los cálculos.\n",
    "\n",
    "Ahora si, al momento de interpretar la probabilidad, decimos que la probabilidad de encontrar una cangreja con **exactamente** 6 satélites es de 0,04, o de un 4%. Esto es una probabilidad relativamente baja, dado que estamos diciendo que, si escogemos una cangreja aleatoriamente, solamente un 4% tendrán 6 satélites. Pero entonces, ¿que pasa si queremos ser un poco más permisivos y queremos obtener la probabilidad de encontrar una cangreja con 5 o 6 satélites? Lo anterior lo podemos hacer mediante la suma de probabilidades:"
   ]
  },
  {
   "cell_type": "code",
   "execution_count": null,
   "metadata": {},
   "outputs": [],
   "source": [
    "dpois(5, lam) + dpois(6, lam)"
   ]
  },
  {
   "cell_type": "markdown",
   "metadata": {},
   "source": [
    "En este caso veamos que la probabilidad pasó de ser un 4% de encontrar 6 satélites a un 14% de encontrar 5 o 6 satélites. Cuando tenemos uno, dos o hasta tres eventos separados utilizar la función `d...()` es bastante sencillo, pero si ya queremos calcular la probabilidad de más eventos, como por ejemplo, de encontrar 6 o menos satélites, es más sencillo utilizar la función `p...()`:"
   ]
  },
  {
   "cell_type": "code",
   "execution_count": null,
   "metadata": {},
   "outputs": [],
   "source": [
    "ppois(6, lam)"
   ]
  },
  {
   "cell_type": "markdown",
   "metadata": {},
   "source": [
    "Como queremos calcular la probabilidad de encontrar **a lo sumo** 6 satélites, utilizamos la función `ppois()`, dando como primer argumento 6, o el valor deseado. en términos de interpretación, diríamos que la probabilidad de encontrar una cangreja con 6 o menos satélites es de 0,97, o de un 97%, lo cual es muy alto. Otra forma de calcular la probabilidad anterior es sumando las probabilidades de todos los eventos desde el 0 hasta el 6, como se muestra a continuación:"
   ]
  },
  {
   "cell_type": "code",
   "execution_count": null,
   "metadata": {},
   "outputs": [],
   "source": [
    "dpois(0, lam) + dpois(1, lam) + dpois(2, lam) + dpois(3, lam) + dpois(4, lam) + dpois(5, lam) + dpois(6, lam)"
   ]
  },
  {
   "cell_type": "markdown",
   "metadata": {},
   "source": [
    "Aunque el resultado es el mismo, claramente es más sencillo utilizar `ppois()` que `dpois()` para calcular estas probabilidades acumuladas. Pero ahora, ¿cuál es la probabilidad de encontrar una cangreja con 7 o más satélites? Como sabemos que la probabilidad de la suma de todos los eventos tiene que ser 1, podemos restarle 1 a la probabilidad que obtuvimos anteriormente para obtener esta nueva probabilidad:"
   ]
  },
  {
   "cell_type": "code",
   "execution_count": null,
   "metadata": {},
   "outputs": [],
   "source": [
    "1 - ppois(6, lam)"
   ]
  },
  {
   "cell_type": "markdown",
   "metadata": {},
   "source": [
    "Como era de esperarse, la probabilidad de encontrar una cangreja con 7 o más satélites es bastante baja, de 0,03 o de un 3%, aproximadamente. Otra forma de calcular esta probabilidad es cambiando el argumento `lower.tail` de la función `p...()` que calcula la probabilidad de encontrar **más** del valor establecido, en lugar de **a lo sumo** el valor establecido, como se muestra a continuación:"
   ]
  },
  {
   "cell_type": "code",
   "execution_count": null,
   "metadata": {},
   "outputs": [],
   "source": [
    "ppois(6, lam, lower.tail = F)"
   ]
  },
  {
   "cell_type": "markdown",
   "metadata": {},
   "source": [
    "Como se puede notar, el resultado es el mismo, por lo que cualquier forma de calcular la probabilidad es igual. Habiendo visto como calcular probabilidades acumuladas, vamos a ver como calcular percentiles, o cuantilos, para una cierta distribución. Esto lo podemos hacer mediante las funciones `q...()`, donde le damos como argumento la probabilidad acumulada que deseamos. Por lo tanto, si quisieramos obtener la mediana, es decir el valor que acumula un 50% de probabilidad por debajo de sí, podríamos utilizar el siguiente comando:"
   ]
  },
  {
   "cell_type": "code",
   "execution_count": null,
   "metadata": {},
   "outputs": [],
   "source": [
    "qpois(0.5, lam)"
   ]
  },
  {
   "cell_type": "markdown",
   "metadata": {},
   "source": [
    "El comando anterior nos devolvió una cantidad de satélites, por lo que la interpretación de dicho resultado sería que, se espera que un 50% de las cangrejas tengan 3 satélites, o menos. En este caso le estamos dando como argumento a `qpois()` una probabilidad y nos está devolviendo una cantidad de satélites, mientras que con `ppois()` le dabamos una cantidad de satélites y nos devolvía una probabilidad. Esto se debe a que las funciones `p...()` y `q...()` son complementarias, es decir, si metemos el resultado de una función en otra, nos devuelve el valor original, como se muestra a continuación:"
   ]
  },
  {
   "cell_type": "code",
   "execution_count": null,
   "metadata": {},
   "outputs": [],
   "source": [
    "ppois(6, lam)\n",
    "qpois(ppois(6, lam), lam)"
   ]
  },
  {
   "cell_type": "markdown",
   "metadata": {},
   "source": [
    "Más adelante en el laboratorio, cuando trabajemos con otras distribuciones, utilizaremos las funciones `d...()`, `p...()` y `q...()` de forma similar, por lo que todas las explicaciones de esta sección aplicarán para cualquier otra distribución que utilicemos más adelante.\n",
    "\n",
    "---"
   ]
  },
  {
   "cell_type": "markdown",
   "metadata": {
    "deletable": false,
    "editable": false,
    "nbgrader": {
     "cell_type": "markdown",
     "checksum": "1a8d28e5f11f662da6baa115e320f80c",
     "grade": false,
     "grade_id": "ej1-enun",
     "locked": true,
     "schema_version": 3,
     "solution": false,
     "task": false
    }
   },
   "source": [
    "### Ejercicios (3 pts.)\n",
    "\n",
    "Un grupo de personas investigadoras hizo un conteo de la cantidad de tortugas que llegaban a una cierta playa durante una hora. Para esto, hicieron cerca de 50 mediciones y determinaron que durante una hora cualquiera llegaban 5 tortugas, en promedio. Con base en lo anterior, calcula las siguientes probabilidades y guárdelas en los objetos correspondientes:\n",
    "\n",
    "1. `pois1`: probabilidad de que llegue ninguna tortuga durante una hora\n",
    "2. `pois2`: probabilidad de que lleguen más de 5 tortugas durante una hora\n",
    "3. `pois3`: probabilidad de que lleguen entre 1 y 8 tortugas durante una hora"
   ]
  },
  {
   "cell_type": "code",
   "execution_count": null,
   "metadata": {
    "deletable": false,
    "nbgrader": {
     "cell_type": "code",
     "checksum": "a30ce7f075f9f0cec5eb241e26034b50",
     "grade": false,
     "grade_id": "ej1",
     "locked": false,
     "schema_version": 3,
     "solution": true,
     "task": false
    }
   },
   "outputs": [],
   "source": [
    "# ESCRIBA SU CÓDIGO AQUÍ\n",
    "testthat::fail() # No respuesta - elimine esta línea si escribió una respuesta"
   ]
  },
  {
   "cell_type": "markdown",
   "metadata": {
    "deletable": false,
    "editable": false,
    "nbgrader": {
     "cell_type": "markdown",
     "checksum": "78d78c16e5bc28c58e00a2bd02a6c623",
     "grade": false,
     "grade_id": "cell-0c6bfd1aa078a1d5",
     "locked": true,
     "schema_version": 3,
     "solution": false,
     "task": false
    }
   },
   "source": [
    "Puede verificar sus respuestas a continuación:"
   ]
  },
  {
   "cell_type": "code",
   "execution_count": null,
   "metadata": {
    "deletable": false,
    "editable": false,
    "nbgrader": {
     "cell_type": "code",
     "checksum": "162cf857ed3ed30a6ddfb676b3197965",
     "grade": true,
     "grade_id": "pois1",
     "locked": true,
     "points": 1,
     "schema_version": 3,
     "solution": false,
     "task": false
    }
   },
   "outputs": [],
   "source": [
    "pois1"
   ]
  },
  {
   "cell_type": "code",
   "execution_count": null,
   "metadata": {
    "deletable": false,
    "editable": false,
    "nbgrader": {
     "cell_type": "code",
     "checksum": "c727d005b173fd749b4126e288e5e22f",
     "grade": true,
     "grade_id": "pois2",
     "locked": true,
     "points": 1,
     "schema_version": 3,
     "solution": false,
     "task": false
    }
   },
   "outputs": [],
   "source": [
    "pois2"
   ]
  },
  {
   "cell_type": "code",
   "execution_count": null,
   "metadata": {
    "deletable": false,
    "editable": false,
    "nbgrader": {
     "cell_type": "code",
     "checksum": "32d35f89ac71494b639b29530546a5f2",
     "grade": true,
     "grade_id": "pois3",
     "locked": true,
     "points": 1,
     "schema_version": 3,
     "solution": false,
     "task": false
    }
   },
   "outputs": [],
   "source": [
    "pois3"
   ]
  },
  {
   "cell_type": "markdown",
   "metadata": {},
   "source": [
    "---\n",
    "\n",
    "## La variable `n.satellites` como dicotómica\n",
    "\n",
    "Otra forma de trabajar con la mayoría de variables es mediante una dicotomización, es decir, transformar la variable en **Sí** o **No**, por lo general definiendo un cierto valor de *cota*. En este caso, por ejemplo, podríamos transformar la variable de la cantidad de satélites en una variable dicotómica, de la forma de \"tiene satélites\". Por lo tanto, si una cangreja tiene al menos un satélite, tendrá un valor de 1, mientras que si tiene ningún satélite tendrá un valor de 0. Aunque esto puede hacer más sencillo el análisis de las variables, siempre hay que recordar que estamos perdiendo información valiosa al pasar de una variable cualquier a una variable que sea solo 0 o 1. Aun así, para este ejercicio del laboratorio dicotomizaremos la variable `n.satellites` como mencionamos anteriormente:"
   ]
  },
  {
   "cell_type": "code",
   "execution_count": null,
   "metadata": {},
   "outputs": [],
   "source": [
    "crabs$dic <- ifelse(crabs$n.satellites > 0, 1, 0)\n",
    "crabs$dic"
   ]
  },
  {
   "cell_type": "markdown",
   "metadata": {},
   "source": [
    "En este caso la función `ifelse()` está realizando la prueba que habíamos establecido: ¿tiene la cangreja satélites? Si la cantidad de satélites es mayor que 0, se le asigna un valor de `1`, mientras que, en caso contrario, es decir si tiene 0 satélites, se le asigna un valor de `0`. Habiendo hecho el cambio a la variable, podemos calcular la probabilidad de que una cangreja tenga un satélite, calculando en la muestra la cantidad de cangrejas con satélites sobre el total de observaciones:"
   ]
  },
  {
   "cell_type": "code",
   "execution_count": null,
   "metadata": {},
   "outputs": [],
   "source": [
    "prob <- sum(crabs$dic) / length(crabs$dic)\n",
    "prob"
   ]
  },
  {
   "cell_type": "markdown",
   "metadata": {},
   "source": [
    "Podemos interpretar el valor anterior de forma sencilla, diciendo que un 64,16% de las cangrejas tienen satélites, lo que quiere decir que un 35,84% (100% - 64,16%) de las cangrejas no tienen satélites. Recordemos que el promedio de una variable dicotómica es la proporción de casos favorables, o casos donde se presenta la característica de interés. Ahora, dado que no conocemos la probabilidad poblacional de que las cangrejas tengan satélites, podemos partir del valor de nuestra muestra para hacer algunos cálculos iniciales de probabilidades.\n",
    "\n",
    "### Cálculo de probabilidades y percentiles de la binomial en R\n",
    "\n",
    "Por ahora vamos a trabajar con la distribución Binomial, que trata con experimentos que dan un resultado dicotómico: éxito o fracaso. Por lo tanto, esta distribución tiene dos parámetros: $n$, la cantidad de experimentos realizados; y $p$ la probabilidad de encontrar un éxito. En este caso, la función para hacer cálculos de las probabilidades es la siguiente:\n",
    "\n",
    "$$\n",
    "P(x) = {n \\choose x} p^x (1 - p)^{n-x}, \\text{ con } 0 \\leq p \\leq 1 \\text{ y } 0 \\leq x \\leq n\n",
    "$$\n",
    "\n",
    "Nuevamente, aunque no vamos a hacer cálculos de probabilidades de forma manual mediante la fórmula anterior, es importante saber que esta es la que usa R para hacer cálculos por nosotros. Por lo tanto, para empezar a calcular probabilidades, supongamos que la probabilidad de que una cangreja tenga satélites es de 0,6416, como mencionamos en la sección anterior. Por lo tanto, si tomaramos 10 cangrejas aleatoriamente, ¿cuál es la probabilidad de que ninguna tenga satélites? Esto probabilidad la podemos calcular mediante la distribución binomial y, dado que es una probabilidad exacta, podemos hacer uso de la función `dbinom()`:"
   ]
  },
  {
   "cell_type": "code",
   "execution_count": null,
   "metadata": {},
   "outputs": [],
   "source": [
    "dbinom(0, 10, 0.6416)"
   ]
  },
  {
   "cell_type": "markdown",
   "metadata": {},
   "source": [
    "Con respecto a la función, al igual que en el caso de la Poisson, el primer argumento representa el número para el cual queremos calcular la probabilidad de interés, mientras que los otros dos argumentos corresponden a los parámetros de la binomial, donde el primero es $n$, la cantidad de experimentos realizados, y el segundo es $p$, la probabilidad de encontrar un éxito. Por lo tanto, dado que estamos tomando 10 cangrejas aleatoriamente, entonces $n = 10$, mientras que la probabilidad de encontrar un éxito, una cangreja con satélites, sería $p = 0.6416$.\n",
    "\n",
    "Con respecto a la probabilidad, esta es de 0,000035, lo que quiere decir que la probabilidad de que ninguna cangreja de las 10 seleccionadas tenga satélites es de casi 0, es decir es muy poco probable. Esto tiene sentido ya que un porcentaje considerable de las cangrejas tenían al menos un satélite. Pero ahora, entonces, ¿cual es la probabilidad de que 5 o menos de las cangrejas seleccionadas tengan satélites? Esto lo podemos hacer mediante la función `pbinom()`:"
   ]
  },
  {
   "cell_type": "code",
   "execution_count": null,
   "metadata": {},
   "outputs": [],
   "source": [
    "pbinom(5, 10, 0.6416)"
   ]
  },
  {
   "cell_type": "markdown",
   "metadata": {},
   "source": [
    "Según esto, parece que es bastante probable que más de 6 de las 10 cangrejas escogidas tengan satélites, lo cual también podemos calcular mediante la función `pbinom()` agregando el argumento `lower.tail = F`:"
   ]
  },
  {
   "cell_type": "code",
   "execution_count": null,
   "metadata": {},
   "outputs": [],
   "source": [
    "pbinom(5, 10, 0.6416, lower.tail = F)"
   ]
  },
  {
   "cell_type": "markdown",
   "metadata": {},
   "source": [
    "Como se puede notar, la probabilidad de que más de 5 cangrejas de las 10 seleccionadas tengan satélites es de 0,73, aproximadamente. Esto quiere decir que lo más probable es que la mayoría de las 10 cangrejas seleccionadas tengan satélites, pero si queremos conocer la mediana, de forma exacta, podemos calcular mediante la función `qbinom()`:"
   ]
  },
  {
   "cell_type": "code",
   "execution_count": null,
   "metadata": {},
   "outputs": [],
   "source": [
    "qbinom(0.5, 10, 0.6416)"
   ]
  },
  {
   "cell_type": "markdown",
   "metadata": {},
   "source": [
    "Del resultado anterior, podemos decir que la mediana es 6, lo que quiere decir que la probabilidad de encontrar al menos 6 de las 10 cangrejas seleccionadas que tengan satélites es lo mismo que la probabilidad de encontrar a lo sumo 6 de las 10 cangrejas seleccionadas que tengan satélites. Nuevamente, las funciones `pbinom()` y `qbinom()` son complementarias, por lo que el resultado de una de ellas se puede utilizar como argumento para la otra:"
   ]
  },
  {
   "cell_type": "code",
   "execution_count": null,
   "metadata": {},
   "outputs": [],
   "source": [
    "pbinom(5, 10, 0.6416)\n",
    "qbinom(pbinom(5, 10, 0.6416), 10, 0.6416)"
   ]
  },
  {
   "cell_type": "markdown",
   "metadata": {
    "deletable": false,
    "editable": false,
    "nbgrader": {
     "cell_type": "markdown",
     "checksum": "d20bd8e4cac04f5177df17666a225d80",
     "grade": false,
     "grade_id": "ej2-enun",
     "locked": true,
     "schema_version": 3,
     "solution": false,
     "task": false
    }
   },
   "source": [
    "---\n",
    "\n",
    "### Ejercicios (3 pts.)\n",
    "\n",
    "Una investigadora quiere determinar si una cierta planta sobrevive ser transplantada a una tierra rica en lombrices. Hizo un total de 25 transplantes y encontró que en 10 de estos transplantes la planta no había sobrevivido. Con base en esto, definió la probabilidad de que la planta no sobreviviera el transplante como $p = 10/25 = 0.4$. Ahora, quiere hacer otro experimento transplantando 100 plantas y le pide que calcule las siguiente probabilidades y las guarde en los objetos correspondientes en R:\n",
    "\n",
    "1. `binom1`: La probabilidad de que a lo sumo una cuarta parte de las plantas no sobreviva\n",
    "2. `binom2`: La probabilidad de que no sobrevivan exactamente 50 plantas\n",
    "3. `binom3`: La probabilidad de que sobrevivan más plantas de las que no sobreviven"
   ]
  },
  {
   "cell_type": "code",
   "execution_count": null,
   "metadata": {
    "deletable": false,
    "nbgrader": {
     "cell_type": "code",
     "checksum": "9b221ebe1cd973979a7477ac1e529c70",
     "grade": false,
     "grade_id": "ej2",
     "locked": false,
     "schema_version": 3,
     "solution": true,
     "task": false
    }
   },
   "outputs": [],
   "source": [
    "# ESCRIBA SU CÓDIGO AQUÍ\n",
    "testthat::fail() # No respuesta - elimine esta línea si escribió una respuesta"
   ]
  },
  {
   "cell_type": "markdown",
   "metadata": {
    "deletable": false,
    "editable": false,
    "nbgrader": {
     "cell_type": "markdown",
     "checksum": "8a64c5067a9555d5b978396e5fe02a8f",
     "grade": false,
     "grade_id": "cell-a863ec6382dae89c",
     "locked": true,
     "schema_version": 3,
     "solution": false,
     "task": false
    }
   },
   "source": [
    "Puede comprobar sus respuestas a continuación:"
   ]
  },
  {
   "cell_type": "code",
   "execution_count": null,
   "metadata": {
    "deletable": false,
    "editable": false,
    "nbgrader": {
     "cell_type": "code",
     "checksum": "54b40e9304f162e37d94fc13acd016c0",
     "grade": true,
     "grade_id": "binom1",
     "locked": true,
     "points": 1,
     "schema_version": 3,
     "solution": false,
     "task": false
    }
   },
   "outputs": [],
   "source": [
    "binom1"
   ]
  },
  {
   "cell_type": "code",
   "execution_count": null,
   "metadata": {
    "deletable": false,
    "editable": false,
    "nbgrader": {
     "cell_type": "code",
     "checksum": "fbbdc5e77fdcd9ea1cefd93f170775d7",
     "grade": true,
     "grade_id": "binom2",
     "locked": true,
     "points": 1,
     "schema_version": 3,
     "solution": false,
     "task": false
    }
   },
   "outputs": [],
   "source": [
    "binom2"
   ]
  },
  {
   "cell_type": "code",
   "execution_count": null,
   "metadata": {
    "deletable": false,
    "editable": false,
    "nbgrader": {
     "cell_type": "code",
     "checksum": "81323a7d671e14204869bd7852190cce",
     "grade": true,
     "grade_id": "binom3",
     "locked": true,
     "points": 1,
     "schema_version": 3,
     "solution": false,
     "task": false
    }
   },
   "outputs": [],
   "source": [
    "binom3"
   ]
  },
  {
   "cell_type": "markdown",
   "metadata": {},
   "source": [
    "---\n",
    "\n",
    "## Las variables `weight` y `width`\n",
    "\n",
    "Las variables numéricas que nos quedan son `weight` y `width`, las cuales son mediciones del peso y el ancho de las cangrejas, respectivamente. Para empezar, veamos un histograma de ambas variables:"
   ]
  },
  {
   "cell_type": "code",
   "execution_count": null,
   "metadata": {},
   "outputs": [],
   "source": [
    "crabs %>% ggplot(aes(x = weight)) +\n",
    "    geom_histogram(bins = nclass.Sturges(crabs$weight),\n",
    "                   fill = \"#9AE5E6\", col = \"black\") +\n",
    "    labs(x = \"Peso\",\n",
    "         y = \"Frecuencia\") +\n",
    "    theme_bw()"
   ]
  },
  {
   "cell_type": "code",
   "execution_count": null,
   "metadata": {},
   "outputs": [],
   "source": [
    "crabs %>% ggplot(aes(x = width)) +\n",
    "    geom_histogram(bins = nclass.Sturges(crabs$width),\n",
    "                   fill = \"#960200\", col = \"black\") +\n",
    "    labs(x = \"Ancho\",\n",
    "         y = \"Frecuencia\") +\n",
    "    theme_bw()"
   ]
  },
  {
   "cell_type": "markdown",
   "metadata": {},
   "source": [
    "Como podemos notar, parece que ambas variables son relativamente simétricas y, aunque peso tiene un valor de 5, en general parecen comportarse de forma bastante \"normal\", aunque `width` más que `weight`. En este caso estamos trabajando con dos variables continuas, dado que el ancho y el peso de las cangrejas, teóricamente, puede tomar cualquier valor posible, solamente que se redondea al momento de hacer la medición, pero técnicamente el peso puede ser cualquier valor entre 0 e infinito, por ejemplo. En el caso de las mediciones, muchas de las que se obtienen siguien una distribución normal, la cual se puede distinguir dado que es simétrica y tiene forma de campana. Su función de distribución es:\n",
    "\n",
    "$$\n",
    "f(x) = \\frac{1}{\\sqrt{2 \\pi} \\sigma} e^{- \\frac{1}{2} \\left(\\frac{x - \\mu}{\\sigma}\\right)^2}\n",
    "$$\n",
    "\n",
    "donde los dos parámetros son $\\mu$, el promedio, y $\\sigma$, desviación estándar. Es importante recordar que, dado que estamos trabajando con una variable continua, la probabilidad de encontrar un valor **exacto** siempre va a ser igual a 0, por lo que casi nunca usaremos la función `dnorm()`, sino que sobre todo utilizaremos `pnorm()` y `qnorm()`. Para esta parte del laboratorio, trabajeremos solamente con la variable `width`, así que empezamos calculando el promedio y la desviación estándar de estas dos variables:"
   ]
  },
  {
   "cell_type": "code",
   "execution_count": null,
   "metadata": {},
   "outputs": [],
   "source": [
    "prom.wi <- mean(crabs$width)\n",
    "prom.wi\n",
    "sd.wi <- sd(crabs$width)\n",
    "sd.wi"
   ]
  },
  {
   "cell_type": "markdown",
   "metadata": {},
   "source": [
    "Podemos ver que, en promedio, el peso de las cangrejas es de 26,3 kg, con una desviación estándar de 2,11. Utilizando los resultados anteriores, podemos calcular la mediana de obtenida en la muestra y compararla con la mediana teórica, utilizando el comando `qnorm()`:"
   ]
  },
  {
   "cell_type": "code",
   "execution_count": null,
   "metadata": {},
   "outputs": [],
   "source": [
    "median(crabs$width)\n",
    "qnorm(0.5, prom.wi, sd.wi)"
   ]
  },
  {
   "cell_type": "markdown",
   "metadata": {},
   "source": [
    "Es importante notar que para las funciones `...norm()` los argumentos que usamos son el promedio y la desviación estándar, respectivamente. Además, como se puede notar, la mediana muestral es de 26,1, comparada con la mediana teórica de 26,3, por lo que ambas son bastante parecidas. Ahora, podemos hacer lo mismo con los percentiles 25 y 75, como se muestra a continuación:"
   ]
  },
  {
   "cell_type": "code",
   "execution_count": null,
   "metadata": {},
   "outputs": [],
   "source": [
    "quantile(crabs$width, c(0.25, 0.75))\n",
    "qnorm(c(0.25, 0.75), prom.wi, sd.wi)"
   ]
  },
  {
   "cell_type": "markdown",
   "metadata": {},
   "source": [
    "Nuevamente, ambos percentiles obtenidos en la muestra son muy similares a los obtenidos teóricamente, dado que la distribución muestral parece ser muy similar a la normal teórica. En este caso, recordemos que los percentiles se interpretan como que p% de las observaciones tienen valores menores o iguales, mientras que 100-p% tienen valores mayores o iguales. De igual forma, también podemos calcular ciertas probabilidades acumuladas como, por ejemplo, la probabilidad de que las cangrejas midan entre 22,5 y 27,5 cm de ancho:"
   ]
  },
  {
   "cell_type": "code",
   "execution_count": null,
   "metadata": {},
   "outputs": [],
   "source": [
    "pnorm(27.5, prom.wi, sd.wi) - pnorm(22.5, prom.wi, sd.wi)"
   ]
  },
  {
   "cell_type": "markdown",
   "metadata": {},
   "source": [
    "Como estamos tratando con variables continuas, no hay que tener tanto cuidado con las probabilidades acumuladas, dado que $P(X \\leq x) = P(X < x)$, por lo que el cálculo se torna más cómodo y sencillo. En este caso, podemos interpretar esta probabilidad como que un 67,97% de las cangrejas tienen un peso entre 22,5 y 27,5 kg.\n",
    "\n",
    "---"
   ]
  },
  {
   "cell_type": "markdown",
   "metadata": {
    "deletable": false,
    "editable": false,
    "nbgrader": {
     "cell_type": "markdown",
     "checksum": "4f5cc7a97af3d46b4b332b2dc8c02fef",
     "grade": false,
     "grade_id": "ej3-enun",
     "locked": true,
     "schema_version": 3,
     "solution": false,
     "task": false
    }
   },
   "source": [
    "### Ejercicios (3 pts.)\n",
    "\n",
    "Utilizando la variable `weight` del conjunto de datos `crabs` como referencia, obtenga los siguientes valores teóricos de la población y guárdelos en los objetos correspondientes:\n",
    "\n",
    "1. `norm1`: la mediana del peso de las cangrejas\n",
    "2. `norm2`: el RIC del peso de las cangrejas\n",
    "3. `norm3`: la probabilidad de encontrar una cangreja con peso entre 1 y 4 kg"
   ]
  },
  {
   "cell_type": "code",
   "execution_count": null,
   "metadata": {
    "deletable": false,
    "nbgrader": {
     "cell_type": "code",
     "checksum": "c63b71c49328f581afd00c924ba19ea1",
     "grade": false,
     "grade_id": "ej3",
     "locked": false,
     "schema_version": 3,
     "solution": true,
     "task": false
    }
   },
   "outputs": [],
   "source": [
    "# ESCRIBA SU CÓDIGO AQUÍ\n",
    "testthat::fail() # No respuesta - elimine esta línea si escribió una respuesta"
   ]
  },
  {
   "cell_type": "markdown",
   "metadata": {
    "deletable": false,
    "editable": false,
    "nbgrader": {
     "cell_type": "markdown",
     "checksum": "43c313af0c360db50ddb7ff400949eac",
     "grade": false,
     "grade_id": "cell-6efa51c4a6156c74",
     "locked": true,
     "schema_version": 3,
     "solution": false,
     "task": false
    }
   },
   "source": [
    "Puede verificar sus respuestas a continuación:"
   ]
  },
  {
   "cell_type": "code",
   "execution_count": null,
   "metadata": {
    "deletable": false,
    "editable": false,
    "nbgrader": {
     "cell_type": "code",
     "checksum": "c72ab47cfae0ec29ed4eb7707348ab16",
     "grade": true,
     "grade_id": "norm1",
     "locked": true,
     "points": 1,
     "schema_version": 3,
     "solution": false,
     "task": false
    }
   },
   "outputs": [],
   "source": [
    "norm1"
   ]
  },
  {
   "cell_type": "code",
   "execution_count": null,
   "metadata": {
    "deletable": false,
    "editable": false,
    "nbgrader": {
     "cell_type": "code",
     "checksum": "5c3cd8805fff10a3d5220b7ba69d9bb2",
     "grade": true,
     "grade_id": "norm2",
     "locked": true,
     "points": 1,
     "schema_version": 3,
     "solution": false,
     "task": false
    }
   },
   "outputs": [],
   "source": [
    "norm2"
   ]
  },
  {
   "cell_type": "code",
   "execution_count": null,
   "metadata": {
    "deletable": false,
    "editable": false,
    "nbgrader": {
     "cell_type": "code",
     "checksum": "fe4ec13c955580943b4393affe99ebae",
     "grade": true,
     "grade_id": "norm3",
     "locked": true,
     "points": 1,
     "schema_version": 3,
     "solution": false,
     "task": false
    }
   },
   "outputs": [],
   "source": [
    "norm3"
   ]
  },
  {
   "cell_type": "markdown",
   "metadata": {
    "deletable": false,
    "editable": false,
    "nbgrader": {
     "cell_type": "markdown",
     "checksum": "f1dcbfcdd85aa2a72682b29d7ae4d8c8",
     "grade": false,
     "grade_id": "footer",
     "locked": true,
     "schema_version": 3,
     "solution": false,
     "task": false
    }
   },
   "source": [
    "---\n",
    "\n",
    "## <span style=\"color: blue\">Entrega del laboratorio</span> <a class=\"tocSkip\"> \n",
    "\n",
    "Para hacer entrega de este laboratorio, debe descargarlo presionando en **File**, luego **Download as** y, por último, **Notebook (.ipynb)**, en el menú superior, debajo del logo de Jupyter. También puede descargarlo directamente desde el botón de **Download** en la barra con íconos para acceso rápido.\n",
    "\n",
    "Luego de haber localizado el archivo descargado, debe cambiar el nombre del archivo descargado por su número de carné, de forma que, si su carné es **B12345**, su archivo debería llamarse `B12345.ipynb`. Una vez le haya cambiado el nombre al archivo, lo puede subir a Mediación Virtual, en el apartado correspondiente a este laboratorio."
   ]
  },
  {
   "cell_type": "markdown",
   "metadata": {
    "deletable": false,
    "editable": false,
    "nbgrader": {
     "cell_type": "markdown",
     "checksum": "6559c10b0b5a034a94b3cc7eac7897be",
     "grade": false,
     "grade_id": "license",
     "locked": true,
     "schema_version": 3,
     "solution": false,
     "task": false
    }
   },
   "source": [
    "<a href=\"https://creativecommons.org/licenses/by-sa/4.0/\">\n",
    "    <img src=\"https://mirrors.creativecommons.org/presskit/buttons/88x31/png/by-sa.png\" width=\"88\" height=\"31\" />\n",
    "</a>"
   ]
  }
 ],
 "metadata": {
  "kernelspec": {
   "display_name": "R",
   "language": "R",
   "name": "ir"
  },
  "language_info": {
   "codemirror_mode": "r",
   "file_extension": ".r",
   "mimetype": "text/x-r-source",
   "name": "R",
   "pygments_lexer": "r",
   "version": "4.0.2"
  },
  "toc": {
   "base_numbering": 1,
   "nav_menu": {},
   "number_sections": true,
   "sideBar": true,
   "skip_h1_title": false,
   "title_cell": "Table of Contents",
   "title_sidebar": "Contents",
   "toc_cell": false,
   "toc_position": {},
   "toc_section_display": true,
   "toc_window_display": true
  },
  "varInspector": {
   "cols": {
    "lenName": 16,
    "lenType": 16,
    "lenVar": 40
   },
   "kernels_config": {
    "python": {
     "delete_cmd_postfix": "",
     "delete_cmd_prefix": "del ",
     "library": "var_list.py",
     "varRefreshCmd": "print(var_dic_list())"
    },
    "r": {
     "delete_cmd_postfix": ") ",
     "delete_cmd_prefix": "rm(",
     "library": "var_list.r",
     "varRefreshCmd": "cat(var_dic_list()) "
    }
   },
   "types_to_exclude": [
    "module",
    "function",
    "builtin_function_or_method",
    "instance",
    "_Feature"
   ],
   "window_display": false
  }
 },
 "nbformat": 4,
 "nbformat_minor": 4
}
