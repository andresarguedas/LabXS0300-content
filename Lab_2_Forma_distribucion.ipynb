{
 "cells": [
  {
   "cell_type": "markdown",
   "metadata": {
    "deletable": false,
    "editable": false,
    "nbgrader": {
     "cell_type": "markdown",
     "checksum": "9772337d41ae875f7a7a94b04997134d",
     "grade": false,
     "grade_id": "header",
     "locked": true,
     "schema_version": 3,
     "solution": false,
     "task": false
    }
   },
   "source": [
    "# <span style=\"color: blue\">Laboratorio 2: Forma de las distribuciones de los datos</span> <a class=\"tocSkip\"> \n",
    "\n",
    "### <span style=\"color: green\">Prof. Andrés Arguedas - XS-0300 - II 2020</span> <a class=\"tocSkip\"> \n",
    "\n",
    "*Este laboratorio es parte del curso XS-0300 Estadística para Biología I de la Escuela de Estadística de la Universidad de Costa Rica, y se presenta con una licencia [CC-BY-SA 4.0](https://creativecommons.org/licenses/by-sa/4.0/).*\n",
    "\n",
    "**ATENCIÓN:** Antes de entregar este laboratorio, asegúrese que todo corre como se espera. Para hacer esto, primero **reinice el kernel**, esto lo puede hacer seleccionado **Kernel** en el menú y luego **Restart**. Habiendo reiniciado el kernel, **corra todas las celdas**, esto lo puede hacer seleccionando **Cell** en el menú y luego **Run All**.\n",
    "\n",
    "Por último, recuerde rellenar cualquier lugar donde diga `ESCRIBA SU CÓDIGO AQUÍ` o \"ESCRIBA SU RESPUESTA AQUI\", así como escribir su nombre y carné a continuación:"
   ]
  },
  {
   "cell_type": "markdown",
   "metadata": {},
   "source": [
    "---\n",
    "\n",
    "## Preparación para este laboratorio\n",
    "    \n",
    "El presente laboratorio tiene como objetivos de aprendizaje:\n",
    "    \n",
    "1. Reconocer las características necesarias para determinar la forma de una distribución\n",
    "2. Entender la utilidad de la función `select()` del paquete `dplyr`\n",
    "3. Crear histogramas utilizando las capacidades base de R y de `ggplot2`\n",
    "4. Lograr identificar las características de la forma de una distribución con base en su histograma\n",
    "\n",
    "En este laboratorio utilizaremos el conjunto de datos de `arboles`, junto con los paquetes `ggplot2`, `dplyr` y `readr`. Ya todos estos paquetes están descargados y disponibles en el entorno virtual, al igual que el conjunto de datos, por lo que no es necesario que descarguen o consigan ningún paquete o conjunto de datos adicional, todos ya están disponibles.\n",
    "\n",
    "---"
   ]
  },
  {
   "cell_type": "markdown",
   "metadata": {},
   "source": [
    "## Preguntas iniciales\n",
    "\n",
    "Antes de empezar el laboratorio, intente contestar las siguientes preguntas: *(las respuestas las puede desplegar dando click sobre la pregunta)*\n",
    "\n",
    "1. <details>\n",
    "    <summary><b>¿Cuáles son las tres características principales que se deben analizar de una distribución de datos?</b></summary>\n",
    "    \n",
    "    Para poder analizar una distribución de datos, ocupamos conocer su forma, posición y variabilidad. Si no tenemos información de alguna de estas tres características no podemos llegar a una conclusión adecuada sobre la distribución de los datos.\n",
    "    \n",
    "    </details>\n",
    "    \n",
    "    \n",
    "2. <details>\n",
    "    <summary><b>¿Qué ocupamos analizar para determinar la forma de la distribución?</b></summary>\n",
    "    \n",
    "    Para poder determinar la forma de una distribución necesitamos analizar su simetría, modalidad y valores extremos. La simetría de la distribución se refiere a si la distribución es simétrica o asimétrica y, en caso de ser asimétrica, que grado de asimetría presenta. La modalidad se refiere a la cantidad de \"picos\" o \"montañas\" que tiene la distribución de los datos. Por último, es importante destacar si la distribución presenta valores extremos o no, para buscar encontrar su causa y decidir que acción tomar con respecto a estos.\n",
    "    \n",
    "    </details>\n",
    "    \n",
    "\n",
    "---"
   ]
  },
  {
   "cell_type": "markdown",
   "metadata": {},
   "source": [
    "## Conjunto de datos `arboles`\n",
    "\n",
    "El conjunto de datos que usaremos para este laboratorio y el siguiente se llama `arboles.csv` y contiene los datos correspondientes al artículo [*Contrasting patterns of leaf trait variation among and within species during tropical dry forest succession in Costa Rica* (Derroire, et. al. 2018)](https://doi.org/10.1038/s41598-017-18525-1). Estos datos corresponden a las observaciones de diversas variables para una serie de árboles medidas en el país, tomando, entre otras variables, la especie y la parte del bosque donde estaba ubicada el árbol. Las variables presentes en el conjunto de datos son las siguientes:\n",
    "\n",
    "- `IDtree`: ID del árbol\n",
    "- `plot`: ID de la parcela\n",
    "- `forest_type`: tipo de bosque (**OAK** para bosque con robles y **MIX** para bosques con varias especies)\n",
    "- `sp`: código de la especie\n",
    "- `height`: la altura, codificada, en metros\n",
    "- `CII`: índice de iluminación de la corona\n",
    "- `thick`: grosor de la hoja ($mm$)\n",
    "- `petiol`: largo del peciolo ($mm$)\n",
    "- `compound`: compostura de la hoja (**0** para simple, **1** para unipenado y **2** para bipenado)\n",
    "- `pubes`: pubescencia de la hoja (**Si** o **No**)\n",
    "- `LA`: area de la hoja (${cm}^2$)\n",
    "- `SLA`: area específica de la hoja (${cm}^2 / g$)\n",
    "- `LDMC`: contenido de matería de la hoja seca ($mg / g$)\n",
    "- `dens`: densidad de la hoja ($g / {cm}^3$)\n",
    "- `pheno`: habitat fenológico (**deciduous**, **evergreen** o **semideciduous**)\n",
    "- `P`: concentración de fósforo en la hoja ($mg / g$)\n",
    "- `C`: concentración de carbono en la hoja ($mg / g$)\n",
    "- `N`: concentración de nitrógeno en la hoja ($mg / g$)\n",
    "- `CN`: razón de carbono con nitrógeno en la hoja\n",
    "- `NP`: razón de nitrógeno con fósforo en la hoja\n",
    "- `Legum`: pertenencia a las Fabaceaes (**Sí** o **No**)\n",
    "\n",
    "Habiendo visto las variables conforman el conjunto de datos, vamos a proceder a cargarlos mediante la función `read_csv()` del paquete `readr`. Recordemos que el conjunto de datos está disponible en `data/arboles.csv`, por lo que ese es el argumento que usaremos en la función, y lo guardaremos en R con el nombre `arboles`:"
   ]
  },
  {
   "cell_type": "code",
   "execution_count": null,
   "metadata": {},
   "outputs": [],
   "source": [
    "library(readr)\n",
    "arboles <- read_csv(\"data/arboles.csv\")"
   ]
  },
  {
   "cell_type": "markdown",
   "metadata": {},
   "source": [
    "Nuevamente, la advertencia en rojo que se muestra en el resultado anterior nos indica que, por default, las variables se tomaron como numéricas, excepto por `IDtree`, `forest_type`, `sp`, `heigth`, `pubes`, `pheno` y `Legum`, que las leyó como caracters. Habiendo hecho esto, ya deberíamos tener los datos guardados en la memoria y podemos verificar el resultado llamando al objeto `arboles` en R:"
   ]
  },
  {
   "cell_type": "code",
   "execution_count": null,
   "metadata": {},
   "outputs": [],
   "source": [
    "arboles"
   ]
  },
  {
   "cell_type": "markdown",
   "metadata": {},
   "source": [
    "En este caso tenemos 852 observaciones en 21 variables, como lo dice la esquina superior izquierda del resultado anterior pero, como vimos en los laboratorios anteriores, R solamente muestra las primeras y últimas observaciones del conjunto de datos. Por lo anterior, es muy difícil hacernos una idea sobre la distribución de los datos solamente viendo el conjunto de datos, sino que necesitamos formas de resumir esta información. En las próximas secciones veremos distintas funciones y gráficos útiles para poder realizar estos resumenes y estudiar las distribuciones de los datos en las distintas variables.\n",
    "\n",
    "---"
   ]
  },
  {
   "cell_type": "markdown",
   "metadata": {},
   "source": [
    "### Resumen de los datos mediante la función `summary()`\n",
    "\n",
    "Una forma de verificar los datos y variables presentes en conjunto de datos, de forma general, es mediante el comando `summary()`. Como lo dice su nombre, esta función devuelve un resumen de cada una de las variables de un conjunto de datos, devolviendo algunas medidas de posición para las variables cuantitativas (*mínimo, primer cuartil, mediana, media, tercer cuartil* y *máximo*), así como posibles valores perdidos, además de conteos por categoría para las variables factor. Veamos que nos devuelve si hacemos un \"summary\" del conjunto de datos `arboles`:"
   ]
  },
  {
   "cell_type": "code",
   "execution_count": null,
   "metadata": {},
   "outputs": [],
   "source": [
    "summary(arboles)"
   ]
  },
  {
   "cell_type": "markdown",
   "metadata": {},
   "source": [
    "Como podemos notar, para las variables numéricas el comando `summary()` nos devuelve varias medidas de posición útiles, además de la cantidad de valores pérdidos o NA's. ¿Pero que pasa con las variables cualitativas? Como cargamos esas variables como caracteres, `summary()` no devuelve ningún tipo de información adicional sobre estas variables, solamente que son de tipo `character`. Por lo tanto, si queremos información adicional de estas variables, como la frecuencia de cada uno de sus niveles, necesitamos cambiarlas de caracter a factor. Por último, también necesitamos cambiar las variables `plot` y `compound` a factores dado que, aunque están representados por números (el número de parcela para `plot` y tres opciones, codificadas del 1 al 3 para `compound`) estas son cualitativas, por lo que también las debemos a cambiar a que sean factores. En resumen, antes de poder realizar más análisis sobre el conjunto de datos `arboles`, es importante realizar los cambios mencionados anteriormente. Para esto, podemos utilizar el paquete `dplyr`, que es lo que haremos en la próxima sección.\n",
    "\n",
    "---"
   ]
  },
  {
   "cell_type": "markdown",
   "metadata": {},
   "source": [
    "### Arreglando el conjunto de datos para el análisis\n",
    "\n",
    "Como ya sabemos, para hacer cambios en un conjunto de datos nuestra mejor herramienta es `dplyr`. Por lo tanto, procedamos a cargar dicho paquete para poder hacer uso de sus funciones:"
   ]
  },
  {
   "cell_type": "code",
   "execution_count": null,
   "metadata": {},
   "outputs": [],
   "source": [
    "library(dplyr)"
   ]
  },
  {
   "cell_type": "markdown",
   "metadata": {},
   "source": [
    "Una vez cargado el paquete `dplyr`, podemos hacer uso de las funciones que ya hemos visto para poder manipular nuestro conjunto de datos y cambiar las variables que ocupamos a factor. Antes de hacer estos cambios, vamos a eliminar las variables `IDtree` y `heigth` las cuales no vamos a utilizar durante nuestros análisis y pueden confundirnos. Para poder seleccionar o eliminar variables de un conjunto de datos, podemos hacer uso de la función `select()` del paquete `dplyr`.\n",
    "\n",
    "---\n",
    "\n",
    "#### La función `select()`\n",
    "\n",
    "Dicha función nos permite escribir, separado mediante comas, las variables que deseamos seleccionar de un conjunto de datos; si agregamos un `-` antes del nombre de la variable, entonces `select()` no la selecciona para el conjunto de datos. Es importante recordar que, para poder utilizar la función `select()` primero ocupamos cargar el paquete `dplyr`, como lo hicimos en el bloque anterior. Para entender mejor como funciona este comando, veamos el siguiente ejemplo:\n",
    "\n",
    "---\n",
    "\n",
    "**Ejemplo:**\n",
    "\n",
    "Supongamos que tenemos un conjunto de datos, llamado `df`, que tiene tres variables `x`, `y` y `z`. Si queremos obtener un conjunto de datos que solamente tenga las variables `x` y `z` lo podemos hacer de la siguiente forma mediante el comando `select()`:\n",
    "\n",
    "```{r}\n",
    "df %>% select(x, z)\n",
    "```\n",
    "\n",
    "Lo que le estamos indicando a R en el comando anterior es que queremos que **seleccione** de `df` solamente las variables `x` y `z`. Pero otra forma de obtener el mismo resultado es quitando la variable `y` de `df`, de forma que solo queden `x` y `z`. Nuevamente, esto lo podemos hacer mediante la función `select()`:\n",
    "\n",
    "```{r}\n",
    "df %>% select(-y)\n",
    "```\n",
    "\n",
    "En el caso anterior, al agregar el `-` antes de `y` indicamos a R que queremos quitar esa variable del conjunto de datos, efectivamente llegando al mismo resultado que antes.\n",
    "\n",
    "---\n",
    "\n",
    "Conociendo como utilizar la función `select()`, podemos usarla para quitar las variables `IDtree` y `heigth`, además de utilizar la función `mutate()` para pasar las variables `forest_type`, `sp`, `pubes`, `pheno`, `Legum`, `plot` y `compound` de caracter a factor, para facilitar su uso posteriormente. Esto lo podemos hacer corriendo el siguiente comando:"
   ]
  },
  {
   "cell_type": "code",
   "execution_count": null,
   "metadata": {},
   "outputs": [],
   "source": [
    "arboles <- arboles %>% select(-IDtree, -heigth) %>% \n",
    "  mutate(forest_type = factor(forest_type),\n",
    "         sp = factor(sp),\n",
    "         pubes = factor(pubes),\n",
    "         pheno = factor(pheno),\n",
    "         Legum = factor(Legum),\n",
    "         plot = factor(plot),\n",
    "         compound = factor(compound))"
   ]
  },
  {
   "cell_type": "markdown",
   "metadata": {},
   "source": [
    "Luego de haber corrido el comando anterior, tome un tiempo para entender que hace cada una de las líneas que escribimos: \n",
    "\n",
    "- ¿Qué hace el comando `select()`? \n",
    "- ¿Por qué estamos agregando un `-` antes del nombre de las variables en `select()`? \n",
    "- ¿Qué estamos haciendo con el comando `mutate()`?\n",
    "- ¿Por qué agregamos el comando `factor()` antes de las variables dentro de `mutate()`?\n",
    "\n",
    "No vamos a responder a estas preguntas directamente, pero si es importante que esté claro lo que estamos haciendo para manipular el conjunto de datos y tenerlo listo para el análisis. Habiendo hecho los cambios en las variables que nos interesaban de `arboles`, volvamos a hacer un \"summary\" para verificar que los cambios se realizaron exitosamente:"
   ]
  },
  {
   "cell_type": "code",
   "execution_count": null,
   "metadata": {},
   "outputs": [],
   "source": [
    "summary(arboles)"
   ]
  },
  {
   "cell_type": "markdown",
   "metadata": {},
   "source": [
    "Como podemos notar, ahora las variables de tipo factor tienen los conteos para cada uno de sus niveles. Por ejemplo, para la variable `Legum`, podemos notar que el resultado de `summary()` nos dice que 708 arboles no pertenecen a las Fabaceaes, mientras que 144 si pertenecen. De igual forma, con respecto a la variable `forest_type`, 381 arboles están en bosque de tipo mixto, mientras que 471 están en bosques de robles. Por último, en un caso como el de las variables `plot` y `sp` el summary solamente devuelve las seis categorías con mayor frecuencia, mientras que agrupa las demás observaciones en la categoría `(Other)`. Por lo tanto el comando `summary()`, aunque no es perfecto, nos brinda información muy útil, y de forma muy sencilla, para tener una primera idea sobre la distribución de los datos.\n",
    "\n",
    "---"
   ]
  },
  {
   "cell_type": "markdown",
   "metadata": {},
   "source": [
    "## Histogramas\n",
    "\n",
    "\n",
    "El histograma es un tipo de gráfico, donde tenemos nuestra variable de interés en el eje X, separado en intervalos del mismo tamaño, mientras que en el eje Y tenemos la frecuencia, ya sea absoluta o relativa, para cada uno de dichos intervalos. Como vimos en el laboratorio anterior, podemos realizar gráficos en R mediante la forma base o mediante ggplot, y esto también aplica para los histogramas. En el caso de base, esto se hace mediante la función `hist()`, mientras que con ggplot ocupamos agregar el elemento gráfico `geom_histrogram`. A continuación veremos como hacer histogramas en R, mediante las dos formas.\n",
    "\n",
    "---\n",
    "\n",
    "### Base\n",
    "\n",
    "Al igual que con la función `plot()`, para poder hacer un histograma solamente ocupamos agregar la variable como argumento y el comando nos devuelve el histograma de dicha variable. Veamos el histograma de la variable del grosor de las hojas (`thick`):"
   ]
  },
  {
   "cell_type": "code",
   "execution_count": null,
   "metadata": {},
   "outputs": [],
   "source": [
    "hist(arboles$thick)"
   ]
  },
  {
   "cell_type": "markdown",
   "metadata": {},
   "source": [
    "Como se puede notar del gráfico anterior, en el eje X tenemos la variable `thick`, como queríamos, que está divida en 7 intervalos, representados, mediante barras. Recordemos que la altura de las barras es la cantidad de árboles, o la frecuencia, que tienen un grosor de las hojas dentro del intervalo correspondiente. Por lo tanto, en este caso, al ser intervalos de ancho 0.05 mm, parece que muchos árboles tienen un grosor de las hojas entre 0.1 y 0.25 mm, aproximadamente, representado mediante la segunda, tercera y cuarta barra. De forma específica, parece que cerca de 200 árboles tienen un grosor de sus hojas entre 0.1 y 0.15 mm, representado mediante la segunda barra. Con base en el histograma anterior, podemos tener una mejor idea sobre la forma de la distribución de los datos de esta variable.\n",
    "\n",
    "Adicionalmente, al igual que con `plot()`, podemos agregar elementos gráficos mediante los mismos argumentos adicionales que `plot()` utilizaba. De esta forma podemos agregar un color a las barras, título y nombres a los ejes, como se muestra a continuación:"
   ]
  },
  {
   "cell_type": "code",
   "execution_count": null,
   "metadata": {},
   "outputs": [],
   "source": [
    "hist(arboles$thick, col = \"lightblue\", \n",
    "     main = \"Histograma del grosor de las hojas\", \n",
    "     xlab = \"Grosor de las hojas (mm)\", \n",
    "     ylab = \"Cantidad de arboles\")"
   ]
  },
  {
   "cell_type": "markdown",
   "metadata": {},
   "source": [
    "Como se puede notar, ya el gráfico está más presentable y contiene los elementos gráficos deseables con los mismos argumentos que vimos en el laboratorio pasado para `plot()`."
   ]
  },
  {
   "cell_type": "markdown",
   "metadata": {},
   "source": [
    "### `ggplot2`\n",
    "\n",
    "Para hacer gráficos con ggplot, recordemos que lo primero que ocupamos hacer, siempre, es cargar el paquete. **Sin cargar el paquete no podemos usar sus funciones**. Por lo tanto, procedamos a cargar dicho paquete en R:"
   ]
  },
  {
   "cell_type": "code",
   "execution_count": null,
   "metadata": {},
   "outputs": [],
   "source": [
    "library(ggplot2)"
   ]
  },
  {
   "cell_type": "markdown",
   "metadata": {},
   "source": [
    "Habiendo cargado el paquete, ya podemos usar sus funciones para crear histogramas. Recordemos que el histograma tiene en el eje X la variable de interés, por lo que, solamente es necesario escribir `ggplot(aes(x = var))`, donde `var` es el nombre de la variable de interés. Al agregar el elemento gráfico del histograma, mediante el comando `geom_histogram()`, ggplot entiende que queremos hacer un histograma, por lo que automática agrega en el eje Y las frecuencias necesarias y parte el eje X en los intervalos creados. Empecemos con el histograma de la variable del grosor de las hojas (`thick`):\n",
    "\n",
    "#### Grosor de las hojas (`thick`)\n",
    "\n",
    "Para hacer un histograma sobre el grosor de las hojas, solamente ocupamos agregar la variable `thick` en el eje X e indicarle a ggplot que vamos a hacer un histograma para obtener el resultado deseado:"
   ]
  },
  {
   "cell_type": "code",
   "execution_count": null,
   "metadata": {},
   "outputs": [],
   "source": [
    "arboles %>% ggplot(aes(x = thick)) +\n",
    "  geom_histogram()"
   ]
  },
  {
   "cell_type": "markdown",
   "metadata": {},
   "source": [
    "Como podemos ver, en el eje X dice `thick`, que es la variable que nos interesa, mientras que en el eje Y ahora dice `count`, que es la variable de la frecuencia que ggplot acaba de crear para el histograma. Tal vez lo más interesante del resultado anterior es la advertencia que nos devuelve el gráfico:\n",
    "\n",
    "```{r}\n",
    "`stat_bin()` using `bins = 30`. Pick better value with `binwidth`.\n",
    "```\n",
    "\n",
    "¿Qué quiere decir esta advertencia? El argumento `bins` de `geom_histogram()` es el que controla la cantidad de intervalos, o barras, que va a tener el histograma. Si contamos la cantidad de barras del histograma anterior podemos ver que son 30, que es el valor que nos indicaba el error cuando decía\n",
    "\n",
    "```\n",
    "`bins = 30`\n",
    "```\n",
    "\n",
    "Por lo tanto, cuando aparezca esta advertencia lo que quiere decir es que ggplot está utilizando 30 barras para crear su histograma, que es el valor por default, pero recomienda cambiarlo a un valor más conveniente. En este caso, como podemos ver, parece que 30 barras son demasiadas, ya que las barras varían muchas en cambios muy pequeños del grosor de la hoja. Pero entonces, ¿cómo hacemos para definir la cantidad de barras a utilizar? Hay dos corrientes principales sobre esta decisión: de forma interactiva o mediante una regla de decisión. Mediante la forma interactiva se espera que la escogencia de la cantidad de barras se haga de forma interactiva, es decir, la persona debe hacer el histograma con distintas cantidades de barras y escoger el valor que haga que el gráfico sea el más apropiado. Mediante la forma de regla de decisión se busca utilizar algún resultado ya encontrado, como la [regla de Sturges](https://es.wikipedia.org/wiki/Regla_de_Sturges?oldformat=true), para determinar la cantidad \"óptima\" de barras. Ambos enfoques tienen ventajas y desventajas por lo que, aunque ambos se pueden utilizar para determinar la cantidad de barras a utilizar en un histograma, para efectos del curso utilizaremos la regla de Sturges. Esta regla está implementada por default en R, mediante la función `nclass.Sturges()`, que toma como argumento la variable de interés. Es importante notar que la regla de Sturges no es la única que se puede utilizar para determinar la cantidad de barras y hay otras fórmulas que se pueden preferir, pero vamos a utilizar esta fórmula dado que es la que está implementada, por default, en la función `hist()`. Por lo tanto, si quisieramos determinar la cantidad de barras a utilizar para la variable `thick`, podemos correr el siguiente comando:"
   ]
  },
  {
   "cell_type": "code",
   "execution_count": null,
   "metadata": {},
   "outputs": [],
   "source": [
    "nclass.Sturges(arboles$thick)"
   ]
  },
  {
   "cell_type": "markdown",
   "metadata": {},
   "source": [
    "El resultado anterior nos indica que, para efectos del histograma de la variable `thick`, podemos utilizar 11 barras en el histograma como una primera opción. Para decirle a ggplot cuántas barras queremos hacer en un histograma, podemos agregar el argumento `bins`, con la cantidad de barras deseadas, como se muestra a continuación:"
   ]
  },
  {
   "cell_type": "code",
   "execution_count": null,
   "metadata": {},
   "outputs": [],
   "source": [
    "arboles %>% ggplot(aes(x = thick)) +\n",
    "  geom_histogram(bins = 11, fill = \"grey\", colour = \"black\") +\n",
    "  labs(title = \"Histograma del grosor de las hojas\",\n",
    "       x = \"Grosor de las hojas (mm)\",\n",
    "       y = \"Frecuencia\") +\n",
    "  theme_bw()"
   ]
  },
  {
   "cell_type": "markdown",
   "metadata": {},
   "source": [
    "Se puede notar que el gráfico es más fácil de entender con menos barras y, gracias a los nombres de los ejes y la coloración, hacen que sea mucho más sencillo de entender. Por lo tanto, ahora viene la parte más importante de hacer un histograma: su interpretación. Vamos a analizar la forma de la distribución de la variable `thick` mediante las tres características vistas en clases:\n",
    "\n",
    "1. **Simetría:** parece que la distribución está un poco \"echada\" hacia la izquierda, es decir, hay más datos debajo de 0.25 que encima de este valor (asumiendo que 0.25 es el valor que está a la mitad del eje X). Por lo tanto, esta distribución parece ser *asimétrica*, pero no es una asimetría demasiado marcada.\n",
    "2. **Modalidad:** solamente parece haber un pico en toda la distribución, la cuarta barra, correspondiente a grosores de hojas entre 0.14 y 0.17 mm, aproximadamente. Por lo tanto, la distribución parece ser *unimodal*.\n",
    "3. **Valores extremos:** todos los datos parecen estar cerca de los valores centrales de la distribución y no parece haber una barra muy alejada de las demás. Por lo tanto, *no parecen haber valores extremos en esta distribución*.\n",
    "\n",
    "Como se puede ver, no todas las distribuciones son perfectas o se van a comportar bien, pero habiendo hecho un buen histograma es más fácil llegar a conclusiones y tener mayor certeza de ellas. En las siguientes secciones se presentan los histogramas e interpretaciones de otras variables. Para todos esos gráficos utilizaremos la regla de Sturges para definir la cantidad de barras, pero ustedes pueden probar cambiar la cantidad de barras y ver cómo cambian los gráficos, o las interpretaciones.\n",
    "\n",
    "---"
   ]
  },
  {
   "cell_type": "markdown",
   "metadata": {
    "cell_style": "center"
   },
   "source": [
    "#### Largo del peciolo (`petiol`)"
   ]
  },
  {
   "cell_type": "code",
   "execution_count": null,
   "metadata": {
    "cell_style": "center"
   },
   "outputs": [],
   "source": [
    "arboles %>% ggplot(aes(x = petiol)) +\n",
    "  geom_histogram(bins = nclass.Sturges(arboles$petiol),\n",
    "                 fill = \"grey\", colour = \"black\") +\n",
    "  labs(title = \"Histograma del largo del peciolo\",\n",
    "       x = \"Largo del peciolo (mm)\",\n",
    "       y = \"Frecuencia\") +\n",
    "  theme_bw()"
   ]
  },
  {
   "cell_type": "markdown",
   "metadata": {},
   "source": [
    "1. <details>\n",
    "    <summary><b>Simetría</b></summary> \n",
    "    \n",
    "    Es bastante claro que la distribución está tirada completamente a la izquierda, por lo que sin ninguna duda la distribución es *asimétrica*\n",
    "    \n",
    "    </details>\n",
    "    \n",
    "    \n",
    "2. <details>\n",
    "    <summary><b>Modalidad</b></summary> \n",
    "    \n",
    "    Solamente parece haber un pico, correspondiente a la primer barra, por lo que la distribución es *unimodal*\n",
    "    \n",
    "    </details>\n",
    "    \n",
    "    \n",
    "3. <details>\n",
    "    <summary><b>Valores extremos</b></summary>\n",
    "    \n",
    "    Aunque hay pocos valores superiores a 200, no parecen que estos sean valores extremos, ya que están dentro de la \"cola\" de la distribución y se ve una tendencia a la baja en esos valores altos. Recordemos que los valores extremos deberían ser, como lo dice su nombre, \"extremos\", por lo que ocupamos ver una clara diferencia o alejamiento de estos datos de los demás para llamarlos \"valores extremos\". Por lo tanto, *no parecen haber valores extremos*\n",
    "    \n",
    "    </details>\n",
    "    \n",
    "    "
   ]
  },
  {
   "cell_type": "markdown",
   "metadata": {
    "cell_style": "center"
   },
   "source": [
    "#### Concentración de carbono (`C`)"
   ]
  },
  {
   "cell_type": "code",
   "execution_count": null,
   "metadata": {
    "cell_style": "center"
   },
   "outputs": [],
   "source": [
    "arboles %>% ggplot(aes(x = C)) +\n",
    "  geom_histogram(bins = nclass.Sturges(arboles$C),\n",
    "                 fill = \"grey\", colour = \"black\") +\n",
    "  labs(title = \"Histograma de la concentración de carbón en las hojas\",\n",
    "       x = \"Concentración de carbón (mg/g)\",\n",
    "       y = \"Frecuencia\") +\n",
    "  theme_bw()"
   ]
  },
  {
   "cell_type": "markdown",
   "metadata": {},
   "source": [
    "1. <details>\n",
    "    <summary><b>Simetría</b></summary> \n",
    "    \n",
    "    La distribución de los datos está un poco \"echada\" hacia la derecha, teniendo una cola larga hacia la izquierda, o los valores más pequeños. Por lo tanto, la distribución es *asimétrica*\n",
    "    \n",
    "    </details>\n",
    "    \n",
    "    \n",
    "2. <details>\n",
    "    <summary><b>Modalidad</b></summary> \n",
    "    \n",
    "    Solamente hay un pico en la distribución, correspondiente a las hojas con concentración de carbón cerca de los 500 mg/g. Por lo tanto, la distribución es *unimodal*\n",
    "    \n",
    "    </details>\n",
    "    \n",
    "    \n",
    "3. <details>\n",
    "    <summary><b>Valores extremos</b></summary>\n",
    "    \n",
    "    Todas las barras están juntas y no hay ningún valor muy lejos de los demás. Por lo tanto, *no hay valores extremos en la distribución*\n",
    "    \n",
    "    </details>\n",
    "    \n",
    "    "
   ]
  },
  {
   "cell_type": "markdown",
   "metadata": {
    "cell_style": "center"
   },
   "source": [
    "#### Índice de iluminación de la corona (`CII`)"
   ]
  },
  {
   "cell_type": "code",
   "execution_count": null,
   "metadata": {
    "cell_style": "center"
   },
   "outputs": [],
   "source": [
    "arboles %>% ggplot(aes(x = CII)) +\n",
    "  geom_histogram(bins = nclass.Sturges(arboles$CII),\n",
    "                 fill = \"grey\", colour = \"black\") +\n",
    "  theme_bw()"
   ]
  },
  {
   "cell_type": "markdown",
   "metadata": {},
   "source": [
    "En el caso de la variable `CII`, el gráfico anterior nos presenta la siguiente advertencia:\n",
    "\n",
    "```{r}\n",
    "Warning message:\n",
    "\"Removed 16 rows containing non-finite values (stat_bin).\"\n",
    "```\n",
    "\n",
    "Este mensaje nos está informando que, dado que existen valores perdidos en los datos (16 para ser exactos), estos se están eliminando del gráfico, para poder realizarlo. Por lo tanto, no hay que preocuparse por esta advertencia, simplemente hay que tomar en cuenta que algunos datos presentan valores perdidos en esta variable.\n",
    "\n",
    "Habiendo analizado el mensaje de advertencia, veamos el gráfico resultante. En dicho gráfico hay algo extraño, las barras están separadas las unas de las otras, pero hay dos que están pegadas. Esto sucede porque la variable `CII` solamente está tomando valores múltiplos de un medio, por lo que hacer un histograma no tiene mucho sentido, ya que van a existir barras vacías. En casos como este, lo más apropiado es hacer un gráfico de barras y analizar la forma de la distribución con base en dicho gráfico. Recordemos que para hacer un gráfico de barras es cuestión de agregar `geom_bar()` en lugar de `geom_histogram()`, como se muestra en la siguiente celda:"
   ]
  },
  {
   "cell_type": "code",
   "execution_count": null,
   "metadata": {},
   "outputs": [],
   "source": [
    "arboles %>% ggplot(aes(x = CII)) +\n",
    "  geom_bar(fill = \"grey\", colour = \"black\") +\n",
    "  theme_bw()"
   ]
  },
  {
   "cell_type": "markdown",
   "metadata": {},
   "source": [
    "El mensaje de alerta se mantiene ya que siguien habiendo 16 valores perdidos, pero ahora es mucho más sencillo analizar la forma de la distribución:\n",
    "\n",
    "1. <details>\n",
    "    <summary><b>Simetría</b></summary> \n",
    "    \n",
    "    Parece que la distribución es relativamente simétrica, aunque presenta una pequeña tendencia hacia la derecha, lo cual se asentúa por la barra vacía. Por lo anterior, dado que hay una duda razonable de la simetría de la distribución, podemos decir que dicha distribución es *asimétrica*, pero no necesariamente muy marcada.\n",
    "    \n",
    "    </details>\n",
    "    \n",
    "    \n",
    "2. <details>\n",
    "    <summary><b>Modalidad</b></summary> \n",
    "    \n",
    "    Solamente hay un pico, correspondiente al valor de 2.5, por lo que la distribución parece ser *unimodal*. Recordemos que si hay un solo valor muy separado de los demás lo mejor es decir que ese valor no es una moda.\n",
    "    \n",
    "    </details>\n",
    "    \n",
    "    \n",
    "3. <details>\n",
    "    <summary><b>Valores extremos</b></summary>\n",
    "    \n",
    "    Por la escala utilizada en Y, se podría considerar que los valores de CII de 4 son valores extremos, pero ocupamos tomar en cuenta que estos probablemente sean alrededor de 10 valores, y tampoco están muy separados de las demás barras, por lo que no parece haber evidencia muy fuerte de que estos valores son extremos. Por lo tanto, *no parecen haber valores extremos*.\n",
    "    \n",
    "    </details>\n",
    "    \n",
    "    \n",
    "---\n",
    "\n",
    "El análisis de la forma de la distribución requiere de práctica, para poder identificar las características de forma más sencilla y rápida, pero es de gran ayuda para poder tener una primera impresión sobre los datos que estamos trabajando y la forma en la cual estos se comportan. Con solamente un gráfico ya podemos llegar a conclusiones o hipótesis sobre los datos. Por lo tanto, ahora lo que queda es practicar.\n",
    "\n",
    "---"
   ]
  },
  {
   "cell_type": "markdown",
   "metadata": {
    "deletable": false,
    "editable": false,
    "nbgrader": {
     "cell_type": "markdown",
     "checksum": "1ff7cc470c7d1af43a87068d71099aca",
     "grade": false,
     "grade_id": "ejercicio",
     "locked": true,
     "schema_version": 3,
     "solution": false,
     "task": false
    }
   },
   "source": [
    "## Ejercicio (8 pts.)\n",
    "\n",
    "Escoja dos variables del conjunto de datos `arboles`, distintas de las cuatro variables que ya hemos utilizado en el laboratorio (`thick`, `petiol`, `C` y `CII`). Con base en las dos variables seleccionadas, cree un histograma para cada una, recordando los lineamientos básicos para presentar un gráfico, y comente sobre la forma de la distribución, con base en los tres aspectos vistos en clases.\n",
    "\n",
    "### Variable 1 (4 pts.)"
   ]
  },
  {
   "cell_type": "code",
   "execution_count": null,
   "metadata": {
    "deletable": false,
    "nbgrader": {
     "cell_type": "code",
     "checksum": "c55c23dd53f7c1b767f9b68f2824143b",
     "grade": true,
     "grade_id": "grafico-var1",
     "locked": false,
     "points": 1,
     "schema_version": 3,
     "solution": true,
     "task": false
    }
   },
   "outputs": [],
   "source": [
    "# ESCRIBA SU CÓDIGO AQUÍ\n",
    "testthat::fail() # No respuesta - elimine esta línea si escribió una respuesta"
   ]
  },
  {
   "cell_type": "markdown",
   "metadata": {
    "deletable": false,
    "nbgrader": {
     "cell_type": "markdown",
     "checksum": "779dbfd1a71c13afa496b35b91786e8a",
     "grade": true,
     "grade_id": "interpretacion-var1",
     "locked": false,
     "points": 3,
     "schema_version": 3,
     "solution": true,
     "task": false
    }
   },
   "source": [
    "ESCRIBA SU RESPUESTA AQUI"
   ]
  },
  {
   "cell_type": "markdown",
   "metadata": {
    "deletable": false,
    "editable": false,
    "nbgrader": {
     "cell_type": "markdown",
     "checksum": "78bb090285711b7d14ef13df9bff9a73",
     "grade": false,
     "grade_id": "ejercicio-cell2",
     "locked": true,
     "schema_version": 3,
     "solution": false,
     "task": false
    }
   },
   "source": [
    "### Variable 2 (4 pts.)"
   ]
  },
  {
   "cell_type": "code",
   "execution_count": null,
   "metadata": {
    "deletable": false,
    "nbgrader": {
     "cell_type": "code",
     "checksum": "85fc5077bdcb7118ebb0dc4b3254f283",
     "grade": true,
     "grade_id": "grafico-var2",
     "locked": false,
     "points": 1,
     "schema_version": 3,
     "solution": true,
     "task": false
    }
   },
   "outputs": [],
   "source": [
    "# ESCRIBA SU CÓDIGO AQUÍ\n",
    "testthat::fail() # No respuesta - elimine esta línea si escribió una respuesta"
   ]
  },
  {
   "cell_type": "markdown",
   "metadata": {
    "deletable": false,
    "nbgrader": {
     "cell_type": "markdown",
     "checksum": "1be86bf35a6ef373a5fea5d9fd3e07f7",
     "grade": true,
     "grade_id": "interpretacion-var2",
     "locked": false,
     "points": 3,
     "schema_version": 3,
     "solution": true,
     "task": false
    }
   },
   "source": [
    "ESCRIBA SU RESPUESTA AQUI"
   ]
  },
  {
   "cell_type": "markdown",
   "metadata": {
    "deletable": false,
    "editable": false,
    "nbgrader": {
     "cell_type": "markdown",
     "checksum": "f1dcbfcdd85aa2a72682b29d7ae4d8c8",
     "grade": false,
     "grade_id": "footer",
     "locked": true,
     "schema_version": 3,
     "solution": false,
     "task": false
    }
   },
   "source": [
    "---\n",
    "\n",
    "## <span style=\"color: blue\">Entrega del laboratorio</span> <a class=\"tocSkip\"> \n",
    "\n",
    "Para hacer entrega de este laboratorio, debe descargarlo presionando en **File**, luego **Download as** y, por último, **Notebook (.ipynb)**, en el menú superior, debajo del logo de Jupyter. También puede descargarlo directamente desde el botón de **Download** en la barra con íconos para acceso rápido.\n",
    "\n",
    "Luego de haber localizado el archivo descargado, debe cambiar el nombre del archivo descargado por su número de carné, de forma que, si su carné es **B12345**, su archivo debería llamarse `B12345.ipynb`. Una vez le haya cambiado el nombre al archivo, lo puede subir a Mediación Virtual, en el apartado correspondiente a este laboratorio."
   ]
  },
  {
   "cell_type": "markdown",
   "metadata": {
    "deletable": false,
    "editable": false,
    "nbgrader": {
     "cell_type": "markdown",
     "checksum": "6559c10b0b5a034a94b3cc7eac7897be",
     "grade": false,
     "grade_id": "license",
     "locked": true,
     "schema_version": 3,
     "solution": false,
     "task": false
    }
   },
   "source": [
    "<a href=\"https://creativecommons.org/licenses/by-sa/4.0/\">\n",
    "    <img src=\"https://mirrors.creativecommons.org/presskit/buttons/88x31/png/by-sa.png\" width=\"88\" height=\"31\" />\n",
    "</a>"
   ]
  }
 ],
 "metadata": {
  "kernelspec": {
   "display_name": "R",
   "language": "R",
   "name": "ir"
  },
  "language_info": {
   "codemirror_mode": "r",
   "file_extension": ".r",
   "mimetype": "text/x-r-source",
   "name": "R",
   "pygments_lexer": "r",
   "version": "4.0.2"
  },
  "toc": {
   "base_numbering": 1,
   "nav_menu": {},
   "number_sections": true,
   "sideBar": true,
   "skip_h1_title": false,
   "title_cell": "Table of Contents",
   "title_sidebar": "Contents",
   "toc_cell": false,
   "toc_position": {},
   "toc_section_display": true,
   "toc_window_display": false
  },
  "varInspector": {
   "cols": {
    "lenName": 16,
    "lenType": 16,
    "lenVar": 40
   },
   "kernels_config": {
    "python": {
     "delete_cmd_postfix": "",
     "delete_cmd_prefix": "del ",
     "library": "var_list.py",
     "varRefreshCmd": "print(var_dic_list())"
    },
    "r": {
     "delete_cmd_postfix": ") ",
     "delete_cmd_prefix": "rm(",
     "library": "var_list.r",
     "varRefreshCmd": "cat(var_dic_list()) "
    }
   },
   "types_to_exclude": [
    "module",
    "function",
    "builtin_function_or_method",
    "instance",
    "_Feature"
   ],
   "window_display": false
  }
 },
 "nbformat": 4,
 "nbformat_minor": 4
}
