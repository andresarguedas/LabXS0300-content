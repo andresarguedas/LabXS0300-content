{
 "cells": [
  {
   "cell_type": "markdown",
   "metadata": {},
   "source": [
    "# Laboratorio 1 - Gráficos\n",
    "Prof. Andrés Arguedas\n",
    "\n",
    "XS0300 - Estadística para Biología I\n",
    "\n",
    "## 1. Conjunto de datos de aves\n",
    "Estos datos corresponden a 97 observaciones de 2 especies de aves en 2 localidades distintas. Para cada una de estas aves se midieron una serie de variables: el largo, alto y ancho del pico, además del largo del ala, cola, tarso, juanete y su peso.\n",
    "\n",
    "<p><a href=\"https://commons.wikimedia.org/wiki/File:Sooty-capped_Bush-tanager.jpg#/media/Archivo:Sooty-capped_Bush-tanager.jpg\"><img src=\"https://upload.wikimedia.org/wikipedia/commons/thumb/1/1d/Sooty-capped_Bush-tanager.jpg/1200px-Sooty-capped_Bush-tanager.jpg\" alt=\"Sooty-capped Bush-tanager.jpg\"></a><br>De <a rel=\"nofollow\" class=\"external text\" href=\"https://www.flickr.com/photos/7457894@N04\">Jerry Oldenettel</a> - originally posted to <a href=\"//commons.wikimedia.org/wiki/Flickr\" class=\"mw-redirect\" title=\"Flickr\">Flickr</a> as <a rel=\"nofollow\" class=\"external text\" href=\"https://www.flickr.com/photos/7457894@N04/2308450870\">DSC_5075a.jpg</a>, <a href=\"https://creativecommons.org/licenses/by-sa/2.0\" title=\"Creative Commons Attribution-Share Alike 2.0\">CC BY-SA 2.0</a>, <a href=\"https://commons.wikimedia.org/w/index.php?curid=3878999\">Enlace</a></p>\n",
    "\n",
    "<p><a href=\"https://commons.wikimedia.org/wiki/File:Black-billed_Nightingale-thrush.jpg#/media/Archivo:Black-billed_Nightingale-thrush.jpg\"><img src=\"https://upload.wikimedia.org/wikipedia/commons/thumb/2/24/Black-billed_Nightingale-thrush.jpg/1200px-Black-billed_Nightingale-thrush.jpg\" alt=\"Black-billed Nightingale-thrush.jpg\"></a><br>De <a rel=\"nofollow\" class=\"external text\" href=\"https://www.flickr.com/photos/7457894@N04\">Jerry Oldenettel</a> - originally posted to <a href=\"//commons.wikimedia.org/wiki/Flickr\" class=\"mw-redirect\" title=\"Flickr\">Flickr</a> as <a rel=\"nofollow\" class=\"external text\" href=\"https://www.flickr.com/photos/7457894@N04/2307608219\">DSC_5055a.jpg</a>, <a href=\"https://creativecommons.org/licenses/by-sa/2.0\" title=\"Creative Commons Attribution-Share Alike 2.0\">CC BY-SA 2.0</a>, <a href=\"https://commons.wikimedia.org/w/index.php?curid=3882594\">Enlace</a></p>\n",
    "\n",
    "Leamos el archivo `aves.csv`:"
   ]
  },
  {
   "cell_type": "code",
   "execution_count": null,
   "metadata": {},
   "outputs": [],
   "source": [
    "library(readr)\n",
    "library(dplyr)\n",
    "library(magrittr)\n",
    "aves <- read_csv(\"data/aves.csv\")"
   ]
  },
  {
   "cell_type": "code",
   "execution_count": null,
   "metadata": {},
   "outputs": [],
   "source": [
    "aves"
   ]
  },
  {
   "cell_type": "markdown",
   "metadata": {},
   "source": [
    "1. Relación entre largo del ala y pico \n",
    "\n",
    "Analicemos la relación entre el largo del ala y el largo del pico de las aves. Ya que las dos variables son continuas se puede hacer un diagrama de dispersión:\n",
    "\n",
    "```r\n",
    "plot(variable del eje y ~ variable del eje x)\n",
    "```"
   ]
  },
  {
   "cell_type": "code",
   "execution_count": null,
   "metadata": {},
   "outputs": [],
   "source": [
    "plot(aves$Ala ~ aves$Largo.pico, main = \"Gráfico de dispersión entre el largo del ala y pico\", \n",
    "     xlab = \"Largo del pico\", ylab = \"Largo del ala\", pch = 16)"
   ]
  },
  {
   "cell_type": "code",
   "execution_count": null,
   "metadata": {},
   "outputs": [],
   "source": [
    "library(ggplot2)\n",
    "aves %>% ggplot(aes(x = Largo.pico, y = Ala)) +\n",
    "geom_point() +\n",
    "labs(title = \"Gráfico de dispersión entre el largo del ala y pico\",\n",
    "     x = \"Largo del pico\",\n",
    "     y = \"Largo del ala\") +\n",
    "theme_bw()"
   ]
  },
  {
   "cell_type": "markdown",
   "metadata": {},
   "source": [
    "2. Gráficos según especie\n",
    "\n",
    "En el gráfico anterior se estan mezcladas las dos especies, lo cual puede hacer que se introduzca ruido en los datos. Para eliminar este ruido, se pueden hacer gráficos para cada especie, separando el conjunto de datos según la especie, o haciendo un solo gráfico coloreando los puntos según la especie.\n",
    "\n",
    "Primero, vamos a hacer gráficos separados para cada una de las especies."
   ]
  },
  {
   "cell_type": "code",
   "execution_count": null,
   "metadata": {},
   "outputs": [],
   "source": [
    "aves %>% ggplot(aes(x = Largo.pico, y = Ala)) +\n",
    "    facet_wrap(~ Especie) +\n",
    "    geom_point() +\n",
    "    labs(title = \"Gráfico de dispersión entre el largo del ala y pico, según especie\",\n",
    "         x = \"Largo del pico\",\n",
    "         y = \"Largo del ala\") +\n",
    "    theme_bw()"
   ]
  },
  {
   "cell_type": "code",
   "execution_count": null,
   "metadata": {},
   "outputs": [],
   "source": [
    "aves %>% ggplot(aes(x = Largo.pico, y = Ala, color = Especie)) +\n",
    "    geom_point() +\n",
    "    labs(title = \"Gráfico de dispersión entre el largo del ala y pico, según especie\",\n",
    "         x = \"Largo del pico\",\n",
    "         y = \"Largo del ala\") +\n",
    "    theme_bw()"
   ]
  },
  {
   "cell_type": "markdown",
   "metadata": {},
   "source": [
    "3. Matriz de gráficos de dispersión\n",
    "\n",
    "Podemos ver todos los gráficos de dispersión entre pares de variables usando un comando como el siguiente:"
   ]
  },
  {
   "cell_type": "code",
   "execution_count": null,
   "metadata": {},
   "outputs": [],
   "source": [
    "pairs(Ala ~ Largo.pico + Tarso  + Alto.pico + Ancho.pico, data = aves, \n",
    "      main = \"Matriz de Gráficos de Dispersión\", pch = 16)"
   ]
  },
  {
   "cell_type": "code",
   "execution_count": null,
   "metadata": {},
   "outputs": [],
   "source": [
    "library(GGally)\n",
    "aves %>% select(-Localidad, -Especie, -Juanete, -Cola, -Peso) %>% ggpairs()"
   ]
  },
  {
   "cell_type": "markdown",
   "metadata": {},
   "source": [
    "Tiene el problema que con muchas variables los gráficos individuales se vuelven muy pequeños y cuesta leerlos.\n",
    "\n",
    "## 2. Conjunto de datos: Mermeladas\n",
    "\n",
    "Se evalua la preferencia de 3 mermeladas con diferentes cantidades de aditivos de sabor. Participaron 5 panelistas (jueces) y usaron una escala de 1 a 20 para evaluar el nivel de preferencia por el sabor de cada mermelada  (1 = le disgusta extremadamente, 20 = le gusta extremadamente).\n",
    "\n",
    "Leer datos de mermeladas.csv (es decir pasarlos de formato .csv a la memoria en R):"
   ]
  },
  {
   "cell_type": "code",
   "execution_count": null,
   "metadata": {},
   "outputs": [],
   "source": [
    "mermeladas <- read_csv(\"data/mermeladas.csv\")"
   ]
  },
  {
   "cell_type": "code",
   "execution_count": null,
   "metadata": {},
   "outputs": [],
   "source": [
    "mermeladas"
   ]
  },
  {
   "cell_type": "markdown",
   "metadata": {},
   "source": [
    "Note que tanto 'Mermelada' y 'Panel' no son variables cuantitativas, por lo tanto no son de clase numéricas. Hay que cambiarlas a variables de clase factor:"
   ]
  },
  {
   "cell_type": "code",
   "execution_count": null,
   "metadata": {},
   "outputs": [],
   "source": [
    "mermeladas %<>% mutate(Mermelada = factor(Mermelada),\n",
    "                       Panel = factor(Panel))"
   ]
  },
  {
   "cell_type": "markdown",
   "metadata": {},
   "source": [
    "Veamos que se haya hecho el cambio en el conjunto de datos:"
   ]
  },
  {
   "cell_type": "code",
   "execution_count": null,
   "metadata": {},
   "outputs": [],
   "source": [
    "mermeladas"
   ]
  },
  {
   "cell_type": "markdown",
   "metadata": {},
   "source": [
    "1. Gráfico de dispersión de la calificación de los jueces por cada mermelada"
   ]
  },
  {
   "cell_type": "code",
   "execution_count": null,
   "metadata": {},
   "outputs": [],
   "source": [
    "plot(mermeladas$Preferencia ~ mermeladas$Panel, ylim = c(0, 23), pch = 16,\n",
    "     main = \"La preferencia de los 5 panelistas segun mermelada\")"
   ]
  },
  {
   "cell_type": "code",
   "execution_count": null,
   "metadata": {},
   "outputs": [],
   "source": [
    "mermeladas %>% ggplot(aes(x = Panel, y = Preferencia)) +\n",
    "    geom_boxplot() +\n",
    "    labs(title = \"La preferencia de los 5 panelistas segun mermelada\",\n",
    "         x = \"Panel\",\n",
    "         y = \"Preferencia\") +\n",
    "    theme_bw()"
   ]
  },
  {
   "cell_type": "markdown",
   "metadata": {},
   "source": [
    "3. Asignar colores a cada uno de los tipos de mermelada en el gráfico de dispersión y una línea que une los puntos:"
   ]
  },
  {
   "cell_type": "code",
   "execution_count": null,
   "metadata": {},
   "outputs": [],
   "source": [
    "M1 <- subset(mermeladas, Mermelada == 1)\n",
    "M2 <- subset(mermeladas, Mermelada == 2)\n",
    "M3 <- subset(mermeladas, Mermelada == 3)\n",
    "\n",
    "### 3. Asignar colores a cada uno de los tipos de mermelada en el gráfico de dispersión\n",
    "### y una línea que une los puntos:\n",
    "\n",
    "plot(mermeladas$Preferencia ~ mermeladas$Panel, ylim = c(0, 21), pch = 16,\n",
    "     main = \"La preferencia de los 5 panelistas según mermelada\")\n",
    "points(M1$Preferencia ~ M1$Panel, type = \"b\", col = 2, pch = 16)\n",
    "points(M2$Preferencia ~ M2$Panel, type = \"b\", col = 3, pch = 16)\n",
    "points(M3$Preferencia ~ M3$Panel, type = \"b\", col = 4, pch = 16)\n",
    "legend(\"topright\", c(\"Mermelada1\", \"Mermelada2\", \"Mermelada3\"), col = c(2, 3, 4), pch = 16)\n"
   ]
  },
  {
   "cell_type": "code",
   "execution_count": null,
   "metadata": {},
   "outputs": [],
   "source": [
    "mermeladas %>% ggplot(aes(x = Panel, y = Preferencia, \n",
    "                          group = Mermelada, color = Mermelada)) +\n",
    "    geom_point() +\n",
    "    geom_line() +\n",
    "    theme_bw()"
   ]
  },
  {
   "cell_type": "markdown",
   "metadata": {},
   "source": [
    "## 3. Conjunto de datos: Venados\n",
    "\n",
    "Se quieren comparar los largos de las patas delantera y trasera izquierdas de 10 venados para determinar si hay una tendencia en relación con la ubicación de la pata.   Los venados son de diferentes tamaños y para cada venado, el largo de la pata  trasera está correlacionado con el largo de la pata delantera (si un venado  tiene una pata trasera larga también tendrá una pata delantera larga). Resulta  más conveniente tomar las medidas de ambas patas para cada venado, y comparar ambas medidas respetando la pertenencia del par de patas un mismo individuo.\n",
    "\n",
    "Empezamos por leer los datos de venados.csv "
   ]
  },
  {
   "cell_type": "code",
   "execution_count": null,
   "metadata": {},
   "outputs": [],
   "source": [
    "venados <- read_csv(\"data/venados.csv\")"
   ]
  },
  {
   "cell_type": "code",
   "execution_count": null,
   "metadata": {},
   "outputs": [],
   "source": [
    "venados"
   ]
  },
  {
   "cell_type": "markdown",
   "metadata": {},
   "source": [
    "1. Gráficos de dispersión del tamaño de la patas por venado"
   ]
  },
  {
   "cell_type": "code",
   "execution_count": null,
   "metadata": {},
   "outputs": [],
   "source": [
    "plot(venados$Delantera ~ venados$Venado, type = \"b\", col = 2, pch = 16, ylim = c(min(venados$Delantera, venados$Trasera),\n",
    "                                                                 max(venados$Delantera, venados$Trasera) + 5),\n",
    "     main = \"Gráfico \\n Longitud de las patas delanteras y traseras por Venado\",\n",
    "     ylab = \"Largo de la pata\")\n",
    "points(venados$Trasera ~ venados$Venado, type = \"b\", col = 3, pch = 16)\n",
    "legend(\"topright\", c(\"Delantera\", \"Trasera\"), col = c(2, 3), pch = 16)"
   ]
  },
  {
   "cell_type": "code",
   "execution_count": null,
   "metadata": {},
   "outputs": [],
   "source": [
    "library(tidyr)\n",
    "\n",
    "venados %<>% mutate(Venado = factor(Venado))\n",
    "\n",
    "venados %>% pivot_longer(-Venado, names_to = \"Pata\", values_to = \"Largo\") %>%\n",
    "    ggplot(aes(x = Venado, y = Largo, group = Pata, color = Pata)) +\n",
    "    geom_point() +\n",
    "    geom_line() +\n",
    "    labs(title = \"Longitud de las patas delanteras y traseras por Venado\",\n",
    "         x = \"Venado\",\n",
    "         y = \"Largo de la pata\") +\n",
    "    theme_bw()"
   ]
  },
  {
   "cell_type": "markdown",
   "metadata": {},
   "source": [
    "## 4. Conjunto de datos: Matapalo\n",
    "\n",
    "Para predecir la presencia de matapalo según el DAP (diámetro a la altura del pecho) se tomaron datos de 92 árboles con DAP menores a 1.51m. Se registró también el género de cada árbol.\n",
    "\n",
    "Leer datos de matapalo.csv:"
   ]
  },
  {
   "cell_type": "code",
   "execution_count": null,
   "metadata": {},
   "outputs": [],
   "source": [
    "matapalo <- read_csv(\"data/matapalo.csv\")"
   ]
  },
  {
   "cell_type": "code",
   "execution_count": null,
   "metadata": {},
   "outputs": [],
   "source": [
    "matapalo"
   ]
  },
  {
   "cell_type": "code",
   "execution_count": null,
   "metadata": {},
   "outputs": [],
   "source": [
    "matapalo %<>% rename(DAP = `DAP (m)`) %>% mutate(GENERO = factor(GENERO),\n",
    "                                                 MATAPALO = factor(MATAPALO))\n",
    "matapalo"
   ]
  },
  {
   "cell_type": "markdown",
   "metadata": {},
   "source": [
    "1. Gráficos de barras\n",
    "\n",
    "\n",
    "**TODO: ORDENAR LAS BARRAS DE MAYOR A MENOR**"
   ]
  },
  {
   "cell_type": "code",
   "execution_count": null,
   "metadata": {},
   "outputs": [],
   "source": [
    "matapalo %>% ggplot(aes(x = GENERO)) +\n",
    "    geom_bar() +\n",
    "    theme_bw()"
   ]
  },
  {
   "cell_type": "markdown",
   "metadata": {},
   "source": [
    "2. Frecuencia de la presencia de matapalo"
   ]
  },
  {
   "cell_type": "code",
   "execution_count": null,
   "metadata": {},
   "outputs": [],
   "source": [
    "matapalo %>% ggplot(aes(x = MATAPALO)) +\n",
    "    geom_bar() +\n",
    "    scale_x_discrete(labels = c(\"No\", \"Si\")) +\n",
    "    labs(title = \"Distribución de frecuencia de la presencia de matapalo\",\n",
    "         x = \"Presencia de matapalo\",\n",
    "         y = \"Frecuencia\") +\n",
    "    theme_bw()"
   ]
  },
  {
   "cell_type": "markdown",
   "metadata": {},
   "source": [
    "## 5. Volviendo a aves\n",
    "\n",
    "Volviendo al conjunto de datos Aves, Construyamos gráficos de barras compuestas. Se desea construir un gráfico que logra representar la distribución de las especies segun la localidad en la que se encontraron."
   ]
  },
  {
   "cell_type": "code",
   "execution_count": null,
   "metadata": {},
   "outputs": [],
   "source": [
    "aves"
   ]
  },
  {
   "cell_type": "markdown",
   "metadata": {},
   "source": [
    "De nuevo, `Localidad` debería ser una variable nominal, no numérica, por lo que necesitamos cambiarla:"
   ]
  },
  {
   "cell_type": "code",
   "execution_count": null,
   "metadata": {},
   "outputs": [],
   "source": [
    "aves %<>% mutate(Localidad = factor(Localidad, labels = c(\"C.Muerte\",\"Irazu\",\"Barva\",\"Poas\")))"
   ]
  },
  {
   "cell_type": "code",
   "execution_count": null,
   "metadata": {},
   "outputs": [],
   "source": [
    "aves"
   ]
  },
  {
   "cell_type": "code",
   "execution_count": null,
   "metadata": {},
   "outputs": [],
   "source": [
    "aves %>% ggplot(aes(x = Localidad, fill = Especie)) +\n",
    "    geom_bar(position = \"dodge\") +\n",
    "    labs(title = \"Gráfico de distribución de las aves por especie según la localidad\",\n",
    "         x = \"Localidad\",\n",
    "         y = \"Frecuencia\") +\n",
    "    theme_bw()"
   ]
  },
  {
   "cell_type": "code",
   "execution_count": null,
   "metadata": {},
   "outputs": [],
   "source": [
    "aves %>% ggplot(aes(x = Localidad, fill = Especie)) +\n",
    "    geom_bar(position = \"stack\") +\n",
    "    labs(title = \"Gráfico de distribución de las aves por especie según la localidad\",\n",
    "         x = \"Localidad\",\n",
    "         y = \"Frecuencia\") +\n",
    "    theme_bw()"
   ]
  },
  {
   "cell_type": "code",
   "execution_count": null,
   "metadata": {},
   "outputs": [],
   "source": [
    "aves %>% ggplot(aes(x = Localidad, fill = Especie)) +\n",
    "    geom_bar(position = \"fill\") +\n",
    "    labs(title = \"Gráfico de distribución de las aves por especie según la localidad\",\n",
    "         x = \"Localidad\",\n",
    "         y = \"Proporción\") +\n",
    "    theme_bw()"
   ]
  },
  {
   "cell_type": "markdown",
   "metadata": {},
   "source": [
    "Note que, en este caso, la información se puede presentar de forma tabular o gráfica. ¿Qué ventajas y desventajas tiene cada forma de presentar los datos? ¿Cuales diferencias ve entre los últimos tres gráficos de barras que hicimos?"
   ]
  }
 ],
 "metadata": {
  "kernelspec": {
   "display_name": "R",
   "language": "R",
   "name": "ir"
  },
  "language_info": {
   "codemirror_mode": "r",
   "file_extension": ".r",
   "mimetype": "text/x-r-source",
   "name": "R",
   "pygments_lexer": "r",
   "version": "4.0.2"
  }
 },
 "nbformat": 4,
 "nbformat_minor": 4
}
