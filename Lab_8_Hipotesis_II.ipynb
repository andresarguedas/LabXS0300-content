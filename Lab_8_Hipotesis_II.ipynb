{
 "cells": [
  {
   "cell_type": "markdown",
   "metadata": {
    "deletable": false,
    "editable": false,
    "nbgrader": {
     "cell_type": "markdown",
     "checksum": "efe8df2f57c19de7aef0688b4d74cbc8",
     "grade": false,
     "grade_id": "header",
     "locked": true,
     "schema_version": 3,
     "solution": false,
     "task": false
    }
   },
   "source": [
    "# <span style=\"color: blue\">Laboratorio 8: Prueba de Hipótesis II</span> <a class=\"tocSkip\"> \n",
    "\n",
    "### <span style=\"color: green\">Prof. Andrés Arguedas - XS-0300 - II 2020</span> <a class=\"tocSkip\"> \n",
    "\n",
    "*Este laboratorio es parte del curso XS-0300 Estadística para Biología I de la Escuela de Estadística de la Universidad de Costa Rica, y se presenta con una licencia [CC-BY-SA 4.0](https://creativecommons.org/licenses/by-sa/4.0/).*\n",
    "\n",
    "**ATENCIÓN:** Antes de entregar este laboratorio, asegúrese que todo corre como se espera. Para hacer esto, primero **reinice el kernel**, esto lo puede hacer seleccionado **Kernel** en el menú y luego **Restart**. Habiendo reiniciado el kernel, **corra todas las celdas**, esto lo puede hacer seleccionando **Cell** en el menú y luego **Run All**.\n",
    "\n",
    "Por último, recuerde rellenar cualquier lugar donde diga `ESCRIBA SU CÓDIGO AQUÍ` o \"ESCRIBA SU RESPUESTA AQUI\", así como escribir su nombre y carné a continuación:"
   ]
  },
  {
   "cell_type": "code",
   "execution_count": null,
   "metadata": {},
   "outputs": [],
   "source": [
    "NOMBRE = \"\"\n",
    "CARNE = \"\""
   ]
  },
  {
   "cell_type": "markdown",
   "metadata": {
    "deletable": false,
    "editable": false,
    "nbgrader": {
     "cell_type": "markdown",
     "checksum": "7f77b7de9313ed2c9e3760961ff70ee4",
     "grade": false,
     "grade_id": "cell-7b1a23e43f6be90e",
     "locked": true,
     "schema_version": 3,
     "solution": false,
     "task": false
    }
   },
   "source": [
    "---\n",
    "\n",
    "## Preparación para este laboratorio\n",
    "    \n",
    "El presente laboratorio tiene como objetivos de aprendizaje:\n",
    "    \n",
    "1. Repasar los conceptos de potencia de la prueba, error tipo II y error tipo I\n",
    "2. Utilizar una herramiento interactiva para poder ver la relación entre el tamaño de la muestra, el tamaño del efecto a detectar y la potencia de la prueba\n",
    "\n",
    "En este laboratorio no vamos a utilizar un conjunto de datos o comandos directamente en R, sino que utilizaremos una aplicación interactiva para poder visualizar la potencia de la prueba y la signficancia en el caso de una prueba de hipótesis para un promedio. La aplicación [se encuentra aquí](https://rpsychologist.com/d3/nhst/) y fue creada por Kristoffer Magnusson.\n",
    "\n",
    "Esta aplicación nos permite modificar los siguientes cuatro argumentos:\n",
    "\n",
    "- **Power:** la potencia de la prueba, calculado como $1 - \\beta$, es decir, 1 menos la probabilidad de cometer error tipo II ($\\beta$), que también se puede interpretar como la probabilidad de no rechazar una hipótesis nula dado que es verdadera.\n",
    "- **Alpha** o **Significance level:** es el nivel de significancia ($\\alpha$) establecido para la prueba de hipótesis.\n",
    "- **Sample size** o **n:** es el tamaño de muestra utilizado para realizar la prueba de hipótesis\n",
    "- **Effect size** o **d:** es el nivel de resolución, también llamado tamaño del efecto. En general, este se refiere a las diferencias mínimas que queremos detectar, es decir, a partir de qué punto es que queremos considerar una diferencia entre promedios como *importante*. En este caso, el tamaño del efecto se mide mediante la **d de Cohen**, de la cual mencionaremos algunas propiedades más adelante\n",
    "\n",
    "Para los cálculos que nos permite hacer la aplicación, necesitamos fijar tres de los anteriores cuatro argumentos y el procedimiento nos devuelve el que no especificamos. Primero, vamos a hablar un poco más sobre la **d de Cohen**, esta se usa como una medida estandarizada, es decir sin unidades, para medir el tamaño de un efecto o de una diferencia. Este valor se puede interpretar como la cantidad de desviaciones estándar a las cuales está el promedio teórico del promedio calculado. De forma más sencilla, por lo general se acostumbra utilizar la siguiente regla de dedo para medir el tamaño de este valor de la **d de Cohen**, aunque **estos valores son empíricos y no siempre tienen sentido teórico o práctico, por lo que dependen del área de estudio**:\n",
    "\n",
    "|Tamaño|$d$|\n",
    "|:---:|:---:|\n",
    "|Muy pequeño|0.01|\n",
    "|Pequeño|0.2|\n",
    "|Mediano|0.5|\n",
    "|Grande|0.8|\n",
    "|Muy grande|1.2|\n",
    "|Enorme|2|\n",
    "\n",
    "Por ejemplo, si quisieramos poder detectar diferencias \"muy pequeñas\" entre dos promedios, podríamos escoger un valor de $d=0.01$, aunque siempre queda la pregunta de **¿qué es muy pequeño?** y por eso es que es mejor calcular directamente con base en nuestro nivel de resolución. Aun así, para efectos de este laboratorio, nos vamos a quedar con la regla de dedo de la tabla anterior.\n",
    "\n",
    "Volviendo a la aplicación, la primera opción que aparece es **Settings**, mediante la cual podemos escoger, mediante las opciones con botones, cual de los cuatro argumentos queremos despejar con base en los otros tres. Por lo tanto, por ejemplo, si escogemos la opción **n**, veamos que nos aparece dos barras con un deslizador para poder escoger los valores de la potencia (**Power**), el nivel de significancia (**Significance level**) y el tamaño del efecto (**Effect size**). Con estos deslizadores podemos escoger los valores que queremos utilizar, bajo algunas restricciones, y la aplicación nos devuelve el argumento que estamos despejando. Un comentario importante: **deben presionar en el botón que dice \"Two-tailed\" debajo de los deslizadores para poder obtener el resultado adecuado para las pruebas de hipótesis que hemos visto. Si lo dejan con la opción de \"One-tailed\" los resultados que obtienen no van a ser iguales a los que vamos a describir a continuación.** Entonces, habiendo presionado el botón para hacer una prueba de dos colas, podemos proceder con nuestro ejemplo. \n",
    "\n",
    "Para este caso, vamos a despejar el tamaño de muestra que necesitaríamos obtener para poder detectar diferencias pequeñas, con una significancia del 5% y una potencia del 95%. Esto lo podemos calcular en la aplicación escogiendo la opción de **n** en los primeros botones, y luego utilizando los deslizadores para definir: **Power ($1 - \\beta = 0.95$), Significance level ($\\alpha = 0.05$), Effect Size ($d = 0.2$)**. Al hacer esto, encima del gráfico debería haber una línea horizontal que dice \"Cohen's $d$: 0.2\", lo que quiere decir que el tamaño del efecto va a ser de 0.2 (pequeño), que fue el valor que definimos. Luego, debajo de los gráficos de las distribuciones, vienen cuatro valores distintos: \"Type I error\", que es el valor de la significancia, que en este caso fijamos en un 5%; \"Type II error\", que es la probabilidad de cometer error tipo II y se obtiene al restar uno menos la potencia de la prueba, la cual fijamos y aparece en el resultado como \"Power\"; y \"Sample size\", que devuelve el tamaño de muestra necesario, el cual, para este caso, no fijamos y queríamos despejar con base en los otros tres argumentos. **En resumen:** necesitamos fijar tres de los cuatro argumentos y la aplicación nos devuelve el cuarto argumento que no especificamos, con base en los valores suministrados. Por lo tanto, para poder detectar diferencias pequeñas, con un 5% de significancia y una potencia del 95%, necesitaríamos tomar un tamaño de muestra de 324.87, que redondeado hacia arriba es 325, que es el valor que queríamos despejar.\n",
    "\n",
    "¿Qué pasa si no tenemos suficientes recursos para tomar un tamaño de muestra tan grande? En este caso podemos tomar dos decisiones: disminuir la potencia, es decir aumentar la probabilidad tolerada de cometer error tipo II, o ver diferencias más grandes de las que originalmente se querían. Todo esto lo podemos obtener cambiando los valores de los deslizadores o despejando algún otro argumento, que es lo que haremos para los ejercicios.\n",
    "\n",
    "---"
   ]
  },
  {
   "cell_type": "markdown",
   "metadata": {
    "deletable": false,
    "editable": false,
    "nbgrader": {
     "cell_type": "markdown",
     "checksum": "8ba92c98f72f2679f57ea61b5e7b3ffb",
     "grade": false,
     "grade_id": "ej-inst",
     "locked": true,
     "schema_version": 3,
     "solution": false,
     "task": false
    }
   },
   "source": [
    "## Ejercicio (6 pts.)\n",
    "\n",
    "Como vimos en el ejemplo anterior, para poder detectar diferencias pequeñas ($d = 0.2$), con una significancia del 5% y una potencia del 95% necesitamos un tamaño de muestra de 325. Con base en lo anterior, conteste las preguntas que se presentan a continuación utilizando la aplicación **(no es necesario que presente cálculos o resultados de la aplicación, solamente tiene que presentar el valor que se le pide)**:\n",
    "\n",
    "1. Suponga que no se tiene dinero para tomar un tamaño de muestra de 325, sino que el tamaño de muestra máximo que se puede obtener es de 150. Manteniendo la significancia y el tamaño del efecto, ¿cual sería la potencia de la prueba en este caso? (1 pts.\n",
    "2. Gracias a algunos recursos externos, se pudo aumentar el tamaño de la muestra de 150 a 200. Manteniendo el tamaño del efecto y la significancia del punto 1), calcule la potencia de la prueba. (1 pts.)\n",
    "3. Ahora, cambie el tamaño del efecto para que sea mediano ($d = 0.5$), es decir, no queremos tener tanta fineza al momento de detectar diferencias, y, utilizando el mismo tamaño de muestra y significancia del punto 1), calcule la potencia de la prueba. (1 pts.) \n",
    "4. Con base en las respuestas de las preguntas anteriores ¿cuál de los dos argumentos parece afectar más a la potencia, manteniendo una significancia fija: el tamaño del efecto o el tamaño de la muestra? ¿Qué implicaciones prácticas tiene este resultado? Justifique su respuesta. (3 pts.)"
   ]
  },
  {
   "cell_type": "markdown",
   "metadata": {
    "deletable": false,
    "nbgrader": {
     "cell_type": "markdown",
     "checksum": "63e11b94cc9dfc30889ec894be1e7ffb",
     "grade": true,
     "grade_id": "ej",
     "locked": false,
     "points": 6,
     "schema_version": 3,
     "solution": true,
     "task": false
    }
   },
   "source": [
    "ESCRIBA SU RESPUESTA AQUI"
   ]
  },
  {
   "cell_type": "markdown",
   "metadata": {
    "deletable": false,
    "editable": false,
    "nbgrader": {
     "cell_type": "markdown",
     "checksum": "f1dcbfcdd85aa2a72682b29d7ae4d8c8",
     "grade": false,
     "grade_id": "footer",
     "locked": true,
     "schema_version": 3,
     "solution": false,
     "task": false
    }
   },
   "source": [
    "---\n",
    "\n",
    "## <span style=\"color: blue\">Entrega del laboratorio</span> <a class=\"tocSkip\"> \n",
    "\n",
    "Para hacer entrega de este laboratorio, debe descargarlo presionando en **File**, luego **Download as** y, por último, **Notebook (.ipynb)**, en el menú superior, debajo del logo de Jupyter. También puede descargarlo directamente desde el botón de **Download** en la barra con íconos para acceso rápido.\n",
    "\n",
    "Luego de haber localizado el archivo descargado, debe cambiar el nombre del archivo descargado por su número de carné, de forma que, si su carné es **B12345**, su archivo debería llamarse `B12345.ipynb`. Una vez le haya cambiado el nombre al archivo, lo puede subir a Mediación Virtual, en el apartado correspondiente a este laboratorio."
   ]
  },
  {
   "cell_type": "markdown",
   "metadata": {
    "deletable": false,
    "editable": false,
    "nbgrader": {
     "cell_type": "markdown",
     "checksum": "6559c10b0b5a034a94b3cc7eac7897be",
     "grade": false,
     "grade_id": "license",
     "locked": true,
     "schema_version": 3,
     "solution": false,
     "task": false
    }
   },
   "source": [
    "<a href=\"https://creativecommons.org/licenses/by-sa/4.0/\">\n",
    "    <img src=\"https://mirrors.creativecommons.org/presskit/buttons/88x31/png/by-sa.png\" width=\"88\" height=\"31\" />\n",
    "</a>"
   ]
  }
 ],
 "metadata": {
  "kernelspec": {
   "display_name": "R",
   "language": "R",
   "name": "ir"
  },
  "language_info": {
   "codemirror_mode": "r",
   "file_extension": ".r",
   "mimetype": "text/x-r-source",
   "name": "R",
   "pygments_lexer": "r",
   "version": "4.0.2"
  },
  "toc": {
   "base_numbering": 1,
   "nav_menu": {},
   "number_sections": true,
   "sideBar": true,
   "skip_h1_title": false,
   "title_cell": "Table of Contents",
   "title_sidebar": "Contents",
   "toc_cell": false,
   "toc_position": {},
   "toc_section_display": true,
   "toc_window_display": false
  },
  "varInspector": {
   "cols": {
    "lenName": 16,
    "lenType": 16,
    "lenVar": 40
   },
   "kernels_config": {
    "python": {
     "delete_cmd_postfix": "",
     "delete_cmd_prefix": "del ",
     "library": "var_list.py",
     "varRefreshCmd": "print(var_dic_list())"
    },
    "r": {
     "delete_cmd_postfix": ") ",
     "delete_cmd_prefix": "rm(",
     "library": "var_list.r",
     "varRefreshCmd": "cat(var_dic_list()) "
    }
   },
   "types_to_exclude": [
    "module",
    "function",
    "builtin_function_or_method",
    "instance",
    "_Feature"
   ],
   "window_display": false
  }
 },
 "nbformat": 4,
 "nbformat_minor": 4
}
