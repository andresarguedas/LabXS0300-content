{
 "cells": [
  {
   "cell_type": "markdown",
   "metadata": {},
   "source": [
    "# Laboratorio 6 - Estimación I\n",
    "Prof. Andrés Arguedas\n",
    "\n",
    "XS0300 - Estadística para Biología I"
   ]
  },
  {
   "cell_type": "markdown",
   "metadata": {},
   "source": [
    "## PREGUNTAS INICIALES\n",
    "\n",
    "Antes de empezar el laboratorio, conteste las siguientes preguntas:\n",
    "\n",
    "1. <details>\n",
    "    <summary><b>¿Qué es un intervalo de confianza?</b></summary>\n",
    "    \n",
    "    Respuesta\n",
    "    \n",
    "    </details>\n",
    "    \n",
    "    \n",
    "2. <details>\n",
    "    <summary><b>¿Qué es un parámetro?</b></summary>\n",
    "    \n",
    "    Respuesta\n",
    "    \n",
    "    </details>\n",
    "    \n",
    "    \n",
    "3. <details>\n",
    "    <summary><b>¿Cuál es el propósito de hacer estimaciones con base en datos muestrales?</b></summary>\n",
    "    \n",
    "    Respuesta\n",
    "    \n",
    "    </details>\n",
    "    \n",
    "    \n",
    "4. <details>\n",
    "    <summary><b>¿Se puede conocer el parámetro de una población?</b></summary>\n",
    "    \n",
    "    Respuesta\n",
    "    \n",
    "    </details>\n",
    "    \n",
    "    \n",
    "5. <details>\n",
    "    <summary><b>¿Qué efecto tiene el tipo de muestreo que usamos sobre las estimaciones?</b></summary>\n",
    "    \n",
    "    Respuesta\n",
    "    \n",
    "    </details>\n",
    "    \n",
    "    \n",
    "6. <details>\n",
    "    <summary><b>¿Qué es el Teorema del Límite Central?</b></summary>\n",
    "    \n",
    "    Respuesta\n",
    "    \n",
    "    </details>"
   ]
  },
  {
   "cell_type": "markdown",
   "metadata": {},
   "source": [
    "## LABORATORIO\n",
    "\n",
    "### 1) Intervalo de confianza para un promedio\n",
    "\n",
    "Para este laboratorio, vamos a usar el mismo conjunto de datos de `aves.csv` ya que contiene datos para dos especies y de varias variables numéricas, lo que nos permite hacer intervalos de confianza para la media y para la diferencia de promedios entre grupos. Empezamos por cargar los datos:"
   ]
  },
  {
   "cell_type": "code",
   "execution_count": null,
   "metadata": {},
   "outputs": [],
   "source": [
    "library(readr)\n",
    "library(dplyr)\n",
    "library(tidyr)\n",
    "library(ggplot2)\n",
    "library(magrittr)\n",
    "library(car)"
   ]
  },
  {
   "cell_type": "code",
   "execution_count": null,
   "metadata": {},
   "outputs": [],
   "source": [
    "aves <- read_csv(\"data/aves.csv\")"
   ]
  },
  {
   "cell_type": "markdown",
   "metadata": {},
   "source": [
    "Aunque ya este conjunto de datos lo hemos trabajado, veamos lo que contiene:"
   ]
  },
  {
   "cell_type": "code",
   "execution_count": null,
   "metadata": {},
   "outputs": [],
   "source": [
    "summary(aves)"
   ]
  },
  {
   "cell_type": "markdown",
   "metadata": {},
   "source": [
    "<details>\n",
    "    <summary>¿Hay alguna variable que se tenga que cambiar de numérica a factor o vice versa?</summary> \n",
    "    \n",
    "En este caso, como podemos observar, la variable `Localidad` está codificada como una variable numérica y la variable `Especie` como caracter, cuando realmente deberían ser de tipo factor. \n",
    "   \n",
    "</details>\n",
    "    \n",
    "Por lo tanto, procedamos a convertirlas en factor:"
   ]
  },
  {
   "cell_type": "code",
   "execution_count": null,
   "metadata": {},
   "outputs": [],
   "source": [
    "aves %<>% mutate(Localidad = factor(Localidad),\n",
    "                 Especie = factor(Especie))\n",
    "summary(aves)"
   ]
  },
  {
   "cell_type": "markdown",
   "metadata": {},
   "source": [
    "Notemos que ahora las variables `Localidad` y `Especie` son del tipo factor. Habiendo verificado los cambios:\n",
    "\n",
    "- <details>\n",
    "    <summary>¿Cómo se interpretan los primeros dos resultados del comando <code>summary</code>, es decir, lo referente a las variables de <code>Localidad</code> y <code>Especie</code>?</summary>\n",
    "\n",
    "    Respuesta\n",
    "    \n",
    "    </details>\n",
    "    \n",
    "    \n",
    "- <details>\n",
    "    <summary>¿Qué podemos decir sobre las variables de <code>Tarso</code>, <code>Juanete</code> y <code>Peso</code>? ¿Hay algo extraño en estas variables con base en el summary?</summary>\n",
    "    \n",
    "    Respuesta\n",
    "    \n",
    "    </details>\n",
    "    \n",
    "\n",
    "Ya que tenemos valores perdidos (*NA's*) tenemos que tomar una decisión sobre que hacer con estos. Para efectos de este laboratorio vamos a eliminar del análisis las observaciones con NA's, pero pudimos haberlas imputado (estimar el valor con base en las demás observaciones) o haber hecho el análisis con estos valores. Para eliminar los NA's usamos el siguiente comando:"
   ]
  },
  {
   "cell_type": "code",
   "execution_count": null,
   "metadata": {},
   "outputs": [],
   "source": [
    "aves %<>% na.omit()\n",
    "summary(aves)"
   ]
  },
  {
   "cell_type": "markdown",
   "metadata": {},
   "source": [
    "En este caso perdimos cinco observaciones, pero ya no tenemos NA's. Por lo tanto, veamos el comportamiento de las 8 variables numéricas:"
   ]
  },
  {
   "cell_type": "code",
   "execution_count": null,
   "metadata": {},
   "outputs": [],
   "source": [
    "aves %>% pivot_longer(c(-Localidad, -Especie), names_to = \"Variable\", values_to = \"Valor\") %>%\n",
    "    ggplot(aes(x = Valor, fill = Variable)) +\n",
    "    facet_wrap(~ Variable, scales = \"free_x\") +\n",
    "    geom_histogram(bins = 8, colour = \"black\") +\n",
    "    ylab(\"Frecuencia\") +\n",
    "    guides(fill = FALSE) +\n",
    "    theme_bw()"
   ]
  },
  {
   "cell_type": "markdown",
   "metadata": {},
   "source": [
    "- <details>\n",
    "    <summary>¿Hay variables que parezcan tener un comportamiento normal? ¿Cuales?</summary>\n",
    "    \n",
    "    Respuesta\n",
    "    \n",
    "    </details>\n",
    "    \n",
    "    \n",
    "- <details>\n",
    "    <summary>¿Hay valores extremos en alguna variable? ¿Cuales?</summary>\n",
    "    \n",
    "    Respuesta\n",
    "    \n",
    "    </details>\n",
    "    \n",
    "    \n",
    "- <details>\n",
    "    <summary>¿Hay variables que tienen un comportamiento inusual? ¿Cuales?</summary>\n",
    "    \n",
    "    Respuesta\n",
    "    \n",
    "    </details>\n",
    "    \n",
    "\n",
    "Para efectos del laboratorio, vamos a calcular el intervalo de confianza para el promedio del largo del pico y del peso. Los demás intervalos de confianza, junto con su debida interpretación, son ejercicios de práctica.\n",
    "\n",
    "\n",
    "<details>\n",
    "    <summary>¿Cuál es la fórmula para el cálculo del intervalo de confianza de una media?</summary>\n",
    "\n",
    "$\\bar{x} \\pm t_{1-\\alpha/2, n-1} * s \\big/ \\sqrt{n}$\n",
    "\n",
    "</details>\n",
    "    \n",
    "Para empezar el cálculo del intervalo de confianza, vamos a calcular la media y la desviación estándar de las variables de interés:"
   ]
  },
  {
   "cell_type": "code",
   "execution_count": null,
   "metadata": {},
   "outputs": [],
   "source": [
    "media.lp <- mean(aves$Largo.pico)\n",
    "sd.lp <- sd(aves$Largo.pico)\n",
    "media.pe <- mean(aves$Peso)\n",
    "sd.pe <- sd(aves$Peso)\n",
    "\n",
    "media.lp; sd.lp; media.pe; sd.pe"
   ]
  },
  {
   "cell_type": "markdown",
   "metadata": {},
   "source": [
    "Habiendo calculado la media y la desviación estándar para ambas variables, procedemos a calcular los valores de la t-Student. ¿Cuánta confianza queremos para el intervalo? Definamos primero la cantidad de observaciones en los datos ($n$):"
   ]
  },
  {
   "cell_type": "code",
   "execution_count": null,
   "metadata": {},
   "outputs": [],
   "source": [
    "n <- nrow(aves)\n",
    "n"
   ]
  },
  {
   "cell_type": "markdown",
   "metadata": {},
   "source": [
    "Calculemos el valor del cuantil de la t-Student:"
   ]
  },
  {
   "cell_type": "code",
   "execution_count": null,
   "metadata": {},
   "outputs": [],
   "source": [
    "valor.t <- qt(1 - 0.05 / 2, n - 1)\n",
    "valor.t"
   ]
  },
  {
   "cell_type": "markdown",
   "metadata": {},
   "source": [
    "- <details>\n",
    "    <summary>¿Por qué usamos el comando <code>qt</code> y no <code>pt</code>?</summary>\n",
    "    \n",
    "    Respuesta\n",
    "    \n",
    "    </details>\n",
    "    \n",
    "    \n",
    "- <details>\n",
    "    <summary>¿Que significa el argumento <code>1 - 0.05 / 2</code> de la función <code>qt</code>? ¿Esto nos daría un intervalo con qué nivel de confianza?</summary>\n",
    "    \n",
    "    Respuesta\n",
    "    \n",
    "    </details>\n",
    "    \n",
    "    \n",
    "- <details>\n",
    "    <summary>¿Para qué pusimos <code>n - 1</code> como segundo argumento del comando <code>qt</code>? ¿Qué significa?</summary>\n",
    "    \n",
    "    Respuesta\n",
    "    \n",
    "    </details>\n",
    "    \n",
    "    \n",
    "Teniendo ya la media, la desviación estándar y el valor de la t, podemos calcular el intervalo de confianza:"
   ]
  },
  {
   "cell_type": "code",
   "execution_count": null,
   "metadata": {},
   "outputs": [],
   "source": [
    "ic.lp <- media.lp + c(-1, 1) * valor.t * sd.lp / sqrt(n)\n",
    "ic.lp\n",
    "ic.pe <- media.pe + c(-1, 1) * valor.t * sd.pe / sqrt(n)\n",
    "ic.pe"
   ]
  },
  {
   "cell_type": "markdown",
   "metadata": {},
   "source": [
    "- <details>\n",
    "    <summary>¿Cómo se interpretan estos intervalos de confianza?</summary>\n",
    "    \n",
    "    Respuesta\n",
    "    \n",
    "    </details>\n",
    "    \n",
    "    \n",
    "- <details>\n",
    "    <summary>¿Tienen sentido estos resultados con base en lo que vimos de la muestra?</summary>\n",
    "    \n",
    "    Respuesta\n",
    "    \n",
    "    </details>\n",
    "    \n",
    "    \n",
    "Recordemos que este intervalo es con respecto al promedio de la variable, el cual asumimos que se distribuye normalmente, sin importar la distribución  original, gracias al teorema del límite central. Aun así, el teorema del límite central ocupaba, para distribuciones no normales, tener un tamaño de muestra grande. \n",
    "\n",
    "- ¿Cree que las conclusiones obtenidas de esta muestra son apropiadas o sería mejor aumentar el tamaño de muestra?\n",
    "- ¿Qué pasa si cambiamos el nivel de confianza?\n",
    "\n",
    "Como ejercicio de práctica queda realizar los demás intervalos de confianza para la media de las variables restantes e interpretarlos."
   ]
  },
  {
   "cell_type": "markdown",
   "metadata": {},
   "source": [
    "### 2) Intervalo de confianza para la diferencia de promedios\n",
    "\n",
    "Todo el ejercicio anterior lo hicimos con base en el promedio de una variable pero recordemos que en clase vimos la fórmula para hacer intervalos de confianza con respecto a la diferencia de promedios. En este caso, dado que tenemos dos especies (*Catharus* y *Chlorospingus*), nos interesa determinar en cuales de estas variables se diferencian las especies. Por lo anterior, si hacemos un intervalo de confianza para la diferencia de las medias, podemos determinar si existen o no diferencias entre las especies observando si el intervalo contiene al cero. \n",
    "\n",
    "<details>\n",
    "    <summary>¿Por qué ocupabamos que el intervalo tuviera al cero para decir que hay diferencias entre los promedios?</summary>\n",
    "    \n",
    "Respuesta\n",
    "    \n",
    "</details>\n",
    "\n",
    "Para poder tener una idea sobre las posibles diferencias entre los promedios para ambas especies, podemos usar boxplots. ¿Por qué usamos boxplots para ver si hay diferencias? Usamos boxplots ya que estos se pueden separar según la especie y nos da una idea sobre el comportamiento medio de la variable (en este caso mediante la mediana) y sobre la variabilidad de esta. Por lo tanto, si las cajas están cercanas entre ambas especies y los bigotes se traslapan, esto puede darnos indicios de que no hay diferencias entre los promedios de las especies para estas variables. **OJO: Aunque la parte visual es importante para poder respaldar los resultados, no reemplaza el cálculo de los intervalos de confianza.** Hagamos un boxplot, para cada variable, según la especie:"
   ]
  },
  {
   "cell_type": "code",
   "execution_count": null,
   "metadata": {},
   "outputs": [],
   "source": [
    "aves %>% pivot_longer(c(-Localidad, -Especie), names_to = \"Variable\", values_to = \"Valor\") %>%\n",
    "    ggplot(aes(y = Valor, x = Especie, fill = Variable)) +\n",
    "    facet_wrap(~ Variable, scales = \"free_y\") +\n",
    "    geom_boxplot() +\n",
    "    ylab(\"Frecuencia\") +\n",
    "    guides(fill = FALSE) +\n",
    "    theme_bw()"
   ]
  },
  {
   "cell_type": "markdown",
   "metadata": {},
   "source": [
    "Podemos ver que hay ciertas variables que, a simple vista, no parecen presentar diferencias entre los promedios para ambas especies.\n",
    "\n",
    "¿Que puede observar sobre las diferencias en la cola y el peso para ambas especies?\n",
    "\n",
    "¿El comportamiento es distinto al de tarso y alto pico?\n",
    "\n",
    "Para efectos del laboratorio, vamos a calcular los intervalos de confianza de la diferencia en el promedio de las especies para cola y tarso. Para poder calcular estos intervalos, vamos a partir los datos en dos subconjuntos de datos nuevos, uno para cada especie. \n",
    "\n",
    "¿Qué comando usabamos para hacer este tipo de particiones?"
   ]
  },
  {
   "cell_type": "code",
   "execution_count": null,
   "metadata": {},
   "outputs": [],
   "source": []
  }
 ],
 "metadata": {
  "kernelspec": {
   "display_name": "R",
   "language": "R",
   "name": "ir"
  },
  "language_info": {
   "codemirror_mode": "r",
   "file_extension": ".r",
   "mimetype": "text/x-r-source",
   "name": "R",
   "pygments_lexer": "r",
   "version": "4.0.2"
  }
 },
 "nbformat": 4,
 "nbformat_minor": 4
}
