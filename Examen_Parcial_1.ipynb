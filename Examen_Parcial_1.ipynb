{
 "cells": [
  {
   "cell_type": "markdown",
   "metadata": {
    "deletable": false,
    "editable": false,
    "nbgrader": {
     "cell_type": "markdown",
     "checksum": "38087ae8e0e482468a7477d66af9fb6f",
     "grade": false,
     "grade_id": "instrucciones",
     "locked": true,
     "schema_version": 3,
     "solution": false,
     "task": false
    }
   },
   "source": [
    "# <span style=\"color: blue\">Examen Parcial I</span> <a class=\"tocSkip\"> \n",
    "\n",
    "### <span style=\"color: green\">Prof. Andrés Arguedas - XS-0300 - II 2020</span> <a class=\"tocSkip\"> \n",
    "\n",
    "**INSTRUCCIONES GENERALES:** \n",
    "    \n",
    "Para hacer entrega del examen, debe descargarlo presionando en File, luego Download as y, por último, Notebook (.ipynb), en el menú superior, debajo del logo de Jupyter. También puede descargarlo directamente desde el botón de Download en la barra con íconos para acceso rápido. Luego de haber localizado el archivo descargado, debe cambiar el nombre del archivo descargado por su número de carné, de forma que, si su carné es B12345, su archivo debería llamarse B12345.ipynb. Una vez le haya cambiado el nombre al archivo, lo puede subir a Mediación Virtual, en el apartado correspondiente a este examen. **Recuerde los lineamientos básicos requeridos para la presentación de tablas y gráficos.**\n",
    "    \n",
    "**ATENCIÓN:** Antes de entregar este examen, asegúrese que todo corre como se espera. Para hacer esto, primero **reinice el kernel**, esto lo puede hacer seleccionado **Kernel** en el menú y luego **Restart**. Habiendo reiniciado el kernel, **corra todas las celdas**, esto lo puede hacer seleccionando **Cell** en el menú y luego **Run All**.\n",
    "\n",
    "Por último, recuerde rellenar cualquier lugar donde diga `ESCRIBA SU CÓDIGO AQUÍ` o \"ESCRIBA SU RESPUESTA AQUI\", así como escribir su nombre y carné a continuación:"
   ]
  },
  {
   "cell_type": "code",
   "execution_count": null,
   "metadata": {},
   "outputs": [],
   "source": [
    "NOMBRE = \"\"\n",
    "CARNE = \"\""
   ]
  },
  {
   "cell_type": "markdown",
   "metadata": {
    "deletable": false,
    "editable": false,
    "nbgrader": {
     "cell_type": "markdown",
     "checksum": "c9e2eb4ec14caf7a166ab722208d612c",
     "grade": false,
     "grade_id": "teor-1",
     "locked": true,
     "schema_version": 3,
     "solution": false,
     "task": false
    }
   },
   "source": [
    "## Preguntas teóricas (16 pts.)\n",
    "\n",
    "Para las siguientes preguntas, escriba sus respuestas en la celda de texto debajo de la pregunta correspondiente.\n",
    "\n",
    "1) Explique la diferencia entre la estadística descriptiva y la estadística inferencial. Además, justifique por qué decimos que ambos tipos de estadística son complementarios. **(4 pts.)**"
   ]
  },
  {
   "cell_type": "markdown",
   "metadata": {
    "deletable": false,
    "nbgrader": {
     "cell_type": "markdown",
     "checksum": "f0b87cadca57cf25a84e382ed485e82b",
     "grade": true,
     "grade_id": "teor-1tex",
     "locked": false,
     "points": 4,
     "schema_version": 3,
     "solution": true,
     "task": false
    }
   },
   "source": [
    "ESCRIBA SU RESPUESTA AQUI"
   ]
  },
  {
   "cell_type": "markdown",
   "metadata": {
    "deletable": false,
    "editable": false,
    "nbgrader": {
     "cell_type": "markdown",
     "checksum": "f30b0823258550ffe4db32b975713dfd",
     "grade": false,
     "grade_id": "teor-2",
     "locked": true,
     "schema_version": 3,
     "solution": false,
     "task": false
    }
   },
   "source": [
    "2) Una persona que está llevando un curso de Estadística acaba de aprender sobre la desviación estándar. Como el tema le apasiona tanto, afirma que, con base en los ejemplos que ha visto, la variable que tiene mayor desviación estándar siempre es la que más varía. ¿Es la afirmación de esta persona verdadera o falsa? Justifique su respuesta."
   ]
  },
  {
   "cell_type": "markdown",
   "metadata": {
    "deletable": false,
    "nbgrader": {
     "cell_type": "markdown",
     "checksum": "e3d2e50582561b2af423940716dce9e7",
     "grade": true,
     "grade_id": "teor-2tex",
     "locked": false,
     "points": 4,
     "schema_version": 3,
     "solution": true,
     "task": false
    }
   },
   "source": [
    "ESCRIBA SU RESPUESTA AQUI"
   ]
  },
  {
   "cell_type": "markdown",
   "metadata": {
    "deletable": false,
    "editable": false,
    "nbgrader": {
     "cell_type": "markdown",
     "checksum": "72a471d5c023231a1d7e34dc1c829ded",
     "grade": false,
     "grade_id": "teor-3",
     "locked": true,
     "schema_version": 3,
     "solution": false,
     "task": false
    }
   },
   "source": [
    "3) Una persona está haciendo una investigación sobre la percepción de los ciudadanos del país sobre distintas políticas de conservación propuestas por el gobierno. Para lograr esto, dicha persona fue al parque de una ciudad y, durante todo el día, entrevistó a las personas que pasaran por el parque y quisieran responder su encuesta. La persona afirma que, como no tiene control sobre quienes llegan al parque, la selección de la muestra es aleatoria. ¿Es la afirmación de esta persona falsa o verdadera? Justifique su respuesta."
   ]
  },
  {
   "cell_type": "markdown",
   "metadata": {
    "deletable": false,
    "nbgrader": {
     "cell_type": "markdown",
     "checksum": "cfa36926399fa976056d05de27f93900",
     "grade": true,
     "grade_id": "teor-3tex",
     "locked": false,
     "points": 4,
     "schema_version": 3,
     "solution": true,
     "task": false
    }
   },
   "source": [
    "ESCRIBA SU RESPUESTA AQUI"
   ]
  },
  {
   "cell_type": "markdown",
   "metadata": {
    "deletable": false,
    "editable": false,
    "nbgrader": {
     "cell_type": "markdown",
     "checksum": "7cbd46ea99fa4ab8f8328c5292aae98b",
     "grade": false,
     "grade_id": "teor-4",
     "locked": true,
     "schema_version": 3,
     "solution": false,
     "task": false
    }
   },
   "source": [
    "4) Explique la diferencia entre una variable aleatoria discreta y una variable aleatoria continua. De un ejemplo de cada una."
   ]
  },
  {
   "cell_type": "markdown",
   "metadata": {
    "deletable": false,
    "nbgrader": {
     "cell_type": "markdown",
     "checksum": "78a3b8c00374472df295439a938a10e8",
     "grade": true,
     "grade_id": "teor-4tex",
     "locked": false,
     "points": 4,
     "schema_version": 3,
     "solution": true,
     "task": false
    }
   },
   "source": [
    "ESCRIBA SU RESPUESTA AQUI"
   ]
  },
  {
   "cell_type": "markdown",
   "metadata": {
    "deletable": false,
    "editable": false,
    "nbgrader": {
     "cell_type": "markdown",
     "checksum": "e52962d55c0852b24e0932c98132da63",
     "grade": false,
     "grade_id": "inst-prac",
     "locked": true,
     "schema_version": 3,
     "solution": false,
     "task": false
    }
   },
   "source": [
    "## Preguntas prácticas (24 pts.)\n",
    "\n",
    "Las observaciones en una investigación no tienen por qué pertenecer a individuos, sino que pueden tener origines y utilidades distintas. Un ejemplo de esto es presentado por Yates y Fraser (2014), quienes en su artículo [*Does source population size affect performance in new environments*](https://www.ncbi.nlm.nih.gov/pmc/articles/PMC4211717/) analizan una serie de distintos estudios, para determinar si la probabilidad de sobrevivencia de seres vivos en nuevos ambientes tiene una relación con el tamaño de la población original. En otras palabras, si especies que provienen de poblaciones pequeñas tienen mayor dificultad en adaptarse a nuevos entornos que especies con poblaciones grandes. Este artículo es una meta análisis, un tipo de investigación en el cual **cada observación es una investigación, estudio o artículo**, y se quiere comparar las conclusiones de diversos estudios distintos para obtener conclusiones más generalizables para la población. Algunos datos de este estudio se presentan en el archivo `source_population.xlsx`, el cual contiene las siguientes variables:\n",
    "\n",
    "- `Stage`: el estadío de las plantas en el cual se realizaron los transplantes. Esta variable tiene dos categorías: `germination`, correspondiente a un transplante justo cuando la semilla germina, y `seedling`, correspondiente a transplantar la plántula después de la germinación\n",
    "- `Survival`: la cantidad de plantas que sobrevivieron el transplante\n",
    "- `Sample.Size`: el tamaño de muestra utilizado en el estudio, es decir, la cantidad total de plantas utilizadas en el estudio\n",
    "- `Prop`: la proporción de plantas que sobrevivieron el transplante. Se calcula como `Survival / Sample.Size`\n",
    "- `LOGSample.Size`: el logaritmo con base 10 del tamaño de la muestra utilizado en el estudio (`Sample.Size`). Se calcula como `log10(Sample.Size)`\n",
    "\n",
    "Habiendo definido las variables y el contexto del estudio, proceda a cargar los datos a R. Esto se puede hacer corriendo el siguiente comando para cargar los datos del archivo `source_population.xlsx` como el objeto `data` en R:"
   ]
  },
  {
   "cell_type": "code",
   "execution_count": null,
   "metadata": {
    "deletable": false,
    "editable": false,
    "nbgrader": {
     "cell_type": "code",
     "checksum": "71e6be16dea1fcae9775596d55dfdeaa",
     "grade": false,
     "grade_id": "cargar-datos",
     "locked": true,
     "schema_version": 3,
     "solution": false,
     "task": false
    }
   },
   "outputs": [],
   "source": [
    "library(readxl)\n",
    "data <- read_excel(\"data/source_population.xlsx\")\n",
    "summary(data)"
   ]
  },
  {
   "cell_type": "markdown",
   "metadata": {
    "deletable": false,
    "editable": false,
    "nbgrader": {
     "cell_type": "markdown",
     "checksum": "934c5085c61b27b796f13a1a4538b1b4",
     "grade": false,
     "grade_id": "prac-1",
     "locked": true,
     "schema_version": 3,
     "solution": false,
     "task": false
    }
   },
   "source": [
    "Con base en la información anterior, conteste las siguientes preguntas, utilizando las celdas de código para escribir su código y las de texto para escribir sus respuestas:\n",
    "\n",
    "1) Cambie la variable del estadío de las plantas (`Stage`) a factor y vuelva a hacer el `summary()`. ¿Cuántos estudios usaron cada tipo de estadío para los transplantes? **(2 pt.)**"
   ]
  },
  {
   "cell_type": "code",
   "execution_count": null,
   "metadata": {
    "deletable": false,
    "nbgrader": {
     "cell_type": "code",
     "checksum": "d7c0b91dae5e20a282cc25071c85b90a",
     "grade": true,
     "grade_id": "prac-1cod",
     "locked": false,
     "points": 1,
     "schema_version": 3,
     "solution": true,
     "task": false
    }
   },
   "outputs": [],
   "source": [
    "# ESCRIBA SU CÓDIGO AQUÍ\n",
    "testthat::fail() # No respuesta - elimine esta línea si escribió una respuesta"
   ]
  },
  {
   "cell_type": "markdown",
   "metadata": {
    "deletable": false,
    "nbgrader": {
     "cell_type": "markdown",
     "checksum": "894fe16470ae55142318416235926ed7",
     "grade": true,
     "grade_id": "prac-1tex",
     "locked": false,
     "points": 1,
     "schema_version": 3,
     "solution": true,
     "task": false
    }
   },
   "source": [
    "ESCRIBA SU RESPUESTA AQUI"
   ]
  },
  {
   "cell_type": "markdown",
   "metadata": {
    "deletable": false,
    "editable": false,
    "nbgrader": {
     "cell_type": "markdown",
     "checksum": "db8548f5de82954daab53158ffbbb6b6",
     "grade": false,
     "grade_id": "prac-2",
     "locked": true,
     "schema_version": 3,
     "solution": false,
     "task": false
    }
   },
   "source": [
    "2) Con base en el `summary()`, ¿cómo parece distribuirse la proporción de plantas que sobrevivieron (`Prop`)? Justifique su respuesta y utilice las medidas de posición y variabilidad que puede obtener del `summary()`. **(2 pts.)**"
   ]
  },
  {
   "cell_type": "markdown",
   "metadata": {
    "deletable": false,
    "nbgrader": {
     "cell_type": "markdown",
     "checksum": "ff5f69d7386550b75b27eed83416d9a6",
     "grade": true,
     "grade_id": "prac-2tex",
     "locked": false,
     "points": 2,
     "schema_version": 3,
     "solution": true,
     "task": false
    }
   },
   "source": [
    "ESCRIBA SU RESPUESTA AQUI"
   ]
  },
  {
   "cell_type": "markdown",
   "metadata": {
    "deletable": false,
    "editable": false,
    "nbgrader": {
     "cell_type": "markdown",
     "checksum": "6b3df4e074944bcc23ed8f185b5e4664",
     "grade": false,
     "grade_id": "prac-3",
     "locked": true,
     "schema_version": 3,
     "solution": false,
     "task": false
    }
   },
   "source": [
    "3) Haga un histograma de la proporción de plantas que sobrevivieron (`Prop`) y analice la *forma* de su distribución, mencionando los tres principales aspectos vistos en clases. ¿Concuerdan los resultados del histograma con los que obtuvo del `summary()`? Justifique su respuesta. **(4 pts.)**"
   ]
  },
  {
   "cell_type": "code",
   "execution_count": null,
   "metadata": {
    "deletable": false,
    "nbgrader": {
     "cell_type": "code",
     "checksum": "fc84a5da96f57075db5991666d7120c7",
     "grade": true,
     "grade_id": "prac-3cod",
     "locked": false,
     "points": 1,
     "schema_version": 3,
     "solution": true,
     "task": false
    }
   },
   "outputs": [],
   "source": [
    "# ESCRIBA SU CÓDIGO AQUÍ\n",
    "testthat::fail() # No respuesta - elimine esta línea si escribió una respuesta"
   ]
  },
  {
   "cell_type": "markdown",
   "metadata": {
    "deletable": false,
    "nbgrader": {
     "cell_type": "markdown",
     "checksum": "07f152b75ec9c088e4e0e394668a2917",
     "grade": true,
     "grade_id": "prac-3tex",
     "locked": false,
     "points": 3,
     "schema_version": 3,
     "solution": true,
     "task": false
    }
   },
   "source": [
    "ESCRIBA SU RESPUESTA AQUI"
   ]
  },
  {
   "cell_type": "markdown",
   "metadata": {
    "deletable": false,
    "editable": false,
    "nbgrader": {
     "cell_type": "markdown",
     "checksum": "a82267c7e4c3da5af88bab22acf78214",
     "grade": false,
     "grade_id": "prac-4",
     "locked": true,
     "schema_version": 3,
     "solution": false,
     "task": false
    }
   },
   "source": [
    "4) Haga un gráfico de dispersión entre la proporción de plantas que sobrevivieron (`Prop`) y el tamaño de muestra del estudio (`Sample.Size`). ¿Parece haber alguna relación clara entre las dos variables? Justifique su respuesta **(2 pts.)**"
   ]
  },
  {
   "cell_type": "code",
   "execution_count": null,
   "metadata": {
    "deletable": false,
    "nbgrader": {
     "cell_type": "code",
     "checksum": "fb4b8dd446e1bf948f02589d9b420eea",
     "grade": true,
     "grade_id": "prac-4cod",
     "locked": false,
     "points": 1,
     "schema_version": 3,
     "solution": true,
     "task": false
    }
   },
   "outputs": [],
   "source": [
    "# ESCRIBA SU CÓDIGO AQUÍ\n",
    "testthat::fail() # No respuesta - elimine esta línea si escribió una respuesta"
   ]
  },
  {
   "cell_type": "markdown",
   "metadata": {
    "deletable": false,
    "nbgrader": {
     "cell_type": "markdown",
     "checksum": "63aae2f0a5971b67f0e8f4f3cc7a1c82",
     "grade": true,
     "grade_id": "prac-4tex",
     "locked": false,
     "points": 1,
     "schema_version": 3,
     "solution": true,
     "task": false
    }
   },
   "source": [
    "ESCRIBA SU RESPUESTA AQUI"
   ]
  },
  {
   "cell_type": "markdown",
   "metadata": {
    "deletable": false,
    "editable": false,
    "nbgrader": {
     "cell_type": "markdown",
     "checksum": "8e53fd54261c1971f118b8c55e1a9c0c",
     "grade": false,
     "grade_id": "prac-5",
     "locked": true,
     "schema_version": 3,
     "solution": false,
     "task": false
    }
   },
   "source": [
    "5) Haga un gráfico de dispersión entre la proporción de plantas que sobrevivieron (`Prop`), pero ahora con el **logaritmo** del tamaño de muestra del estudio (`LOGSample.Size`). ¿Parece haber alguna relación entre las dos variables? ¿Qué ventaja tiene el usar el logaritmo sobre el tamaño de muestra del estudio? Justifique su respuesta. **(3 pts.)**"
   ]
  },
  {
   "cell_type": "code",
   "execution_count": null,
   "metadata": {
    "deletable": false,
    "nbgrader": {
     "cell_type": "code",
     "checksum": "d099de7c7b16df727fccf1272f210b8f",
     "grade": true,
     "grade_id": "prac-5cod",
     "locked": false,
     "points": 1,
     "schema_version": 3,
     "solution": true,
     "task": false
    }
   },
   "outputs": [],
   "source": [
    "# ESCRIBA SU CÓDIGO AQUÍ\n",
    "testthat::fail() # No respuesta - elimine esta línea si escribió una respuesta"
   ]
  },
  {
   "cell_type": "markdown",
   "metadata": {
    "deletable": false,
    "nbgrader": {
     "cell_type": "markdown",
     "checksum": "2dd8d811479dedf6183fd1df1cf9e828",
     "grade": true,
     "grade_id": "prac-5tex",
     "locked": false,
     "points": 2,
     "schema_version": 3,
     "solution": true,
     "task": false
    }
   },
   "source": [
    "ESCRIBA SU RESPUESTA AQUI"
   ]
  },
  {
   "cell_type": "markdown",
   "metadata": {
    "deletable": false,
    "editable": false,
    "nbgrader": {
     "cell_type": "markdown",
     "checksum": "0761bc989456b5ee8d5c034d411c5087",
     "grade": false,
     "grade_id": "prac-6",
     "locked": true,
     "schema_version": 3,
     "solution": false,
     "task": false
    }
   },
   "source": [
    "6) Calcule el promedio, la desviación estándar y el coeficiente de variación de la proporción de plantas que sobrevivieron (`Prop`), para cada uno de los dos estadíos de la semilla. ¿En cuál de los dos estadíos hay mayor variabilidad en la proporción de semillas que sobrevivieron el transplante? Justifique su respuesta. **(5 pts.)**"
   ]
  },
  {
   "cell_type": "code",
   "execution_count": null,
   "metadata": {
    "deletable": false,
    "nbgrader": {
     "cell_type": "code",
     "checksum": "110df29fd4914aef88d44dd6c652a63f",
     "grade": true,
     "grade_id": "prac-6cod",
     "locked": false,
     "points": 3,
     "schema_version": 3,
     "solution": true,
     "task": false
    }
   },
   "outputs": [],
   "source": [
    "# ESCRIBA SU CÓDIGO AQUÍ\n",
    "testthat::fail() # No respuesta - elimine esta línea si escribió una respuesta"
   ]
  },
  {
   "cell_type": "markdown",
   "metadata": {
    "deletable": false,
    "nbgrader": {
     "cell_type": "markdown",
     "checksum": "48920243c00a582a73086db3a844993a",
     "grade": true,
     "grade_id": "prac-6tex",
     "locked": false,
     "points": 2,
     "schema_version": 3,
     "solution": true,
     "task": false
    }
   },
   "source": [
    "ESCRIBA SU RESPUESTA AQUI"
   ]
  },
  {
   "cell_type": "markdown",
   "metadata": {
    "deletable": false,
    "editable": false,
    "nbgrader": {
     "cell_type": "markdown",
     "checksum": "c056698ef3715fdc5a5cd8b8db5ad859",
     "grade": false,
     "grade_id": "prac-7a",
     "locked": true,
     "schema_version": 3,
     "solution": false,
     "task": false
    }
   },
   "source": [
    "7) Suponga que la proporción de semillas que sobrevivieron en un cierto estudio sigue una distribución normal, con media 0,05 y desviación estándar 0,1.\n",
    "\n",
    "a) Calcule el primer cuartil **TEÓRICO** de la proporción de semillas que sobrevivieron en ese estudio e interpretélo. **(3 pts.)**"
   ]
  },
  {
   "cell_type": "code",
   "execution_count": null,
   "metadata": {
    "deletable": false,
    "nbgrader": {
     "cell_type": "code",
     "checksum": "c54f23cea9b7f5435d52aaaccf267166",
     "grade": true,
     "grade_id": "prac-7acod",
     "locked": false,
     "points": 2,
     "schema_version": 3,
     "solution": true,
     "task": false
    }
   },
   "outputs": [],
   "source": [
    "# ESCRIBA SU CÓDIGO AQUÍ\n",
    "testthat::fail() # No respuesta - elimine esta línea si escribió una respuesta"
   ]
  },
  {
   "cell_type": "markdown",
   "metadata": {
    "deletable": false,
    "nbgrader": {
     "cell_type": "markdown",
     "checksum": "97f72d2ff4470c978f6d4d40bc34baa9",
     "grade": true,
     "grade_id": "prac-7atex",
     "locked": false,
     "points": 1,
     "schema_version": 3,
     "solution": true,
     "task": false
    }
   },
   "source": [
    "ESCRIBA SU RESPUESTA AQUI"
   ]
  },
  {
   "cell_type": "markdown",
   "metadata": {
    "deletable": false,
    "editable": false,
    "nbgrader": {
     "cell_type": "markdown",
     "checksum": "32751bea7c57927c5ce5330ab104a95f",
     "grade": false,
     "grade_id": "prac-7b",
     "locked": true,
     "schema_version": 3,
     "solution": false,
     "task": false
    }
   },
   "source": [
    "b) Sabiendo que la proporción es una variable que toma valores entre 0 y 1, ¿tiene sentido el resultado obtenido en el punto a)? ¿A qué se puede deber la obtención de ese valor teórico? **(3 pts.)**"
   ]
  },
  {
   "cell_type": "markdown",
   "metadata": {
    "deletable": false,
    "nbgrader": {
     "cell_type": "markdown",
     "checksum": "2a2828b21c91c37ce97a4d016a501661",
     "grade": true,
     "grade_id": "prac-7btex",
     "locked": false,
     "points": 3,
     "schema_version": 3,
     "solution": true,
     "task": false
    }
   },
   "source": [
    "ESCRIBA SU RESPUESTA AQUI"
   ]
  },
  {
   "cell_type": "markdown",
   "metadata": {
    "deletable": false,
    "editable": false,
    "nbgrader": {
     "cell_type": "markdown",
     "checksum": "f119e605ae6adcab33f78c2cc3713d03",
     "grade": false,
     "grade_id": "final",
     "locked": true,
     "schema_version": 3,
     "solution": false,
     "task": false
    }
   },
   "source": [
    "# <center>¡Mucha suerte!<a class=\"tocSkip\"></center>"
   ]
  }
 ],
 "metadata": {
  "kernelspec": {
   "display_name": "R",
   "language": "R",
   "name": "ir"
  },
  "language_info": {
   "codemirror_mode": "r",
   "file_extension": ".r",
   "mimetype": "text/x-r-source",
   "name": "R",
   "pygments_lexer": "r",
   "version": "4.0.2"
  },
  "toc": {
   "base_numbering": 1,
   "nav_menu": {},
   "number_sections": true,
   "sideBar": true,
   "skip_h1_title": false,
   "title_cell": "Table of Contents",
   "title_sidebar": "Contents",
   "toc_cell": false,
   "toc_position": {},
   "toc_section_display": true,
   "toc_window_display": false
  },
  "varInspector": {
   "cols": {
    "lenName": 16,
    "lenType": 16,
    "lenVar": 40
   },
   "kernels_config": {
    "python": {
     "delete_cmd_postfix": "",
     "delete_cmd_prefix": "del ",
     "library": "var_list.py",
     "varRefreshCmd": "print(var_dic_list())"
    },
    "r": {
     "delete_cmd_postfix": ") ",
     "delete_cmd_prefix": "rm(",
     "library": "var_list.r",
     "varRefreshCmd": "cat(var_dic_list()) "
    }
   },
   "types_to_exclude": [
    "module",
    "function",
    "builtin_function_or_method",
    "instance",
    "_Feature"
   ],
   "window_display": false
  }
 },
 "nbformat": 4,
 "nbformat_minor": 4
}
